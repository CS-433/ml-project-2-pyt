{
 "cells": [
  {
   "cell_type": "code",
   "execution_count": 18,
   "metadata": {},
   "outputs": [],
   "source": [
    "import numpy as np\n",
    "import matplotlib.pyplot as plt\n",
    "import pandas as pd\n",
    "import keras as ks\n",
    "import seaborn as sns\n",
    "from PIL import Image\n",
    "%matplotlib inline"
   ]
  },
  {
   "cell_type": "code",
   "execution_count": 19,
   "metadata": {},
   "outputs": [],
   "source": [
    "featurespath = '../Data/Features/UnusedFeatures/'\n",
    "surv_path = '../Data/Survey/CleanedResults.csv'\n",
    "object_path = '../Data/Features/Object_features.csv'"
   ]
  },
  {
   "cell_type": "markdown",
   "metadata": {},
   "source": [
    "# Image processing"
   ]
  },
  {
   "cell_type": "markdown",
   "metadata": {},
   "source": [
    "Recover pixel threshold data and object data"
   ]
  },
  {
   "cell_type": "code",
   "execution_count": 20,
   "metadata": {},
   "outputs": [],
   "source": [
    "contrast_level = 40\n",
    "thresSup = 130\n",
    "thresInf = 120\n",
    "thresWhite = 235\n",
    "\n",
    "# Read pixel color threshold\n",
    "file_green = 'df_green_pix_inf' + str(thresInf) + '_sup' + str(thresSup) + '_contrast_' + str(contrast_level) + '.csv'\n",
    "file_blue = 'df_blue_pix_inf' + str(thresInf) + '_sup' + str(thresSup) + '_contrast_' + str(contrast_level) + '.csv'\n",
    "file_white= 'df_white_pix_thres' + str(thresWhite) + '_contrast_' + str(contrast_level) + '.csv'\n",
    "\n",
    "df_green_pix = pd.read_csv(featurespath + file_green)\n",
    "df_blue_pix = pd.read_csv(featurespath + file_blue)\n",
    "df_white_pix = pd.read_csv(featurespath + file_white)\n",
    "\n",
    "# Read object features\n",
    "obj = pd.read_csv(object_path)"
   ]
  },
  {
   "cell_type": "markdown",
   "metadata": {},
   "source": [
    "# Survey Answers and Image Ranking"
   ]
  },
  {
   "cell_type": "code",
   "execution_count": 21,
   "metadata": {},
   "outputs": [
    {
     "data": {
      "text/html": [
       "<div>\n",
       "<style scoped>\n",
       "    .dataframe tbody tr th:only-of-type {\n",
       "        vertical-align: middle;\n",
       "    }\n",
       "\n",
       "    .dataframe tbody tr th {\n",
       "        vertical-align: top;\n",
       "    }\n",
       "\n",
       "    .dataframe thead th {\n",
       "        text-align: right;\n",
       "    }\n",
       "</style>\n",
       "<table border=\"1\" class=\"dataframe\">\n",
       "  <thead>\n",
       "    <tr style=\"text-align: right;\">\n",
       "      <th></th>\n",
       "      <th>Age</th>\n",
       "      <th>Percentage of lifetime in a city</th>\n",
       "      <th>Image1 ID</th>\n",
       "      <th>Image2 ID</th>\n",
       "      <th>Winner</th>\n",
       "      <th>Person ID</th>\n",
       "    </tr>\n",
       "  </thead>\n",
       "  <tbody>\n",
       "    <tr>\n",
       "      <th>count</th>\n",
       "      <td>14254.000000</td>\n",
       "      <td>14254.000000</td>\n",
       "      <td>14254.000000</td>\n",
       "      <td>14254.000000</td>\n",
       "      <td>14254.000000</td>\n",
       "      <td>1.425400e+04</td>\n",
       "    </tr>\n",
       "    <tr>\n",
       "      <th>mean</th>\n",
       "      <td>32.559632</td>\n",
       "      <td>0.536940</td>\n",
       "      <td>227.012418</td>\n",
       "      <td>230.548688</td>\n",
       "      <td>230.618353</td>\n",
       "      <td>2.395758e+07</td>\n",
       "    </tr>\n",
       "    <tr>\n",
       "      <th>std</th>\n",
       "      <td>20.909320</td>\n",
       "      <td>0.412010</td>\n",
       "      <td>132.377288</td>\n",
       "      <td>131.419003</td>\n",
       "      <td>131.196153</td>\n",
       "      <td>2.509833e+07</td>\n",
       "    </tr>\n",
       "    <tr>\n",
       "      <th>min</th>\n",
       "      <td>12.000000</td>\n",
       "      <td>0.000000</td>\n",
       "      <td>0.000000</td>\n",
       "      <td>0.000000</td>\n",
       "      <td>0.000000</td>\n",
       "      <td>2.160600e+04</td>\n",
       "    </tr>\n",
       "    <tr>\n",
       "      <th>25%</th>\n",
       "      <td>20.000000</td>\n",
       "      <td>0.000000</td>\n",
       "      <td>112.000000</td>\n",
       "      <td>117.000000</td>\n",
       "      <td>111.000000</td>\n",
       "      <td>2.299160e+06</td>\n",
       "    </tr>\n",
       "    <tr>\n",
       "      <th>50%</th>\n",
       "      <td>22.000000</td>\n",
       "      <td>0.754967</td>\n",
       "      <td>228.000000</td>\n",
       "      <td>233.000000</td>\n",
       "      <td>235.000000</td>\n",
       "      <td>2.013920e+07</td>\n",
       "    </tr>\n",
       "    <tr>\n",
       "      <th>75%</th>\n",
       "      <td>30.000000</td>\n",
       "      <td>0.929360</td>\n",
       "      <td>341.000000</td>\n",
       "      <td>344.000000</td>\n",
       "      <td>338.750000</td>\n",
       "      <td>2.443626e+07</td>\n",
       "    </tr>\n",
       "    <tr>\n",
       "      <th>max</th>\n",
       "      <td>96.000000</td>\n",
       "      <td>1.000000</td>\n",
       "      <td>457.000000</td>\n",
       "      <td>457.000000</td>\n",
       "      <td>457.000000</td>\n",
       "      <td>9.617434e+07</td>\n",
       "    </tr>\n",
       "  </tbody>\n",
       "</table>\n",
       "</div>"
      ],
      "text/plain": [
       "                Age  Percentage of lifetime in a city     Image1 ID  \\\n",
       "count  14254.000000                      14254.000000  14254.000000   \n",
       "mean      32.559632                          0.536940    227.012418   \n",
       "std       20.909320                          0.412010    132.377288   \n",
       "min       12.000000                          0.000000      0.000000   \n",
       "25%       20.000000                          0.000000    112.000000   \n",
       "50%       22.000000                          0.754967    228.000000   \n",
       "75%       30.000000                          0.929360    341.000000   \n",
       "max       96.000000                          1.000000    457.000000   \n",
       "\n",
       "          Image2 ID        Winner     Person ID  \n",
       "count  14254.000000  14254.000000  1.425400e+04  \n",
       "mean     230.548688    230.618353  2.395758e+07  \n",
       "std      131.419003    131.196153  2.509833e+07  \n",
       "min        0.000000      0.000000  2.160600e+04  \n",
       "25%      117.000000    111.000000  2.299160e+06  \n",
       "50%      233.000000    235.000000  2.013920e+07  \n",
       "75%      344.000000    338.750000  2.443626e+07  \n",
       "max      457.000000    457.000000  9.617434e+07  "
      ]
     },
     "execution_count": 21,
     "metadata": {},
     "output_type": "execute_result"
    }
   ],
   "source": [
    "surv = pd.read_csv(surv_path)\n",
    "surv = surv.iloc[: , 1:] #Just to remove this Unnamed 0 column\n",
    "surv.describe()"
   ]
  },
  {
   "cell_type": "markdown",
   "metadata": {},
   "source": [
    "### Build Ranking for images"
   ]
  },
  {
   "cell_type": "code",
   "execution_count": 22,
   "metadata": {},
   "outputs": [],
   "source": [
    "win = pd.DataFrame(surv['Winner'].value_counts())\n",
    "win.sort_index(ascending=True, inplace=True)"
   ]
  },
  {
   "cell_type": "code",
   "execution_count": 23,
   "metadata": {},
   "outputs": [],
   "source": [
    "im1 = pd.DataFrame(surv['Image1 ID'].value_counts())\n",
    "im1.sort_index(ascending=True, inplace=True)"
   ]
  },
  {
   "cell_type": "code",
   "execution_count": 24,
   "metadata": {},
   "outputs": [],
   "source": [
    "im2 = pd.DataFrame(surv['Image2 ID'].value_counts())\n",
    "im2.sort_index(ascending=True, inplace=True)"
   ]
  },
  {
   "cell_type": "code",
   "execution_count": 25,
   "metadata": {},
   "outputs": [],
   "source": [
    "occur = pd.DataFrame(im1.values+im2.values, columns=['Image occurence'])"
   ]
  },
  {
   "cell_type": "code",
   "execution_count": 26,
   "metadata": {},
   "outputs": [],
   "source": [
    "contest = pd.concat([occur, win],axis=1)"
   ]
  },
  {
   "cell_type": "code",
   "execution_count": 27,
   "metadata": {},
   "outputs": [],
   "source": [
    "contest['Win ratio'] = contest['Winner'] / contest['Image occurence']"
   ]
  },
  {
   "cell_type": "code",
   "execution_count": 28,
   "metadata": {},
   "outputs": [],
   "source": [
    "contest.reset_index(inplace=True)\n",
    "contest.fillna(0.0, inplace=True)"
   ]
  },
  {
   "cell_type": "code",
   "execution_count": 29,
   "metadata": {},
   "outputs": [],
   "source": [
    "contest.drop(['Image occurence','Winner'], axis=1, inplace=True)"
   ]
  },
  {
   "cell_type": "code",
   "execution_count": 30,
   "metadata": {},
   "outputs": [],
   "source": [
    "# contest.rename(columns={'index':'Image number'})"
   ]
  },
  {
   "cell_type": "code",
   "execution_count": 31,
   "metadata": {},
   "outputs": [],
   "source": [
    "df_model = pd.merge(contest, obj, left_on='index', right_on='Image number', how='outer')"
   ]
  },
  {
   "cell_type": "code",
   "execution_count": 32,
   "metadata": {},
   "outputs": [],
   "source": [
    "df_model.drop(['index'], axis=1, inplace=True)"
   ]
  },
  {
   "cell_type": "code",
   "execution_count": 33,
   "metadata": {},
   "outputs": [
    {
     "data": {
      "text/html": [
       "<div>\n",
       "<style scoped>\n",
       "    .dataframe tbody tr th:only-of-type {\n",
       "        vertical-align: middle;\n",
       "    }\n",
       "\n",
       "    .dataframe tbody tr th {\n",
       "        vertical-align: top;\n",
       "    }\n",
       "\n",
       "    .dataframe thead th {\n",
       "        text-align: right;\n",
       "    }\n",
       "</style>\n",
       "<table border=\"1\" class=\"dataframe\">\n",
       "  <thead>\n",
       "    <tr style=\"text-align: right;\">\n",
       "      <th></th>\n",
       "      <th>Win ratio</th>\n",
       "      <th>Image number</th>\n",
       "      <th>Reliability</th>\n",
       "      <th>Size of box</th>\n",
       "    </tr>\n",
       "  </thead>\n",
       "  <tbody>\n",
       "    <tr>\n",
       "      <th>count</th>\n",
       "      <td>1956.000000</td>\n",
       "      <td>1956.000000</td>\n",
       "      <td>1910.000000</td>\n",
       "      <td>1910.000000</td>\n",
       "    </tr>\n",
       "    <tr>\n",
       "      <th>mean</th>\n",
       "      <td>0.481547</td>\n",
       "      <td>236.456544</td>\n",
       "      <td>87.853907</td>\n",
       "      <td>5534.005236</td>\n",
       "    </tr>\n",
       "    <tr>\n",
       "      <th>std</th>\n",
       "      <td>0.189512</td>\n",
       "      <td>130.307901</td>\n",
       "      <td>12.191534</td>\n",
       "      <td>10868.136503</td>\n",
       "    </tr>\n",
       "    <tr>\n",
       "      <th>min</th>\n",
       "      <td>0.015873</td>\n",
       "      <td>0.000000</td>\n",
       "      <td>60.056555</td>\n",
       "      <td>42.000000</td>\n",
       "    </tr>\n",
       "    <tr>\n",
       "      <th>25%</th>\n",
       "      <td>0.328767</td>\n",
       "      <td>130.000000</td>\n",
       "      <td>78.582206</td>\n",
       "      <td>272.000000</td>\n",
       "    </tr>\n",
       "    <tr>\n",
       "      <th>50%</th>\n",
       "      <td>0.483333</td>\n",
       "      <td>231.000000</td>\n",
       "      <td>92.697489</td>\n",
       "      <td>1064.000000</td>\n",
       "    </tr>\n",
       "    <tr>\n",
       "      <th>75%</th>\n",
       "      <td>0.632941</td>\n",
       "      <td>358.000000</td>\n",
       "      <td>98.486102</td>\n",
       "      <td>4812.500000</td>\n",
       "    </tr>\n",
       "    <tr>\n",
       "      <th>max</th>\n",
       "      <td>0.916667</td>\n",
       "      <td>457.000000</td>\n",
       "      <td>99.981439</td>\n",
       "      <td>105245.000000</td>\n",
       "    </tr>\n",
       "  </tbody>\n",
       "</table>\n",
       "</div>"
      ],
      "text/plain": [
       "         Win ratio  Image number  Reliability    Size of box\n",
       "count  1956.000000   1956.000000  1910.000000    1910.000000\n",
       "mean      0.481547    236.456544    87.853907    5534.005236\n",
       "std       0.189512    130.307901    12.191534   10868.136503\n",
       "min       0.015873      0.000000    60.056555      42.000000\n",
       "25%       0.328767    130.000000    78.582206     272.000000\n",
       "50%       0.483333    231.000000    92.697489    1064.000000\n",
       "75%       0.632941    358.000000    98.486102    4812.500000\n",
       "max       0.916667    457.000000    99.981439  105245.000000"
      ]
     },
     "execution_count": 33,
     "metadata": {},
     "output_type": "execute_result"
    }
   ],
   "source": [
    "df_model.describe()"
   ]
  },
  {
   "cell_type": "markdown",
   "metadata": {},
   "source": [
    "# Feature engineering"
   ]
  },
  {
   "cell_type": "markdown",
   "metadata": {},
   "source": [
    "Do feature engineering, feature expansion, standardize numerical data, one_hot_encode vehicles and other objects, etc."
   ]
  },
  {
   "cell_type": "markdown",
   "metadata": {},
   "source": [
    "### Building the dataframe"
   ]
  },
  {
   "cell_type": "code",
   "execution_count": 34,
   "metadata": {},
   "outputs": [],
   "source": [
    "pd.set_option('display.max_rows', None)"
   ]
  },
  {
   "cell_type": "code",
   "execution_count": 35,
   "metadata": {},
   "outputs": [],
   "source": [
    "# Do objects have a negative impact (car, truck, traffic light, etc.)"
   ]
  },
  {
   "cell_type": "code",
   "execution_count": 36,
   "metadata": {},
   "outputs": [
    {
     "data": {
      "text/plain": [
       "car              1660\n",
       "person            118\n",
       "motorbike          48\n",
       "truck              31\n",
       "traffic light      20\n",
       "bus                15\n",
       "fire hydrant        6\n",
       "bicycle             4\n",
       "pottedplant         3\n",
       "handbag             3\n",
       "bird                1\n",
       "stop sign           1\n",
       "Name: Object, dtype: int64"
      ]
     },
     "execution_count": 36,
     "metadata": {},
     "output_type": "execute_result"
    }
   ],
   "source": [
    "df_model['Object'].value_counts()"
   ]
  },
  {
   "cell_type": "code",
   "execution_count": 37,
   "metadata": {},
   "outputs": [],
   "source": [
    "# Number of detected objects on images"
   ]
  },
  {
   "cell_type": "code",
   "execution_count": 38,
   "metadata": {},
   "outputs": [],
   "source": [
    "obj_num = df_model['Image number'].value_counts()\n",
    "obj_num.sort_index(ascending=True, inplace=True)\n",
    "obj_num = np.array(obj_num)\n",
    "obj_num = pd.DataFrame(obj_num, columns=['Number of obj.'])"
   ]
  },
  {
   "cell_type": "code",
   "execution_count": 39,
   "metadata": {},
   "outputs": [],
   "source": [
    "# Sum the size of the boxes to get the overall approximate size of objects on the images"
   ]
  },
  {
   "cell_type": "code",
   "execution_count": 40,
   "metadata": {},
   "outputs": [],
   "source": [
    "size = df_model[['Image number','Size of box']].groupby('Image number').sum()\n",
    "# Normalize\n",
    "size = size / 360000"
   ]
  },
  {
   "cell_type": "code",
   "execution_count": 41,
   "metadata": {},
   "outputs": [],
   "source": [
    "df_model.drop(['Object','Reliability','Size of box'], axis=1, inplace=True)"
   ]
  },
  {
   "cell_type": "code",
   "execution_count": 42,
   "metadata": {},
   "outputs": [],
   "source": [
    "df_model = pd.merge(df_model, size, on='Image number', how='outer')"
   ]
  },
  {
   "cell_type": "code",
   "execution_count": 43,
   "metadata": {},
   "outputs": [],
   "source": [
    "df_model_final = df_model.groupby('Image number').mean()"
   ]
  },
  {
   "cell_type": "code",
   "execution_count": 44,
   "metadata": {},
   "outputs": [],
   "source": [
    "# Add the number of detected objects"
   ]
  },
  {
   "cell_type": "code",
   "execution_count": 45,
   "metadata": {},
   "outputs": [],
   "source": [
    "# df_model_final = pd.concat([df_model_final, obj_num], axis=1)"
   ]
  },
  {
   "cell_type": "code",
   "execution_count": 46,
   "metadata": {},
   "outputs": [],
   "source": [
    "# Concatenate green, blue, and white pixels"
   ]
  },
  {
   "cell_type": "code",
   "execution_count": 47,
   "metadata": {},
   "outputs": [],
   "source": [
    "green_blue_pix = pd.merge(df_green_pix, df_blue_pix, on='Image number')"
   ]
  },
  {
   "cell_type": "code",
   "execution_count": 48,
   "metadata": {},
   "outputs": [],
   "source": [
    "color_pix = pd.merge(green_blue_pix, df_white_pix, on='Image number')"
   ]
  },
  {
   "cell_type": "code",
   "execution_count": 49,
   "metadata": {},
   "outputs": [],
   "source": [
    "# Add green, blue, and white pixels"
   ]
  },
  {
   "cell_type": "code",
   "execution_count": 50,
   "metadata": {},
   "outputs": [
    {
     "data": {
      "text/html": [
       "<div>\n",
       "<style scoped>\n",
       "    .dataframe tbody tr th:only-of-type {\n",
       "        vertical-align: middle;\n",
       "    }\n",
       "\n",
       "    .dataframe tbody tr th {\n",
       "        vertical-align: top;\n",
       "    }\n",
       "\n",
       "    .dataframe thead th {\n",
       "        text-align: right;\n",
       "    }\n",
       "</style>\n",
       "<table border=\"1\" class=\"dataframe\">\n",
       "  <thead>\n",
       "    <tr style=\"text-align: right;\">\n",
       "      <th></th>\n",
       "      <th>Image number</th>\n",
       "      <th>Win ratio</th>\n",
       "      <th>Size of box</th>\n",
       "      <th>Green_pix</th>\n",
       "      <th>Blue_pix</th>\n",
       "      <th>White_pix</th>\n",
       "    </tr>\n",
       "  </thead>\n",
       "  <tbody>\n",
       "    <tr>\n",
       "      <th>count</th>\n",
       "      <td>458.000000</td>\n",
       "      <td>458.000000</td>\n",
       "      <td>458.000000</td>\n",
       "      <td>458.000000</td>\n",
       "      <td>458.000000</td>\n",
       "      <td>458.000000</td>\n",
       "    </tr>\n",
       "    <tr>\n",
       "      <th>mean</th>\n",
       "      <td>228.500000</td>\n",
       "      <td>0.500151</td>\n",
       "      <td>0.064107</td>\n",
       "      <td>568.065502</td>\n",
       "      <td>1473.554585</td>\n",
       "      <td>21922.237991</td>\n",
       "    </tr>\n",
       "    <tr>\n",
       "      <th>std</th>\n",
       "      <td>132.357471</td>\n",
       "      <td>0.195314</td>\n",
       "      <td>0.068860</td>\n",
       "      <td>794.844108</td>\n",
       "      <td>3977.164938</td>\n",
       "      <td>15165.923447</td>\n",
       "    </tr>\n",
       "    <tr>\n",
       "      <th>min</th>\n",
       "      <td>0.000000</td>\n",
       "      <td>0.015873</td>\n",
       "      <td>0.000000</td>\n",
       "      <td>4.000000</td>\n",
       "      <td>4.000000</td>\n",
       "      <td>1026.000000</td>\n",
       "    </tr>\n",
       "    <tr>\n",
       "      <th>25%</th>\n",
       "      <td>114.250000</td>\n",
       "      <td>0.338524</td>\n",
       "      <td>0.006792</td>\n",
       "      <td>109.500000</td>\n",
       "      <td>156.500000</td>\n",
       "      <td>11219.750000</td>\n",
       "    </tr>\n",
       "    <tr>\n",
       "      <th>50%</th>\n",
       "      <td>228.500000</td>\n",
       "      <td>0.508484</td>\n",
       "      <td>0.041458</td>\n",
       "      <td>300.000000</td>\n",
       "      <td>360.000000</td>\n",
       "      <td>18300.500000</td>\n",
       "    </tr>\n",
       "    <tr>\n",
       "      <th>75%</th>\n",
       "      <td>342.750000</td>\n",
       "      <td>0.650534</td>\n",
       "      <td>0.099104</td>\n",
       "      <td>700.750000</td>\n",
       "      <td>896.500000</td>\n",
       "      <td>29083.500000</td>\n",
       "    </tr>\n",
       "    <tr>\n",
       "      <th>max</th>\n",
       "      <td>457.000000</td>\n",
       "      <td>0.916667</td>\n",
       "      <td>0.360564</td>\n",
       "      <td>7168.000000</td>\n",
       "      <td>33592.000000</td>\n",
       "      <td>132716.000000</td>\n",
       "    </tr>\n",
       "  </tbody>\n",
       "</table>\n",
       "</div>"
      ],
      "text/plain": [
       "       Image number   Win ratio  Size of box    Green_pix      Blue_pix  \\\n",
       "count    458.000000  458.000000   458.000000   458.000000    458.000000   \n",
       "mean     228.500000    0.500151     0.064107   568.065502   1473.554585   \n",
       "std      132.357471    0.195314     0.068860   794.844108   3977.164938   \n",
       "min        0.000000    0.015873     0.000000     4.000000      4.000000   \n",
       "25%      114.250000    0.338524     0.006792   109.500000    156.500000   \n",
       "50%      228.500000    0.508484     0.041458   300.000000    360.000000   \n",
       "75%      342.750000    0.650534     0.099104   700.750000    896.500000   \n",
       "max      457.000000    0.916667     0.360564  7168.000000  33592.000000   \n",
       "\n",
       "           White_pix  \n",
       "count     458.000000  \n",
       "mean    21922.237991  \n",
       "std     15165.923447  \n",
       "min      1026.000000  \n",
       "25%     11219.750000  \n",
       "50%     18300.500000  \n",
       "75%     29083.500000  \n",
       "max    132716.000000  "
      ]
     },
     "execution_count": 50,
     "metadata": {},
     "output_type": "execute_result"
    }
   ],
   "source": [
    "df_model_final = pd.merge(df_model_final, color_pix, on='Image number', how='outer')\n",
    "df_model_final.describe()"
   ]
  },
  {
   "cell_type": "markdown",
   "metadata": {},
   "source": [
    "### Adding OneHotEncoded clusters to features"
   ]
  },
  {
   "cell_type": "code",
   "execution_count": 51,
   "metadata": {},
   "outputs": [],
   "source": [
    "groups_onehot = pd.read_csv(featurespath + 'VGGclusters.csv')"
   ]
  },
  {
   "cell_type": "code",
   "execution_count": 52,
   "metadata": {},
   "outputs": [],
   "source": [
    "df_model_final = pd.merge(df_model_final, groups_onehot, on='Image number', how='outer')"
   ]
  },
  {
   "cell_type": "code",
   "execution_count": 53,
   "metadata": {},
   "outputs": [
    {
     "data": {
      "text/html": [
       "<div>\n",
       "<style scoped>\n",
       "    .dataframe tbody tr th:only-of-type {\n",
       "        vertical-align: middle;\n",
       "    }\n",
       "\n",
       "    .dataframe tbody tr th {\n",
       "        vertical-align: top;\n",
       "    }\n",
       "\n",
       "    .dataframe thead th {\n",
       "        text-align: right;\n",
       "    }\n",
       "</style>\n",
       "<table border=\"1\" class=\"dataframe\">\n",
       "  <thead>\n",
       "    <tr style=\"text-align: right;\">\n",
       "      <th></th>\n",
       "      <th>Image number</th>\n",
       "      <th>Win ratio</th>\n",
       "      <th>Size of box</th>\n",
       "      <th>Green_pix</th>\n",
       "      <th>Blue_pix</th>\n",
       "      <th>White_pix</th>\n",
       "      <th>cluster_0</th>\n",
       "      <th>cluster_1</th>\n",
       "      <th>cluster_2</th>\n",
       "      <th>cluster_3</th>\n",
       "      <th>cluster_4</th>\n",
       "      <th>cluster_5</th>\n",
       "      <th>cluster_6</th>\n",
       "      <th>cluster_7</th>\n",
       "      <th>cluster_8</th>\n",
       "      <th>cluster_9</th>\n",
       "    </tr>\n",
       "  </thead>\n",
       "  <tbody>\n",
       "    <tr>\n",
       "      <th>count</th>\n",
       "      <td>458.000000</td>\n",
       "      <td>458.000000</td>\n",
       "      <td>458.000000</td>\n",
       "      <td>458.000000</td>\n",
       "      <td>458.000000</td>\n",
       "      <td>458.000000</td>\n",
       "      <td>458.000000</td>\n",
       "      <td>458.000000</td>\n",
       "      <td>458.000000</td>\n",
       "      <td>458.000000</td>\n",
       "      <td>458.000000</td>\n",
       "      <td>458.000000</td>\n",
       "      <td>458.000000</td>\n",
       "      <td>458.000000</td>\n",
       "      <td>458.000000</td>\n",
       "      <td>458.000000</td>\n",
       "    </tr>\n",
       "    <tr>\n",
       "      <th>mean</th>\n",
       "      <td>228.500000</td>\n",
       "      <td>0.500151</td>\n",
       "      <td>0.064107</td>\n",
       "      <td>568.065502</td>\n",
       "      <td>1473.554585</td>\n",
       "      <td>21922.237991</td>\n",
       "      <td>0.133188</td>\n",
       "      <td>0.087336</td>\n",
       "      <td>0.082969</td>\n",
       "      <td>0.111354</td>\n",
       "      <td>0.080786</td>\n",
       "      <td>0.124454</td>\n",
       "      <td>0.111354</td>\n",
       "      <td>0.058952</td>\n",
       "      <td>0.096070</td>\n",
       "      <td>0.113537</td>\n",
       "    </tr>\n",
       "    <tr>\n",
       "      <th>std</th>\n",
       "      <td>132.357471</td>\n",
       "      <td>0.195314</td>\n",
       "      <td>0.068860</td>\n",
       "      <td>794.844108</td>\n",
       "      <td>3977.164938</td>\n",
       "      <td>15165.923447</td>\n",
       "      <td>0.340149</td>\n",
       "      <td>0.282636</td>\n",
       "      <td>0.276138</td>\n",
       "      <td>0.314914</td>\n",
       "      <td>0.272804</td>\n",
       "      <td>0.330460</td>\n",
       "      <td>0.314914</td>\n",
       "      <td>0.235792</td>\n",
       "      <td>0.295009</td>\n",
       "      <td>0.317595</td>\n",
       "    </tr>\n",
       "    <tr>\n",
       "      <th>min</th>\n",
       "      <td>0.000000</td>\n",
       "      <td>0.015873</td>\n",
       "      <td>0.000000</td>\n",
       "      <td>4.000000</td>\n",
       "      <td>4.000000</td>\n",
       "      <td>1026.000000</td>\n",
       "      <td>0.000000</td>\n",
       "      <td>0.000000</td>\n",
       "      <td>0.000000</td>\n",
       "      <td>0.000000</td>\n",
       "      <td>0.000000</td>\n",
       "      <td>0.000000</td>\n",
       "      <td>0.000000</td>\n",
       "      <td>0.000000</td>\n",
       "      <td>0.000000</td>\n",
       "      <td>0.000000</td>\n",
       "    </tr>\n",
       "    <tr>\n",
       "      <th>25%</th>\n",
       "      <td>114.250000</td>\n",
       "      <td>0.338524</td>\n",
       "      <td>0.006792</td>\n",
       "      <td>109.500000</td>\n",
       "      <td>156.500000</td>\n",
       "      <td>11219.750000</td>\n",
       "      <td>0.000000</td>\n",
       "      <td>0.000000</td>\n",
       "      <td>0.000000</td>\n",
       "      <td>0.000000</td>\n",
       "      <td>0.000000</td>\n",
       "      <td>0.000000</td>\n",
       "      <td>0.000000</td>\n",
       "      <td>0.000000</td>\n",
       "      <td>0.000000</td>\n",
       "      <td>0.000000</td>\n",
       "    </tr>\n",
       "    <tr>\n",
       "      <th>50%</th>\n",
       "      <td>228.500000</td>\n",
       "      <td>0.508484</td>\n",
       "      <td>0.041458</td>\n",
       "      <td>300.000000</td>\n",
       "      <td>360.000000</td>\n",
       "      <td>18300.500000</td>\n",
       "      <td>0.000000</td>\n",
       "      <td>0.000000</td>\n",
       "      <td>0.000000</td>\n",
       "      <td>0.000000</td>\n",
       "      <td>0.000000</td>\n",
       "      <td>0.000000</td>\n",
       "      <td>0.000000</td>\n",
       "      <td>0.000000</td>\n",
       "      <td>0.000000</td>\n",
       "      <td>0.000000</td>\n",
       "    </tr>\n",
       "    <tr>\n",
       "      <th>75%</th>\n",
       "      <td>342.750000</td>\n",
       "      <td>0.650534</td>\n",
       "      <td>0.099104</td>\n",
       "      <td>700.750000</td>\n",
       "      <td>896.500000</td>\n",
       "      <td>29083.500000</td>\n",
       "      <td>0.000000</td>\n",
       "      <td>0.000000</td>\n",
       "      <td>0.000000</td>\n",
       "      <td>0.000000</td>\n",
       "      <td>0.000000</td>\n",
       "      <td>0.000000</td>\n",
       "      <td>0.000000</td>\n",
       "      <td>0.000000</td>\n",
       "      <td>0.000000</td>\n",
       "      <td>0.000000</td>\n",
       "    </tr>\n",
       "    <tr>\n",
       "      <th>max</th>\n",
       "      <td>457.000000</td>\n",
       "      <td>0.916667</td>\n",
       "      <td>0.360564</td>\n",
       "      <td>7168.000000</td>\n",
       "      <td>33592.000000</td>\n",
       "      <td>132716.000000</td>\n",
       "      <td>1.000000</td>\n",
       "      <td>1.000000</td>\n",
       "      <td>1.000000</td>\n",
       "      <td>1.000000</td>\n",
       "      <td>1.000000</td>\n",
       "      <td>1.000000</td>\n",
       "      <td>1.000000</td>\n",
       "      <td>1.000000</td>\n",
       "      <td>1.000000</td>\n",
       "      <td>1.000000</td>\n",
       "    </tr>\n",
       "  </tbody>\n",
       "</table>\n",
       "</div>"
      ],
      "text/plain": [
       "       Image number   Win ratio  Size of box    Green_pix      Blue_pix  \\\n",
       "count    458.000000  458.000000   458.000000   458.000000    458.000000   \n",
       "mean     228.500000    0.500151     0.064107   568.065502   1473.554585   \n",
       "std      132.357471    0.195314     0.068860   794.844108   3977.164938   \n",
       "min        0.000000    0.015873     0.000000     4.000000      4.000000   \n",
       "25%      114.250000    0.338524     0.006792   109.500000    156.500000   \n",
       "50%      228.500000    0.508484     0.041458   300.000000    360.000000   \n",
       "75%      342.750000    0.650534     0.099104   700.750000    896.500000   \n",
       "max      457.000000    0.916667     0.360564  7168.000000  33592.000000   \n",
       "\n",
       "           White_pix   cluster_0   cluster_1   cluster_2   cluster_3  \\\n",
       "count     458.000000  458.000000  458.000000  458.000000  458.000000   \n",
       "mean    21922.237991    0.133188    0.087336    0.082969    0.111354   \n",
       "std     15165.923447    0.340149    0.282636    0.276138    0.314914   \n",
       "min      1026.000000    0.000000    0.000000    0.000000    0.000000   \n",
       "25%     11219.750000    0.000000    0.000000    0.000000    0.000000   \n",
       "50%     18300.500000    0.000000    0.000000    0.000000    0.000000   \n",
       "75%     29083.500000    0.000000    0.000000    0.000000    0.000000   \n",
       "max    132716.000000    1.000000    1.000000    1.000000    1.000000   \n",
       "\n",
       "        cluster_4   cluster_5   cluster_6   cluster_7   cluster_8   cluster_9  \n",
       "count  458.000000  458.000000  458.000000  458.000000  458.000000  458.000000  \n",
       "mean     0.080786    0.124454    0.111354    0.058952    0.096070    0.113537  \n",
       "std      0.272804    0.330460    0.314914    0.235792    0.295009    0.317595  \n",
       "min      0.000000    0.000000    0.000000    0.000000    0.000000    0.000000  \n",
       "25%      0.000000    0.000000    0.000000    0.000000    0.000000    0.000000  \n",
       "50%      0.000000    0.000000    0.000000    0.000000    0.000000    0.000000  \n",
       "75%      0.000000    0.000000    0.000000    0.000000    0.000000    0.000000  \n",
       "max      1.000000    1.000000    1.000000    1.000000    1.000000    1.000000  "
      ]
     },
     "execution_count": 53,
     "metadata": {},
     "output_type": "execute_result"
    }
   ],
   "source": [
    "df_model_final.describe()"
   ]
  },
  {
   "cell_type": "markdown",
   "metadata": {},
   "source": []
  },
  {
   "cell_type": "markdown",
   "metadata": {},
   "source": [
    "### Dropping features"
   ]
  },
  {
   "cell_type": "code",
   "execution_count": 54,
   "metadata": {},
   "outputs": [],
   "source": [
    "def drop_features(features_to_drop):\n",
    "    for f in features_to_drop:\n",
    "        df_model_final.drop(f, axis=1, inplace=True)"
   ]
  },
  {
   "cell_type": "code",
   "execution_count": 55,
   "metadata": {},
   "outputs": [],
   "source": [
    "features_to_drop = []\n",
    "# features_to_drop.append('Brightness')\n",
    "# features_to_drop.append('Green')\n",
    "# features_to_drop.append('Blue')\n",
    "# features_to_drop.append('Red')\n",
    "# features_to_drop.append('Size of box')\n",
    "# features_to_drop.append('Green_pix')\n",
    "# features_to_drop.append('Blue_pix')\n",
    "# features_to_drop.append('White_pix')\n",
    "\n",
    "drop_features(features_to_drop)"
   ]
  },
  {
   "cell_type": "markdown",
   "metadata": {},
   "source": [
    "### Feature correlation"
   ]
  },
  {
   "cell_type": "code",
   "execution_count": 56,
   "metadata": {},
   "outputs": [
    {
     "data": {
      "image/png": "[encoded data removed]",
      "text/plain": [
       "<Figure size 1152x720 with 2 Axes>"
      ]
     },
     "metadata": {
      "needs_background": "light"
     },
     "output_type": "display_data"
    }
   ],
   "source": [
    "correlations = df_model_final.copy()\n",
    "\n",
    "correlations.drop('Image number', axis=1, inplace=True)\n",
    "correlations.drop('Win ratio', axis=1, inplace=True)\n",
    "\n",
    "corrMatrix = correlations.corr()\n",
    "\n",
    "plt.figure(figsize = (16,10))\n",
    "sns.heatmap(corrMatrix, annot=True);"
   ]
  },
  {
   "cell_type": "code",
   "execution_count": 57,
   "metadata": {},
   "outputs": [],
   "source": [
    "def correlate_features(features_to_correlate):\n",
    "    for col in features_to_correlate:\n",
    "        for col2 in features_to_correlate:\n",
    "            if(col != col2):\n",
    "                corr_name = 'Corr_' + col + '_' + col2\n",
    "                df_model_final[corr_name] = df_model_final[col]*df_model_final[col2]"
   ]
  },
  {
   "cell_type": "code",
   "execution_count": 58,
   "metadata": {},
   "outputs": [],
   "source": [
    "features_to_correlate = []\n",
    "# features_to_correlate.append('Brightness')\n",
    "# features_to_correlate.append('Green')\n",
    "# features_to_correlate.append('Blue')\n",
    "# features_to_correlate.append('Red')\n",
    "# features_to_correlate.append('Size of box')\n",
    "# features_to_correlate.append('Green_pix')\n",
    "# features_to_correlate.append('Blue_pix')\n",
    "# features_to_correlate.append('White_pix')\n",
    "\n",
    "correlate_features(features_to_correlate)"
   ]
  },
  {
   "cell_type": "markdown",
   "metadata": {},
   "source": [
    "### Final model"
   ]
  },
  {
   "cell_type": "code",
   "execution_count": 59,
   "metadata": {},
   "outputs": [
    {
     "data": {
      "text/html": [
       "<div>\n",
       "<style scoped>\n",
       "    .dataframe tbody tr th:only-of-type {\n",
       "        vertical-align: middle;\n",
       "    }\n",
       "\n",
       "    .dataframe tbody tr th {\n",
       "        vertical-align: top;\n",
       "    }\n",
       "\n",
       "    .dataframe thead th {\n",
       "        text-align: right;\n",
       "    }\n",
       "</style>\n",
       "<table border=\"1\" class=\"dataframe\">\n",
       "  <thead>\n",
       "    <tr style=\"text-align: right;\">\n",
       "      <th></th>\n",
       "      <th>Image number</th>\n",
       "      <th>Win ratio</th>\n",
       "      <th>Size of box</th>\n",
       "      <th>Green_pix</th>\n",
       "      <th>Blue_pix</th>\n",
       "      <th>White_pix</th>\n",
       "      <th>cluster_0</th>\n",
       "      <th>cluster_1</th>\n",
       "      <th>cluster_2</th>\n",
       "      <th>cluster_3</th>\n",
       "      <th>cluster_4</th>\n",
       "      <th>cluster_5</th>\n",
       "      <th>cluster_6</th>\n",
       "      <th>cluster_7</th>\n",
       "      <th>cluster_8</th>\n",
       "      <th>cluster_9</th>\n",
       "    </tr>\n",
       "  </thead>\n",
       "  <tbody>\n",
       "    <tr>\n",
       "      <th>count</th>\n",
       "      <td>458.000000</td>\n",
       "      <td>458.000000</td>\n",
       "      <td>458.000000</td>\n",
       "      <td>458.000000</td>\n",
       "      <td>458.000000</td>\n",
       "      <td>458.000000</td>\n",
       "      <td>458.000000</td>\n",
       "      <td>458.000000</td>\n",
       "      <td>458.000000</td>\n",
       "      <td>458.000000</td>\n",
       "      <td>458.000000</td>\n",
       "      <td>458.000000</td>\n",
       "      <td>458.000000</td>\n",
       "      <td>458.000000</td>\n",
       "      <td>458.000000</td>\n",
       "      <td>458.000000</td>\n",
       "    </tr>\n",
       "    <tr>\n",
       "      <th>mean</th>\n",
       "      <td>228.500000</td>\n",
       "      <td>0.500151</td>\n",
       "      <td>0.064107</td>\n",
       "      <td>568.065502</td>\n",
       "      <td>1473.554585</td>\n",
       "      <td>21922.237991</td>\n",
       "      <td>0.133188</td>\n",
       "      <td>0.087336</td>\n",
       "      <td>0.082969</td>\n",
       "      <td>0.111354</td>\n",
       "      <td>0.080786</td>\n",
       "      <td>0.124454</td>\n",
       "      <td>0.111354</td>\n",
       "      <td>0.058952</td>\n",
       "      <td>0.096070</td>\n",
       "      <td>0.113537</td>\n",
       "    </tr>\n",
       "    <tr>\n",
       "      <th>std</th>\n",
       "      <td>132.357471</td>\n",
       "      <td>0.195314</td>\n",
       "      <td>0.068860</td>\n",
       "      <td>794.844108</td>\n",
       "      <td>3977.164938</td>\n",
       "      <td>15165.923447</td>\n",
       "      <td>0.340149</td>\n",
       "      <td>0.282636</td>\n",
       "      <td>0.276138</td>\n",
       "      <td>0.314914</td>\n",
       "      <td>0.272804</td>\n",
       "      <td>0.330460</td>\n",
       "      <td>0.314914</td>\n",
       "      <td>0.235792</td>\n",
       "      <td>0.295009</td>\n",
       "      <td>0.317595</td>\n",
       "    </tr>\n",
       "    <tr>\n",
       "      <th>min</th>\n",
       "      <td>0.000000</td>\n",
       "      <td>0.015873</td>\n",
       "      <td>0.000000</td>\n",
       "      <td>4.000000</td>\n",
       "      <td>4.000000</td>\n",
       "      <td>1026.000000</td>\n",
       "      <td>0.000000</td>\n",
       "      <td>0.000000</td>\n",
       "      <td>0.000000</td>\n",
       "      <td>0.000000</td>\n",
       "      <td>0.000000</td>\n",
       "      <td>0.000000</td>\n",
       "      <td>0.000000</td>\n",
       "      <td>0.000000</td>\n",
       "      <td>0.000000</td>\n",
       "      <td>0.000000</td>\n",
       "    </tr>\n",
       "    <tr>\n",
       "      <th>25%</th>\n",
       "      <td>114.250000</td>\n",
       "      <td>0.338524</td>\n",
       "      <td>0.006792</td>\n",
       "      <td>109.500000</td>\n",
       "      <td>156.500000</td>\n",
       "      <td>11219.750000</td>\n",
       "      <td>0.000000</td>\n",
       "      <td>0.000000</td>\n",
       "      <td>0.000000</td>\n",
       "      <td>0.000000</td>\n",
       "      <td>0.000000</td>\n",
       "      <td>0.000000</td>\n",
       "      <td>0.000000</td>\n",
       "      <td>0.000000</td>\n",
       "      <td>0.000000</td>\n",
       "      <td>0.000000</td>\n",
       "    </tr>\n",
       "    <tr>\n",
       "      <th>50%</th>\n",
       "      <td>228.500000</td>\n",
       "      <td>0.508484</td>\n",
       "      <td>0.041458</td>\n",
       "      <td>300.000000</td>\n",
       "      <td>360.000000</td>\n",
       "      <td>18300.500000</td>\n",
       "      <td>0.000000</td>\n",
       "      <td>0.000000</td>\n",
       "      <td>0.000000</td>\n",
       "      <td>0.000000</td>\n",
       "      <td>0.000000</td>\n",
       "      <td>0.000000</td>\n",
       "      <td>0.000000</td>\n",
       "      <td>0.000000</td>\n",
       "      <td>0.000000</td>\n",
       "      <td>0.000000</td>\n",
       "    </tr>\n",
       "    <tr>\n",
       "      <th>75%</th>\n",
       "      <td>342.750000</td>\n",
       "      <td>0.650534</td>\n",
       "      <td>0.099104</td>\n",
       "      <td>700.750000</td>\n",
       "      <td>896.500000</td>\n",
       "      <td>29083.500000</td>\n",
       "      <td>0.000000</td>\n",
       "      <td>0.000000</td>\n",
       "      <td>0.000000</td>\n",
       "      <td>0.000000</td>\n",
       "      <td>0.000000</td>\n",
       "      <td>0.000000</td>\n",
       "      <td>0.000000</td>\n",
       "      <td>0.000000</td>\n",
       "      <td>0.000000</td>\n",
       "      <td>0.000000</td>\n",
       "    </tr>\n",
       "    <tr>\n",
       "      <th>max</th>\n",
       "      <td>457.000000</td>\n",
       "      <td>0.916667</td>\n",
       "      <td>0.360564</td>\n",
       "      <td>7168.000000</td>\n",
       "      <td>33592.000000</td>\n",
       "      <td>132716.000000</td>\n",
       "      <td>1.000000</td>\n",
       "      <td>1.000000</td>\n",
       "      <td>1.000000</td>\n",
       "      <td>1.000000</td>\n",
       "      <td>1.000000</td>\n",
       "      <td>1.000000</td>\n",
       "      <td>1.000000</td>\n",
       "      <td>1.000000</td>\n",
       "      <td>1.000000</td>\n",
       "      <td>1.000000</td>\n",
       "    </tr>\n",
       "  </tbody>\n",
       "</table>\n",
       "</div>"
      ],
      "text/plain": [
       "       Image number   Win ratio  Size of box    Green_pix      Blue_pix  \\\n",
       "count    458.000000  458.000000   458.000000   458.000000    458.000000   \n",
       "mean     228.500000    0.500151     0.064107   568.065502   1473.554585   \n",
       "std      132.357471    0.195314     0.068860   794.844108   3977.164938   \n",
       "min        0.000000    0.015873     0.000000     4.000000      4.000000   \n",
       "25%      114.250000    0.338524     0.006792   109.500000    156.500000   \n",
       "50%      228.500000    0.508484     0.041458   300.000000    360.000000   \n",
       "75%      342.750000    0.650534     0.099104   700.750000    896.500000   \n",
       "max      457.000000    0.916667     0.360564  7168.000000  33592.000000   \n",
       "\n",
       "           White_pix   cluster_0   cluster_1   cluster_2   cluster_3  \\\n",
       "count     458.000000  458.000000  458.000000  458.000000  458.000000   \n",
       "mean    21922.237991    0.133188    0.087336    0.082969    0.111354   \n",
       "std     15165.923447    0.340149    0.282636    0.276138    0.314914   \n",
       "min      1026.000000    0.000000    0.000000    0.000000    0.000000   \n",
       "25%     11219.750000    0.000000    0.000000    0.000000    0.000000   \n",
       "50%     18300.500000    0.000000    0.000000    0.000000    0.000000   \n",
       "75%     29083.500000    0.000000    0.000000    0.000000    0.000000   \n",
       "max    132716.000000    1.000000    1.000000    1.000000    1.000000   \n",
       "\n",
       "        cluster_4   cluster_5   cluster_6   cluster_7   cluster_8   cluster_9  \n",
       "count  458.000000  458.000000  458.000000  458.000000  458.000000  458.000000  \n",
       "mean     0.080786    0.124454    0.111354    0.058952    0.096070    0.113537  \n",
       "std      0.272804    0.330460    0.314914    0.235792    0.295009    0.317595  \n",
       "min      0.000000    0.000000    0.000000    0.000000    0.000000    0.000000  \n",
       "25%      0.000000    0.000000    0.000000    0.000000    0.000000    0.000000  \n",
       "50%      0.000000    0.000000    0.000000    0.000000    0.000000    0.000000  \n",
       "75%      0.000000    0.000000    0.000000    0.000000    0.000000    0.000000  \n",
       "max      1.000000    1.000000    1.000000    1.000000    1.000000    1.000000  "
      ]
     },
     "execution_count": 59,
     "metadata": {},
     "output_type": "execute_result"
    }
   ],
   "source": [
    "df_model_final.describe()"
   ]
  },
  {
   "cell_type": "code",
   "execution_count": 60,
   "metadata": {},
   "outputs": [
    {
     "data": {
      "image/png": "[encoded data removed]",
      "text/plain": [
       "<Figure size 1008x720 with 16 Axes>"
      ]
     },
     "metadata": {
      "needs_background": "light"
     },
     "output_type": "display_data"
    }
   ],
   "source": [
    "# plots distribution\n",
    "fig = plt.figure(figsize=(14,10))\n",
    "\n",
    "for i in range(df_model_final.columns.shape[0]):\n",
    "    col = df_model_final.iloc[:,i]\n",
    "    ax = plt.subplot(5, 4 ,i+1)\n",
    "    sns.histplot(col, stat=\"count\",ax = ax, bins = 50)\n",
    "    \n",
    "# set the spacing between subplots\n",
    "plt.subplots_adjust(left=0.1,bottom=0.1, right=0.9, \n",
    "                    top=0.9, wspace=0.4, hspace=0.8)\n",
    "\n",
    "fig.suptitle(\"Distribution of numerical data\")\n",
    "\n",
    "plt.show()"
   ]
  },
  {
   "cell_type": "code",
   "execution_count": 61,
   "metadata": {},
   "outputs": [
    {
     "data": {
      "image/png": "[encoded data removed]",
      "text/plain": [
       "<Figure size 432x288 with 1 Axes>"
      ]
     },
     "metadata": {
      "needs_background": "light"
     },
     "output_type": "display_data"
    }
   ],
   "source": [
    "df_model_final['Win ratio'].hist(bins=25)\n",
    "plt.title('Win ratio histogram')\n",
    "plt.xlabel('Win ratio')\n",
    "plt.ylabel('Frequency')\n",
    "plt.show()"
   ]
  },
  {
   "cell_type": "markdown",
   "metadata": {},
   "source": [
    "## Projecting in 2D (PCA)"
   ]
  },
  {
   "cell_type": "code",
   "execution_count": 62,
   "metadata": {},
   "outputs": [],
   "source": [
    "from sklearn.preprocessing   import StandardScaler\n",
    "from sklearn.preprocessing   import PolynomialFeatures\n",
    "from sklearn.decomposition   import PCA"
   ]
  },
  {
   "cell_type": "code",
   "execution_count": 63,
   "metadata": {},
   "outputs": [],
   "source": [
    "# Select target variable into an ARRAY called `y` and features into a DATAFRAME called  `X` \n",
    "y = np.array(df_model_final['Win ratio'])\n",
    "features = list(set(list(df_model_final.columns)) - set(['Win ratio']))\n",
    "X = df_model_final.loc[:, features]\n",
    "#X"
   ]
  },
  {
   "cell_type": "code",
   "execution_count": 64,
   "metadata": {},
   "outputs": [],
   "source": [
    "scaler = StandardScaler()\n",
    "X_stand = scaler.fit_transform(X)\n",
    "\n",
    "pca2 = PCA(n_components=2)\n",
    "pca2.fit(X_stand)\n",
    "X_proj = pca2.transform(X_stand)"
   ]
  },
  {
   "cell_type": "code",
   "execution_count": 65,
   "metadata": {},
   "outputs": [
    {
     "data": {
      "image/png": "[encoded data removed]",
      "text/plain": [
       "<Figure size 576x432 with 1 Axes>"
      ]
     },
     "metadata": {
      "needs_background": "light"
     },
     "output_type": "display_data"
    }
   ],
   "source": [
    "fig, axes = plt.subplots(nrows = 1, ncols = 1, figsize = (8, 6))\n",
    "plt.scatter(X_proj[:,0], X_proj[:, 1], s = 20)\n",
    "plt.title(\"2D representation of the data using PCA\")\n",
    "plt.xlabel(\"Principal component 1\")\n",
    "plt.ylabel(\"Principal component 2\")\n",
    "plt.grid()\n",
    "plt.show()"
   ]
  },
  {
   "cell_type": "code",
   "execution_count": 66,
   "metadata": {},
   "outputs": [
    {
     "data": {
      "text/plain": [
       "array([0.11249851, 0.09708526])"
      ]
     },
     "execution_count": 66,
     "metadata": {},
     "output_type": "execute_result"
    }
   ],
   "source": [
    "pca2.explained_variance_ratio_"
   ]
  },
  {
   "cell_type": "code",
   "execution_count": 67,
   "metadata": {},
   "outputs": [
    {
     "data": {
      "image/png": "[encoded data removed]",
      "text/plain": [
       "<Figure size 1296x432 with 2 Axes>"
      ]
     },
     "metadata": {
      "needs_background": "light"
     },
     "output_type": "display_data"
    }
   ],
   "source": [
    "_, cols = X_stand.shape\n",
    "\n",
    "pca = PCA(n_components = cols)\n",
    "X_new = pca.fit_transform(X_stand)\n",
    "exp_var = pca.explained_variance_ratio_\n",
    "\n",
    "x = range(len(exp_var))\n",
    "sum_exp_var = np.zeros((len(exp_var),1))\n",
    "prev = 0\n",
    "for i in x:\n",
    "    sum_exp_var[i] = prev+exp_var[i]\n",
    "    prev = sum_exp_var[i]\n",
    "    \n",
    "fig, ax = plt.subplots(figsize = (18,6))\n",
    "plt.subplot(1,2,1)\n",
    "plt.bar(x, exp_var)\n",
    "plt.title('Explained variance of each PC')\n",
    "plt.xlabel('Principal component')\n",
    "plt.ylabel('Explained variance')\n",
    "plt.subplot(1,2,2)\n",
    "plt.plot(x, sum_exp_var)\n",
    "plt.title('Accumulated explained variance')\n",
    "plt.xlabel('Principal component')\n",
    "plt.ylabel('Explained variance')\n",
    "plt.grid()\n",
    "plt.axhline(y=0.95, color = 'red', linestyle = '--', label = \"95% explained variance\")\n",
    "plt.legend()\n",
    "plt.show()"
   ]
  },
  {
   "cell_type": "markdown",
   "metadata": {},
   "source": [
    "## Build a Model"
   ]
  },
  {
   "cell_type": "code",
   "execution_count": 68,
   "metadata": {},
   "outputs": [],
   "source": [
    "import os\n",
    "import math\n",
    "import random\n",
    "import itertools\n",
    "\n",
    "import numpy as np    \n",
    "import pandas as pd\n",
    "\n",
    "import matplotlib \n",
    "import matplotlib.pyplot as plt\n",
    "from matplotlib.colors import ListedColormap\n",
    "\n",
    "import seaborn as sns\n",
    "sns.set(style=\"white\")\n",
    "\n",
    "from math import log\n",
    "\n",
    "from sklearn.dummy           import DummyClassifier\n",
    "from sklearn.linear_model    import LinearRegression\n",
    "from sklearn.linear_model    import LogisticRegression\n",
    "from sklearn.linear_model    import Lasso\n",
    "from sklearn.neighbors       import KNeighborsClassifier\n",
    "from sklearn.svm             import SVC\n",
    "from sklearn.svm             import SVR\n",
    "from sklearn.tree            import DecisionTreeClassifier\n",
    "from sklearn.ensemble        import RandomForestClassifier\n",
    "\n",
    "from sklearn.metrics         import confusion_matrix\n",
    "from sklearn.metrics         import roc_curve\n",
    "from sklearn.metrics         import roc_auc_score\n",
    "from sklearn.metrics         import accuracy_score\n",
    "from sklearn.metrics         import mean_squared_error\n",
    "from sklearn.metrics         import r2_score\n",
    "from sklearn.metrics         import classification_report\n",
    "\n",
    "from sklearn.pipeline        import Pipeline\n",
    "\n",
    "from sklearn.model_selection import train_test_split\n",
    "from sklearn.model_selection import KFold\n",
    "\n",
    "import warnings\n",
    "warnings.filterwarnings('ignore') # ignore some warnings \n",
    "\n",
    "SEED = 123456789   # Define a random seed so random steps can be replicated. "
   ]
  },
  {
   "cell_type": "code",
   "execution_count": 69,
   "metadata": {},
   "outputs": [],
   "source": [
    "# df_model_final = df_model_final[:457]\n",
    "df_model_final = df_model_final.dropna()"
   ]
  },
  {
   "cell_type": "code",
   "execution_count": 70,
   "metadata": {},
   "outputs": [],
   "source": [
    "# Select target variable into an ARRAY called `y` and features into a DATAFRAME called  `X` \n",
    "y = np.array(df_model_final['Win ratio'])\n",
    "features = list(set(list(df_model_final.columns)) - set(['Win ratio']))\n",
    "X = df_model_final.loc[:, features]"
   ]
  },
  {
   "cell_type": "code",
   "execution_count": 71,
   "metadata": {},
   "outputs": [],
   "source": [
    "# Divide data into a training set and a testing set using the train_test_split() function\n",
    "#   NOTE: Please call the subsamples `X_train` ,  `X_test` , `y_train` , `y_test` so we can follow your code\n",
    "X_train, X_test, y_train, y_test = train_test_split(X, y, test_size=0.20, random_state=SEED)"
   ]
  },
  {
   "cell_type": "code",
   "execution_count": 72,
   "metadata": {},
   "outputs": [],
   "source": [
    "def rss(y, y_hat):\n",
    "    return sum( [ (yi - yi_hat)**2  for yi, yi_hat in zip(y, y_hat)] )\n",
    "\n",
    "def mse(y, y_hat, p=0):\n",
    "    return math.sqrt( (rss(y, y_hat))/ (len(y)-p-1) )"
   ]
  },
  {
   "cell_type": "markdown",
   "metadata": {},
   "source": [
    "# Predicting the appeal of images"
   ]
  },
  {
   "cell_type": "markdown",
   "metadata": {},
   "source": [
    "## Regression models"
   ]
  },
  {
   "cell_type": "markdown",
   "metadata": {},
   "source": [
    "### Baseline"
   ]
  },
  {
   "cell_type": "code",
   "execution_count": 73,
   "metadata": {},
   "outputs": [
    {
     "name": "stdout",
     "output_type": "stream",
     "text": [
      "Average appeal is 0.5024\n"
     ]
    }
   ],
   "source": [
    "y_pred = [np.mean(y_train)]*len(y_test)\n",
    "print(\"Average appeal is\", np.round(np.mean(y_train), decimals = 4))"
   ]
  },
  {
   "cell_type": "code",
   "execution_count": 74,
   "metadata": {},
   "outputs": [
    {
     "name": "stdout",
     "output_type": "stream",
     "text": [
      "Baseline mean square error: 0.1798\n"
     ]
    }
   ],
   "source": [
    "mse_baseline = mse(y_test, y_pred)\n",
    "print(\"Baseline mean square error:\", round(mse(y_test, y_pred), 4))"
   ]
  },
  {
   "cell_type": "code",
   "execution_count": 75,
   "metadata": {},
   "outputs": [],
   "source": [
    "# plt.plot(y_pred,y_test, linestyle='', marker='o', markersize=3)\n",
    "# sns.kdeplot(y_pred,y_test, cmap=\"Reds\", shade=True)\n",
    "# plt.plot([0,1],[0,1])\n",
    "# plt.xlim([0,1])\n",
    "# plt.ylim([0,1])\n",
    "# plt.title('Baseline model')\n",
    "# plt.xlabel('Appeal predictions')\n",
    "# plt.ylabel('Real appeal')\n",
    "# plt.show()"
   ]
  },
  {
   "cell_type": "markdown",
   "metadata": {},
   "source": [
    "### Linear Model with Lasso"
   ]
  },
  {
   "cell_type": "code",
   "execution_count": 76,
   "metadata": {},
   "outputs": [],
   "source": [
    "estimators = []\n",
    "estimators.append(('standardize', StandardScaler()))         # tell pipeline to standardize features\n",
    "estimators.append(('ols_model_l1', Lasso()))                 # tell pipeline to use a linear model with lasso\n",
    "pipeline_lasso = Pipeline(estimators) "
   ]
  },
  {
   "cell_type": "code",
   "execution_count": 77,
   "metadata": {},
   "outputs": [
    {
     "data": {
      "text/plain": [
       "{'memory': None,\n",
       " 'steps': [('standardize', StandardScaler()), ('ols_model_l1', Lasso())],\n",
       " 'verbose': False,\n",
       " 'standardize': StandardScaler(),\n",
       " 'ols_model_l1': Lasso(),\n",
       " 'standardize__copy': True,\n",
       " 'standardize__with_mean': True,\n",
       " 'standardize__with_std': True,\n",
       " 'ols_model_l1__alpha': 1.0,\n",
       " 'ols_model_l1__copy_X': True,\n",
       " 'ols_model_l1__fit_intercept': True,\n",
       " 'ols_model_l1__max_iter': 1000,\n",
       " 'ols_model_l1__normalize': 'deprecated',\n",
       " 'ols_model_l1__positive': False,\n",
       " 'ols_model_l1__precompute': False,\n",
       " 'ols_model_l1__random_state': None,\n",
       " 'ols_model_l1__selection': 'cyclic',\n",
       " 'ols_model_l1__tol': 0.0001,\n",
       " 'ols_model_l1__warm_start': False}"
      ]
     },
     "execution_count": 77,
     "metadata": {},
     "output_type": "execute_result"
    }
   ],
   "source": [
    "pipeline_lasso.get_params()"
   ]
  },
  {
   "cell_type": "code",
   "execution_count": 78,
   "metadata": {},
   "outputs": [
    {
     "data": {
      "text/html": [
       "<div>\n",
       "<style scoped>\n",
       "    .dataframe tbody tr th:only-of-type {\n",
       "        vertical-align: middle;\n",
       "    }\n",
       "\n",
       "    .dataframe tbody tr th {\n",
       "        vertical-align: top;\n",
       "    }\n",
       "\n",
       "    .dataframe thead th {\n",
       "        text-align: right;\n",
       "    }\n",
       "</style>\n",
       "<table border=\"1\" class=\"dataframe\">\n",
       "  <thead>\n",
       "    <tr style=\"text-align: right;\">\n",
       "      <th></th>\n",
       "      <th>lambda</th>\n",
       "      <th>MSE-mean</th>\n",
       "      <th>MSE-std</th>\n",
       "    </tr>\n",
       "  </thead>\n",
       "  <tbody>\n",
       "    <tr>\n",
       "      <th>0</th>\n",
       "      <td>1.000000e-07</td>\n",
       "      <td>0.18446</td>\n",
       "      <td>0.017357</td>\n",
       "    </tr>\n",
       "    <tr>\n",
       "      <th>1</th>\n",
       "      <td>2.212216e-07</td>\n",
       "      <td>0.18446</td>\n",
       "      <td>0.017357</td>\n",
       "    </tr>\n",
       "    <tr>\n",
       "      <th>2</th>\n",
       "      <td>4.893901e-07</td>\n",
       "      <td>0.18446</td>\n",
       "      <td>0.017357</td>\n",
       "    </tr>\n",
       "    <tr>\n",
       "      <th>3</th>\n",
       "      <td>1.082637e-06</td>\n",
       "      <td>0.18446</td>\n",
       "      <td>0.017357</td>\n",
       "    </tr>\n",
       "    <tr>\n",
       "      <th>4</th>\n",
       "      <td>2.395027e-06</td>\n",
       "      <td>0.18446</td>\n",
       "      <td>0.017357</td>\n",
       "    </tr>\n",
       "    <tr>\n",
       "      <th>5</th>\n",
       "      <td>5.298317e-06</td>\n",
       "      <td>0.18446</td>\n",
       "      <td>0.017357</td>\n",
       "    </tr>\n",
       "    <tr>\n",
       "      <th>6</th>\n",
       "      <td>1.172102e-05</td>\n",
       "      <td>0.18446</td>\n",
       "      <td>0.017357</td>\n",
       "    </tr>\n",
       "    <tr>\n",
       "      <th>7</th>\n",
       "      <td>2.592944e-05</td>\n",
       "      <td>0.18446</td>\n",
       "      <td>0.017357</td>\n",
       "    </tr>\n",
       "    <tr>\n",
       "      <th>8</th>\n",
       "      <td>5.736153e-05</td>\n",
       "      <td>0.18442</td>\n",
       "      <td>0.017317</td>\n",
       "    </tr>\n",
       "    <tr>\n",
       "      <th>9</th>\n",
       "      <td>1.268961e-04</td>\n",
       "      <td>0.18440</td>\n",
       "      <td>0.017314</td>\n",
       "    </tr>\n",
       "    <tr>\n",
       "      <th>10</th>\n",
       "      <td>2.807216e-04</td>\n",
       "      <td>0.18434</td>\n",
       "      <td>0.017296</td>\n",
       "    </tr>\n",
       "    <tr>\n",
       "      <th>11</th>\n",
       "      <td>6.210169e-04</td>\n",
       "      <td>0.18424</td>\n",
       "      <td>0.017212</td>\n",
       "    </tr>\n",
       "    <tr>\n",
       "      <th>12</th>\n",
       "      <td>1.373824e-03</td>\n",
       "      <td>0.18406</td>\n",
       "      <td>0.017016</td>\n",
       "    </tr>\n",
       "    <tr>\n",
       "      <th>13</th>\n",
       "      <td>3.039195e-03</td>\n",
       "      <td>0.18382</td>\n",
       "      <td>0.016581</td>\n",
       "    </tr>\n",
       "    <tr>\n",
       "      <th>14</th>\n",
       "      <td>6.723358e-03</td>\n",
       "      <td>0.18386</td>\n",
       "      <td>0.015793</td>\n",
       "    </tr>\n",
       "    <tr>\n",
       "      <th>15</th>\n",
       "      <td>1.487352e-02</td>\n",
       "      <td>0.18558</td>\n",
       "      <td>0.013644</td>\n",
       "    </tr>\n",
       "    <tr>\n",
       "      <th>16</th>\n",
       "      <td>3.290345e-02</td>\n",
       "      <td>0.19138</td>\n",
       "      <td>0.011142</td>\n",
       "    </tr>\n",
       "    <tr>\n",
       "      <th>17</th>\n",
       "      <td>7.278954e-02</td>\n",
       "      <td>0.20082</td>\n",
       "      <td>0.010001</td>\n",
       "    </tr>\n",
       "    <tr>\n",
       "      <th>18</th>\n",
       "      <td>1.610262e-01</td>\n",
       "      <td>0.20082</td>\n",
       "      <td>0.010001</td>\n",
       "    </tr>\n",
       "    <tr>\n",
       "      <th>19</th>\n",
       "      <td>3.562248e-01</td>\n",
       "      <td>0.20082</td>\n",
       "      <td>0.010001</td>\n",
       "    </tr>\n",
       "    <tr>\n",
       "      <th>20</th>\n",
       "      <td>7.880463e-01</td>\n",
       "      <td>0.20082</td>\n",
       "      <td>0.010001</td>\n",
       "    </tr>\n",
       "    <tr>\n",
       "      <th>21</th>\n",
       "      <td>1.743329e+00</td>\n",
       "      <td>0.20082</td>\n",
       "      <td>0.010001</td>\n",
       "    </tr>\n",
       "    <tr>\n",
       "      <th>22</th>\n",
       "      <td>3.856620e+00</td>\n",
       "      <td>0.20082</td>\n",
       "      <td>0.010001</td>\n",
       "    </tr>\n",
       "    <tr>\n",
       "      <th>23</th>\n",
       "      <td>8.531679e+00</td>\n",
       "      <td>0.20082</td>\n",
       "      <td>0.010001</td>\n",
       "    </tr>\n",
       "    <tr>\n",
       "      <th>24</th>\n",
       "      <td>1.887392e+01</td>\n",
       "      <td>0.20082</td>\n",
       "      <td>0.010001</td>\n",
       "    </tr>\n",
       "    <tr>\n",
       "      <th>25</th>\n",
       "      <td>4.175319e+01</td>\n",
       "      <td>0.20082</td>\n",
       "      <td>0.010001</td>\n",
       "    </tr>\n",
       "    <tr>\n",
       "      <th>26</th>\n",
       "      <td>9.236709e+01</td>\n",
       "      <td>0.20082</td>\n",
       "      <td>0.010001</td>\n",
       "    </tr>\n",
       "    <tr>\n",
       "      <th>27</th>\n",
       "      <td>2.043360e+02</td>\n",
       "      <td>0.20082</td>\n",
       "      <td>0.010001</td>\n",
       "    </tr>\n",
       "    <tr>\n",
       "      <th>28</th>\n",
       "      <td>4.520354e+02</td>\n",
       "      <td>0.20082</td>\n",
       "      <td>0.010001</td>\n",
       "    </tr>\n",
       "    <tr>\n",
       "      <th>29</th>\n",
       "      <td>1.000000e+03</td>\n",
       "      <td>0.20082</td>\n",
       "      <td>0.010001</td>\n",
       "    </tr>\n",
       "  </tbody>\n",
       "</table>\n",
       "</div>"
      ],
      "text/plain": [
       "          lambda  MSE-mean   MSE-std\n",
       "0   1.000000e-07   0.18446  0.017357\n",
       "1   2.212216e-07   0.18446  0.017357\n",
       "2   4.893901e-07   0.18446  0.017357\n",
       "3   1.082637e-06   0.18446  0.017357\n",
       "4   2.395027e-06   0.18446  0.017357\n",
       "5   5.298317e-06   0.18446  0.017357\n",
       "6   1.172102e-05   0.18446  0.017357\n",
       "7   2.592944e-05   0.18446  0.017357\n",
       "8   5.736153e-05   0.18442  0.017317\n",
       "9   1.268961e-04   0.18440  0.017314\n",
       "10  2.807216e-04   0.18434  0.017296\n",
       "11  6.210169e-04   0.18424  0.017212\n",
       "12  1.373824e-03   0.18406  0.017016\n",
       "13  3.039195e-03   0.18382  0.016581\n",
       "14  6.723358e-03   0.18386  0.015793\n",
       "15  1.487352e-02   0.18558  0.013644\n",
       "16  3.290345e-02   0.19138  0.011142\n",
       "17  7.278954e-02   0.20082  0.010001\n",
       "18  1.610262e-01   0.20082  0.010001\n",
       "19  3.562248e-01   0.20082  0.010001\n",
       "20  7.880463e-01   0.20082  0.010001\n",
       "21  1.743329e+00   0.20082  0.010001\n",
       "22  3.856620e+00   0.20082  0.010001\n",
       "23  8.531679e+00   0.20082  0.010001\n",
       "24  1.887392e+01   0.20082  0.010001\n",
       "25  4.175319e+01   0.20082  0.010001\n",
       "26  9.236709e+01   0.20082  0.010001\n",
       "27  2.043360e+02   0.20082  0.010001\n",
       "28  4.520354e+02   0.20082  0.010001\n",
       "29  1.000000e+03   0.20082  0.010001"
      ]
     },
     "metadata": {},
     "output_type": "display_data"
    }
   ],
   "source": [
    "###Linear model with LASSO###\n",
    "x_train = np.array(X_train)\n",
    "x_test = np.array(X_test)\n",
    "y_train = np.array(y_train)\n",
    "y_test = np.array(y_test)\n",
    "\n",
    "lam_range = np.logspace(-7,3,30)\n",
    "\n",
    "splits_num = 5\n",
    "\n",
    "MSE = np.zeros((splits_num, len(lam_range)))\n",
    "\n",
    "for i in range(len(lam_range)):\n",
    "\n",
    "    kf = KFold(n_splits=splits_num)\n",
    "\n",
    "    k = 0\n",
    "    for learn_index, val_index in kf.split(x_train):\n",
    "        x_train_train, x_train_val = x_train[learn_index], x_train[val_index]\n",
    "        y_train_train, y_train_val = y_train[learn_index], y_train[val_index]\n",
    "\n",
    "        pipeline_lasso.set_params(ols_model_l1__alpha = lam_range[i])\n",
    "        pipeline_lasso.fit(x_train_train, y_train_train)\n",
    "        y_pred_lasso_proba = pipeline_lasso.predict(x_train_val)\n",
    "\n",
    "        MSE[k, i] = round(mse(y_train_val, y_pred_lasso_proba), 4)\n",
    "\n",
    "        k = k+1\n",
    "\n",
    "mse_mean = np.zeros(len(lam_range))\n",
    "mse_std = np.zeros(len(lam_range))\n",
    "for i in range(len(lam_range)):\n",
    "    mse_mean[i] = MSE[:, i].mean()\n",
    "    mse_std[i] = MSE[:, i].std()\n",
    "    \n",
    "MSE_df = pd.DataFrame(lam_range.reshape(-1,1), columns = [\"lambda\"])\n",
    "MSE_df[\"MSE-mean\"] = mse_mean[:]\n",
    "MSE_df[\"MSE-std\"] = mse_std[:]\n",
    "display(MSE_df)"
   ]
  },
  {
   "cell_type": "code",
   "execution_count": 79,
   "metadata": {},
   "outputs": [],
   "source": [
    "# plt.plot(MSE_df['lambda'],MSE_df['MSE-mean'],label='MSE-mean')\n",
    "# plt.fill_between(MSE_df['lambda'], MSE_df['MSE-mean']-MSE_df['MSE-std'],\n",
    "#                  MSE_df['MSE-mean']+MSE_df['MSE-std'],'b', alpha=0.4, label='MSE +/- 1 STD')\n",
    "# plt.xscale('log')\n",
    "# plt.title('Hyperparameter tuning')\n",
    "# plt.xlabel('lambda')\n",
    "# plt.ylabel('Cross-val. MSE')\n",
    "# plt.legend(loc='upper left')\n",
    "# plt.show()"
   ]
  },
  {
   "cell_type": "code",
   "execution_count": 80,
   "metadata": {},
   "outputs": [],
   "source": [
    "lambda_opt = 0.00013 # MSE is 0.15334"
   ]
  },
  {
   "cell_type": "markdown",
   "metadata": {},
   "source": [
    "### SVR"
   ]
  },
  {
   "cell_type": "code",
   "execution_count": 81,
   "metadata": {},
   "outputs": [
    {
     "data": {
      "text/plain": [
       "{'memory': None,\n",
       " 'steps': [('standardize', StandardScaler()), ('svm_model', SVR())],\n",
       " 'verbose': False,\n",
       " 'standardize': StandardScaler(),\n",
       " 'svm_model': SVR(),\n",
       " 'standardize__copy': True,\n",
       " 'standardize__with_mean': True,\n",
       " 'standardize__with_std': True,\n",
       " 'svm_model__C': 1.0,\n",
       " 'svm_model__cache_size': 200,\n",
       " 'svm_model__coef0': 0.0,\n",
       " 'svm_model__degree': 3,\n",
       " 'svm_model__epsilon': 0.1,\n",
       " 'svm_model__gamma': 'scale',\n",
       " 'svm_model__kernel': 'rbf',\n",
       " 'svm_model__max_iter': -1,\n",
       " 'svm_model__shrinking': True,\n",
       " 'svm_model__tol': 0.001,\n",
       " 'svm_model__verbose': False}"
      ]
     },
     "execution_count": 81,
     "metadata": {},
     "output_type": "execute_result"
    }
   ],
   "source": [
    "###Support Vector Regression###\n",
    "\n",
    "estimators = []\n",
    "estimators.append(('standardize', StandardScaler()))         # tell pipeline to standardize features\n",
    "estimators.append(('svm_model', SVR()))  # tell pipeline to use an SVR model with lasso\n",
    "pipeline_svr = Pipeline(estimators) \n",
    "pipeline_svr.get_params()"
   ]
  },
  {
   "cell_type": "code",
   "execution_count": 82,
   "metadata": {},
   "outputs": [
    {
     "data": {
      "text/html": [
       "<div>\n",
       "<style scoped>\n",
       "    .dataframe tbody tr th:only-of-type {\n",
       "        vertical-align: middle;\n",
       "    }\n",
       "\n",
       "    .dataframe tbody tr th {\n",
       "        vertical-align: top;\n",
       "    }\n",
       "\n",
       "    .dataframe thead th {\n",
       "        text-align: right;\n",
       "    }\n",
       "</style>\n",
       "<table border=\"1\" class=\"dataframe\">\n",
       "  <thead>\n",
       "    <tr style=\"text-align: right;\">\n",
       "      <th></th>\n",
       "      <th>C</th>\n",
       "      <th>MSE-mean</th>\n",
       "    </tr>\n",
       "  </thead>\n",
       "  <tbody>\n",
       "    <tr>\n",
       "      <th>0</th>\n",
       "      <td>1.000000e-07</td>\n",
       "      <td>0.1927</td>\n",
       "    </tr>\n",
       "    <tr>\n",
       "      <th>1</th>\n",
       "      <td>2.212216e-07</td>\n",
       "      <td>0.1927</td>\n",
       "    </tr>\n",
       "    <tr>\n",
       "      <th>2</th>\n",
       "      <td>4.893901e-07</td>\n",
       "      <td>0.1927</td>\n",
       "    </tr>\n",
       "    <tr>\n",
       "      <th>3</th>\n",
       "      <td>1.082637e-06</td>\n",
       "      <td>0.1927</td>\n",
       "    </tr>\n",
       "    <tr>\n",
       "      <th>4</th>\n",
       "      <td>2.395027e-06</td>\n",
       "      <td>0.1927</td>\n",
       "    </tr>\n",
       "    <tr>\n",
       "      <th>5</th>\n",
       "      <td>5.298317e-06</td>\n",
       "      <td>0.1927</td>\n",
       "    </tr>\n",
       "    <tr>\n",
       "      <th>6</th>\n",
       "      <td>1.172102e-05</td>\n",
       "      <td>0.1926</td>\n",
       "    </tr>\n",
       "    <tr>\n",
       "      <th>7</th>\n",
       "      <td>2.592944e-05</td>\n",
       "      <td>0.1926</td>\n",
       "    </tr>\n",
       "    <tr>\n",
       "      <th>8</th>\n",
       "      <td>5.736153e-05</td>\n",
       "      <td>0.1926</td>\n",
       "    </tr>\n",
       "    <tr>\n",
       "      <th>9</th>\n",
       "      <td>1.268961e-04</td>\n",
       "      <td>0.1924</td>\n",
       "    </tr>\n",
       "    <tr>\n",
       "      <th>10</th>\n",
       "      <td>2.807216e-04</td>\n",
       "      <td>0.1920</td>\n",
       "    </tr>\n",
       "    <tr>\n",
       "      <th>11</th>\n",
       "      <td>6.210169e-04</td>\n",
       "      <td>0.1913</td>\n",
       "    </tr>\n",
       "    <tr>\n",
       "      <th>12</th>\n",
       "      <td>1.373824e-03</td>\n",
       "      <td>0.1902</td>\n",
       "    </tr>\n",
       "    <tr>\n",
       "      <th>13</th>\n",
       "      <td>3.039195e-03</td>\n",
       "      <td>0.1873</td>\n",
       "    </tr>\n",
       "    <tr>\n",
       "      <th>14</th>\n",
       "      <td>6.723358e-03</td>\n",
       "      <td>0.1826</td>\n",
       "    </tr>\n",
       "    <tr>\n",
       "      <th>15</th>\n",
       "      <td>1.487352e-02</td>\n",
       "      <td>0.1779</td>\n",
       "    </tr>\n",
       "    <tr>\n",
       "      <th>16</th>\n",
       "      <td>3.290345e-02</td>\n",
       "      <td>0.1732</td>\n",
       "    </tr>\n",
       "    <tr>\n",
       "      <th>17</th>\n",
       "      <td>7.278954e-02</td>\n",
       "      <td>0.1714</td>\n",
       "    </tr>\n",
       "    <tr>\n",
       "      <th>18</th>\n",
       "      <td>1.610262e-01</td>\n",
       "      <td>0.1647</td>\n",
       "    </tr>\n",
       "    <tr>\n",
       "      <th>19</th>\n",
       "      <td>3.562248e-01</td>\n",
       "      <td>0.1617</td>\n",
       "    </tr>\n",
       "    <tr>\n",
       "      <th>20</th>\n",
       "      <td>7.880463e-01</td>\n",
       "      <td>0.1614</td>\n",
       "    </tr>\n",
       "    <tr>\n",
       "      <th>21</th>\n",
       "      <td>1.743329e+00</td>\n",
       "      <td>0.1655</td>\n",
       "    </tr>\n",
       "    <tr>\n",
       "      <th>22</th>\n",
       "      <td>3.856620e+00</td>\n",
       "      <td>0.1797</td>\n",
       "    </tr>\n",
       "    <tr>\n",
       "      <th>23</th>\n",
       "      <td>8.531679e+00</td>\n",
       "      <td>0.1934</td>\n",
       "    </tr>\n",
       "    <tr>\n",
       "      <th>24</th>\n",
       "      <td>1.887392e+01</td>\n",
       "      <td>0.2148</td>\n",
       "    </tr>\n",
       "    <tr>\n",
       "      <th>25</th>\n",
       "      <td>4.175319e+01</td>\n",
       "      <td>0.2388</td>\n",
       "    </tr>\n",
       "    <tr>\n",
       "      <th>26</th>\n",
       "      <td>9.236709e+01</td>\n",
       "      <td>0.2711</td>\n",
       "    </tr>\n",
       "    <tr>\n",
       "      <th>27</th>\n",
       "      <td>2.043360e+02</td>\n",
       "      <td>0.2919</td>\n",
       "    </tr>\n",
       "    <tr>\n",
       "      <th>28</th>\n",
       "      <td>4.520354e+02</td>\n",
       "      <td>0.2992</td>\n",
       "    </tr>\n",
       "    <tr>\n",
       "      <th>29</th>\n",
       "      <td>1.000000e+03</td>\n",
       "      <td>0.3071</td>\n",
       "    </tr>\n",
       "  </tbody>\n",
       "</table>\n",
       "</div>"
      ],
      "text/plain": [
       "               C  MSE-mean\n",
       "0   1.000000e-07    0.1927\n",
       "1   2.212216e-07    0.1927\n",
       "2   4.893901e-07    0.1927\n",
       "3   1.082637e-06    0.1927\n",
       "4   2.395027e-06    0.1927\n",
       "5   5.298317e-06    0.1927\n",
       "6   1.172102e-05    0.1926\n",
       "7   2.592944e-05    0.1926\n",
       "8   5.736153e-05    0.1926\n",
       "9   1.268961e-04    0.1924\n",
       "10  2.807216e-04    0.1920\n",
       "11  6.210169e-04    0.1913\n",
       "12  1.373824e-03    0.1902\n",
       "13  3.039195e-03    0.1873\n",
       "14  6.723358e-03    0.1826\n",
       "15  1.487352e-02    0.1779\n",
       "16  3.290345e-02    0.1732\n",
       "17  7.278954e-02    0.1714\n",
       "18  1.610262e-01    0.1647\n",
       "19  3.562248e-01    0.1617\n",
       "20  7.880463e-01    0.1614\n",
       "21  1.743329e+00    0.1655\n",
       "22  3.856620e+00    0.1797\n",
       "23  8.531679e+00    0.1934\n",
       "24  1.887392e+01    0.2148\n",
       "25  4.175319e+01    0.2388\n",
       "26  9.236709e+01    0.2711\n",
       "27  2.043360e+02    0.2919\n",
       "28  4.520354e+02    0.2992\n",
       "29  1.000000e+03    0.3071"
      ]
     },
     "metadata": {},
     "output_type": "display_data"
    }
   ],
   "source": [
    "X_train_train, X_train_val, y_train_train, y_train_val = train_test_split(X_train, y_train, test_size=0.25, random_state=SEED)\n",
    "\n",
    "c_range = np.logspace(-7,3,30)\n",
    "mse_mean = np.zeros(len(c_range))\n",
    "\n",
    "for i in range(len(c_range)):\n",
    "    pipeline_svr.set_params(svm_model__C = c_range[i])\n",
    "    pipeline_svr.fit(X_train_train, y_train_train)\n",
    "    y_pred_svr = pipeline_svr.predict(X_train_val)\n",
    "    mse_mean[i] = round(mse(y_train_val, y_pred_svr), 4)\n",
    "                    \n",
    "mse_df = pd.DataFrame(c_range.reshape(-1,1), columns = [\"C\"])\n",
    "mse_df[\"MSE-mean\"] = mse_mean[:]\n",
    "display(mse_df)"
   ]
  },
  {
   "cell_type": "code",
   "execution_count": 83,
   "metadata": {},
   "outputs": [],
   "source": [
    "# plt.plot(mse_df['C'],mse_df['MSE-mean'], label='MSE-mean')\n",
    "# plt.fill_between(mse_df['C'], mse_df['MSE-mean']-mse_df['MSE-std'],\n",
    "#                  mse_df['MSE-mean']+mse_df['MSE-std'],'b', alpha=0.4, label='MSE +/- 1 STD')\n",
    "# plt.xscale('log')\n",
    "# plt.title('Hyperparameter tuning')\n",
    "# plt.xlabel('c')\n",
    "# plt.ylabel('MSE')\n",
    "# plt.legend(loc='upper left')\n",
    "# plt.show()"
   ]
  },
  {
   "cell_type": "code",
   "execution_count": 84,
   "metadata": {},
   "outputs": [],
   "source": [
    "c_opt = 0.07 # MSE is 0.1396"
   ]
  },
  {
   "cell_type": "markdown",
   "metadata": {},
   "source": [
    "### Comparing models\n",
    "Both regularised models reach very similar performances in terms of mean square error. However, the LinReg performs slightly better. This better performance is still present on the test set."
   ]
  },
  {
   "cell_type": "markdown",
   "metadata": {},
   "source": [
    "### Test score"
   ]
  },
  {
   "cell_type": "markdown",
   "metadata": {},
   "source": [
    "#### Linear Regression model"
   ]
  },
  {
   "cell_type": "code",
   "execution_count": 85,
   "metadata": {},
   "outputs": [
    {
     "name": "stdout",
     "output_type": "stream",
     "text": [
      "Testing MSE (LASSO): 0.1652\n",
      "Decrease in error with respect to baseline: 8.09 %\n"
     ]
    }
   ],
   "source": [
    "pipeline_lasso.set_params(ols_model_l1__alpha = lambda_opt)\n",
    "pipeline_lasso.fit(X_train, y_train)\n",
    "y_pred_lasso = pipeline_lasso.predict(X_test)\n",
    "print(\"Testing MSE (LASSO):\", round(mse(y_test, y_pred_lasso), 4))\n",
    "print(\"Decrease in error with respect to baseline:\", np.round((mse_baseline-mse(y_test, y_pred_lasso))/mse_baseline*100, decimals = 2), \"%\")"
   ]
  },
  {
   "cell_type": "code",
   "execution_count": 86,
   "metadata": {},
   "outputs": [],
   "source": [
    "linreglasso_results = {'Predicted_val': y_pred_lasso, 'Real_val': y_test}\n",
    "linreglasso_results = pd.DataFrame(linreglasso_results)\n",
    "#linreglasso_results"
   ]
  },
  {
   "cell_type": "code",
   "execution_count": 87,
   "metadata": {},
   "outputs": [
    {
     "data": {
      "image/png": "[encoded data removed]",
      "text/plain": [
       "<Figure size 432x288 with 1 Axes>"
      ]
     },
     "metadata": {},
     "output_type": "display_data"
    }
   ],
   "source": [
    "plt.plot(y_pred_lasso,y_test, linestyle='', marker='o', markersize=4)\n",
    "sns.kdeplot(y_pred_lasso,y_test, cmap=\"Reds\", shade=True)\n",
    "plt.plot([0,1],[0,1], 'g')\n",
    "plt.xlim([0,1])\n",
    "plt.ylim([0,1])\n",
    "plt.title('Linear regression model using lasso regularization')\n",
    "plt.xlabel('Appeal predictions')\n",
    "plt.ylabel('Real appeal')\n",
    "plt.show()"
   ]
  },
  {
   "cell_type": "markdown",
   "metadata": {},
   "source": [
    "------------------------\n",
    "#### SVR model"
   ]
  },
  {
   "cell_type": "code",
   "execution_count": 88,
   "metadata": {},
   "outputs": [
    {
     "name": "stdout",
     "output_type": "stream",
     "text": [
      "Testing MSE (SVR): 0.1635\n",
      "Decrease in error with respect to baseline: 9.04 %\n"
     ]
    }
   ],
   "source": [
    "pipeline_svr.set_params(svm_model__C = c_opt)\n",
    "pipeline_svr.fit(X_train, y_train)\n",
    "y_pred_svr = pipeline_svr.predict(X_test)\n",
    "print(\"Testing MSE (SVR):\", round(mse(y_test, y_pred_svr), 4))\n",
    "print(\"Decrease in error with respect to baseline:\", np.round((mse_baseline-mse(y_test, y_pred_svr))/mse_baseline*100, decimals = 2), \"%\")"
   ]
  },
  {
   "cell_type": "code",
   "execution_count": 89,
   "metadata": {},
   "outputs": [],
   "source": [
    "svr_results = {'Predicted_val': y_pred_svr, 'Real_val': y_test}\n",
    "svr_results = pd.DataFrame(svr_results)\n",
    "#svr_results"
   ]
  },
  {
   "cell_type": "code",
   "execution_count": 90,
   "metadata": {},
   "outputs": [
    {
     "data": {
      "image/png": "[encoded data removed]",
      "text/plain": [
       "<Figure size 432x288 with 1 Axes>"
      ]
     },
     "metadata": {},
     "output_type": "display_data"
    }
   ],
   "source": [
    "plt.plot(y_pred_svr,y_test, linestyle='', marker='o', markersize=4)\n",
    "sns.kdeplot(y_pred_svr,y_test, cmap=\"Reds\", shade=True)\n",
    "plt.plot([0,1],[0,1], 'g')\n",
    "plt.xlim([0,1])\n",
    "plt.ylim([0,1])\n",
    "plt.title('Support Vector Regression model')\n",
    "plt.xlabel('Appeal predictions')\n",
    "plt.ylabel('Real appeal')\n",
    "plt.show()"
   ]
  },
  {
   "cell_type": "markdown",
   "metadata": {},
   "source": [
    "Although more data is an easy answer to how we can improve the performance of the regressors, there are other ways to do so. One could explore feature engineering and dimensionality reduction (e.g. PCA) or feature selection through more varied types of regularisation. Another possibility would be to transform the regression problem into a multi-class classification problem where big deviations from the true value can be appropriately penalised."
   ]
  },
  {
   "cell_type": "markdown",
   "metadata": {},
   "source": [
    "## Classification models"
   ]
  },
  {
   "cell_type": "markdown",
   "metadata": {},
   "source": [
    "### Dataset classes"
   ]
  },
  {
   "cell_type": "code",
   "execution_count": 91,
   "metadata": {},
   "outputs": [],
   "source": [
    "df_model_final['class'] = 0\n",
    "nclasses = 5"
   ]
  },
  {
   "cell_type": "code",
   "execution_count": 92,
   "metadata": {},
   "outputs": [
    {
     "name": "stdout",
     "output_type": "stream",
     "text": [
      "0.2\n",
      "0.0 0.2\n",
      "0.2 0.4\n",
      "0.4 0.6\n",
      "0.6 0.8\n",
      "0.8 1.0\n"
     ]
    }
   ],
   "source": [
    "# Transform into classes 1 to nclasses\n",
    "step = 1/nclasses\n",
    "print(step)\n",
    "for i in range(nclasses):\n",
    "    inf = float(\"{:.4f}\".format(i*step))\n",
    "    sup = float(\"{:.4f}\".format((i+1)*step))\n",
    "    print(inf,sup)\n",
    "    if (sup < 1):\n",
    "        df_model_final['class'][(df_model_final['Win ratio'] >= inf) & (df_model_final['Win ratio'] < sup)] = i+1\n",
    "    else :\n",
    "        df_model_final['class'][(df_model_final['Win ratio'] >= inf)] = i+1    \n"
   ]
  },
  {
   "cell_type": "code",
   "execution_count": 93,
   "metadata": {},
   "outputs": [],
   "source": [
    "df_model_final = df_model_final.drop('Win ratio', axis=1)"
   ]
  },
  {
   "cell_type": "code",
   "execution_count": 94,
   "metadata": {},
   "outputs": [
    {
     "data": {
      "text/plain": [
       "3    160\n",
       "4    131\n",
       "2    109\n",
       "1     32\n",
       "5     26\n",
       "Name: class, dtype: int64"
      ]
     },
     "execution_count": 94,
     "metadata": {},
     "output_type": "execute_result"
    }
   ],
   "source": [
    "df_model_final['class'].value_counts()"
   ]
  },
  {
   "cell_type": "code",
   "execution_count": 95,
   "metadata": {},
   "outputs": [
    {
     "data": {
      "image/png": "[encoded data removed]",
      "text/plain": [
       "<Figure size 432x288 with 1 Axes>"
      ]
     },
     "metadata": {},
     "output_type": "display_data"
    }
   ],
   "source": [
    "stars = pd.Series((1, 2, 3, 4, 5, 6))\n",
    "vc = df_model_final['class'].value_counts().sort_index()\n",
    "ax = vc.plot(kind='bar')\n",
    "fig = ax.get_figure()\n",
    "fig.autofmt_xdate()\n",
    "plt.title('Class histogram')\n",
    "plt.xlabel('Class')\n",
    "plt.ylabel('Frequency')\n",
    "plt.grid()\n",
    "# plt.savefig('hist_class.png')\n",
    "plt.show()"
   ]
  },
  {
   "cell_type": "code",
   "execution_count": 96,
   "metadata": {},
   "outputs": [],
   "source": [
    "# Select target variable into an ARRAY called `y` and features into a DATAFRAME called  `X` \n",
    "y = np.array(df_model_final['class'])\n",
    "features = list(set(list(df_model_final.columns)) - set(['class']))\n",
    "X = df_model_final.loc[:, features]"
   ]
  },
  {
   "cell_type": "code",
   "execution_count": 97,
   "metadata": {},
   "outputs": [],
   "source": [
    "# Divide data into a training set and a testing set using the train_test_split() function\n",
    "#   NOTE: Please call the subsamples `X_train` ,  `X_test` , `y_train` , `y_test` so we can follow your code\n",
    "X_train, X_test, y_train, y_test = train_test_split(X, y, test_size=0.20, random_state=SEED)"
   ]
  },
  {
   "cell_type": "markdown",
   "metadata": {},
   "source": [
    "### Baseline"
   ]
  },
  {
   "cell_type": "code",
   "execution_count": 98,
   "metadata": {},
   "outputs": [],
   "source": [
    "from numpy import argmax\n",
    "from tensorflow.keras.utils import to_categorical"
   ]
  },
  {
   "cell_type": "code",
   "execution_count": 99,
   "metadata": {},
   "outputs": [],
   "source": [
    "# Predict the most occured outcome"
   ]
  },
  {
   "cell_type": "code",
   "execution_count": 100,
   "metadata": {},
   "outputs": [],
   "source": [
    "def baseline_model(y_train, y_test):   \n",
    "    y_train_df = pd.DataFrame(y_train)\n",
    "    most_freq = np.argmax(y_train_df.value_counts())\n",
    "\n",
    "    y_hat = np.array([int(np.round(y_train_df.value_counts().index[most_freq]))]*len(y_train))\n",
    "    y_hat_df = pd.DataFrame((y_hat), columns = [\"prediction\"])\n",
    "    y_hat_df[\"truth\"] = y_train\n",
    "    #y_hat_df.head()\n",
    "\n",
    "    y_hat = [int(np.round(y_train_df.value_counts().index[most_freq]))]*len(y_test)\n",
    "    cm = confusion_matrix(y_test, y_hat)\n",
    "    print(y_test)\n",
    "    acc =np.diagonal(cm).sum()/cm.sum()\n",
    "    \n",
    "    encoded_test = to_categorical(y_test, num_classes=nclasses + 1)\n",
    "    encoded_hat = to_categorical(y_hat, num_classes=nclasses + 1)\n",
    "    \n",
    "    auc = roc_auc_score(encoded_test[:,1:], encoded_hat[:,1:], multi_class=\"ovr\", average='macro')\n",
    "    \n",
    "    return y_hat_df, acc, auc"
   ]
  },
  {
   "cell_type": "code",
   "execution_count": 101,
   "metadata": {},
   "outputs": [
    {
     "name": "stdout",
     "output_type": "stream",
     "text": [
      "[2 3 4 4 2 3 2 3 4 4 3 3 3 2 4 3 2 3 2 3 3 2 2 2 3 1 4 2 4 4 3 4 2 3 3 2 4\n",
      " 3 2 1 3 1 2 2 4 5 3 4 2 3 3 2 3 2 4 2 4 3 3 2 3 3 3 4 3 3 4 2 4 4 3 3 4 4\n",
      " 3 4 3 3 2 2 3 4 2 3 3 3 1 4 5 3 5 3]\n"
     ]
    },
    {
     "data": {
      "text/html": [
       "<div>\n",
       "<style scoped>\n",
       "    .dataframe tbody tr th:only-of-type {\n",
       "        vertical-align: middle;\n",
       "    }\n",
       "\n",
       "    .dataframe tbody tr th {\n",
       "        vertical-align: top;\n",
       "    }\n",
       "\n",
       "    .dataframe thead th {\n",
       "        text-align: right;\n",
       "    }\n",
       "</style>\n",
       "<table border=\"1\" class=\"dataframe\">\n",
       "  <thead>\n",
       "    <tr style=\"text-align: right;\">\n",
       "      <th></th>\n",
       "      <th>prediction</th>\n",
       "      <th>truth</th>\n",
       "    </tr>\n",
       "  </thead>\n",
       "  <tbody>\n",
       "    <tr>\n",
       "      <th>0</th>\n",
       "      <td>3</td>\n",
       "      <td>4</td>\n",
       "    </tr>\n",
       "    <tr>\n",
       "      <th>1</th>\n",
       "      <td>3</td>\n",
       "      <td>2</td>\n",
       "    </tr>\n",
       "    <tr>\n",
       "      <th>2</th>\n",
       "      <td>3</td>\n",
       "      <td>4</td>\n",
       "    </tr>\n",
       "    <tr>\n",
       "      <th>3</th>\n",
       "      <td>3</td>\n",
       "      <td>1</td>\n",
       "    </tr>\n",
       "    <tr>\n",
       "      <th>4</th>\n",
       "      <td>3</td>\n",
       "      <td>4</td>\n",
       "    </tr>\n",
       "  </tbody>\n",
       "</table>\n",
       "</div>"
      ],
      "text/plain": [
       "   prediction  truth\n",
       "0           3      4\n",
       "1           3      2\n",
       "2           3      4\n",
       "3           3      1\n",
       "4           3      4"
      ]
     },
     "execution_count": 101,
     "metadata": {},
     "output_type": "execute_result"
    }
   ],
   "source": [
    "y_hat_df, acc_baseline, auc_baseline = baseline_model(y_train, y_test)\n",
    "y_hat_df.head()"
   ]
  },
  {
   "cell_type": "code",
   "execution_count": 102,
   "metadata": {},
   "outputs": [
    {
     "data": {
      "text/plain": [
       "0.5"
      ]
     },
     "execution_count": 102,
     "metadata": {},
     "output_type": "execute_result"
    }
   ],
   "source": [
    "auc_baseline"
   ]
  },
  {
   "cell_type": "markdown",
   "metadata": {},
   "source": [
    "### Linear OLS model\n",
    "\n",
    "The first model we will try is a linear regression coupled with LASSO regularisation. We will determine the optimal  𝜆  (LASSO hypereparameter) which maximises the AUC score of the model. In our first approach, we will not apply any kind of PCA."
   ]
  },
  {
   "cell_type": "code",
   "execution_count": 103,
   "metadata": {},
   "outputs": [],
   "source": [
    "def ols_lasso_CV(x_train, y_train, lam_range):\n",
    "    splits_num = 5\n",
    "\n",
    "    AUC = np.zeros((splits_num, len(lam_range)))\n",
    "\n",
    "    for i in range(len(lam_range)):\n",
    "\n",
    "        kf = KFold(n_splits=splits_num)\n",
    "\n",
    "        k = 0\n",
    "        for learn_index, val_index in kf.split(x_train):\n",
    "            x_train_train, x_train_val = x_train[learn_index], x_train[val_index]\n",
    "            y_train_train, y_train_val = y_train[learn_index], y_train[val_index]\n",
    "\n",
    "            pipeline_lasso.set_params(ols_model_l1__alpha = lam_range[i])\n",
    "            pipeline_lasso.fit(x_train_train, y_train_train)\n",
    "            y_pred_lasso_proba = pipeline_lasso.predict(x_train_val)\n",
    "            \n",
    "            encoded_y_train_val = to_categorical(y_train_val, num_classes=nclasses + 1)\n",
    "\n",
    "            '''ERROR HERE'''\n",
    "            max_y_pred = (nclasses + 1)/10 - 0.1\n",
    "            y_pred_lasso_proba = np.clip(y_pred_lasso_proba,0,max_y_pred) #doing this fix it, not sure that's good\n",
    "            encoded_y_pred_lasso_proba = to_categorical(y_pred_lasso_proba, num_classes=nclasses + 1)\n",
    "            '''ERROR HERE'''\n",
    "\n",
    "            \n",
    "            AUC[k, i] = round(roc_auc_score(encoded_y_train_val[:,1:], encoded_y_pred_lasso_proba[:,1:],\n",
    "                                            multi_class=\"ovr\", average='micro'), 4)\n",
    "\n",
    "            k = k+1\n",
    "\n",
    "    auc_mean = np.zeros(len(lam_range))\n",
    "    auc_std = np.zeros(len(lam_range))\n",
    "    for i in range(len(lam_range)):\n",
    "        auc_mean[i] = AUC[:, i].mean()\n",
    "        auc_std[i] = AUC[:, i].std()\n",
    "        \n",
    "    return auc_mean, auc_std"
   ]
  },
  {
   "cell_type": "code",
   "execution_count": 104,
   "metadata": {},
   "outputs": [],
   "source": [
    "estimators = []\n",
    "estimators.append(('standardize', StandardScaler()))         # tell pipeline to standardize features\n",
    "estimators.append(('ols_model_l1', Lasso()))                 # tell pipeline to use a linear model with lasso\n",
    "pipeline_lasso = Pipeline(estimators) "
   ]
  },
  {
   "cell_type": "code",
   "execution_count": 105,
   "metadata": {},
   "outputs": [
    {
     "data": {
      "text/plain": [
       "{'memory': None,\n",
       " 'steps': [('standardize', StandardScaler()), ('ols_model_l1', Lasso())],\n",
       " 'verbose': False,\n",
       " 'standardize': StandardScaler(),\n",
       " 'ols_model_l1': Lasso(),\n",
       " 'standardize__copy': True,\n",
       " 'standardize__with_mean': True,\n",
       " 'standardize__with_std': True,\n",
       " 'ols_model_l1__alpha': 1.0,\n",
       " 'ols_model_l1__copy_X': True,\n",
       " 'ols_model_l1__fit_intercept': True,\n",
       " 'ols_model_l1__max_iter': 1000,\n",
       " 'ols_model_l1__normalize': 'deprecated',\n",
       " 'ols_model_l1__positive': False,\n",
       " 'ols_model_l1__precompute': False,\n",
       " 'ols_model_l1__random_state': None,\n",
       " 'ols_model_l1__selection': 'cyclic',\n",
       " 'ols_model_l1__tol': 0.0001,\n",
       " 'ols_model_l1__warm_start': False}"
      ]
     },
     "execution_count": 105,
     "metadata": {},
     "output_type": "execute_result"
    }
   ],
   "source": [
    "pipeline_lasso.get_params()"
   ]
  },
  {
   "cell_type": "code",
   "execution_count": 106,
   "metadata": {},
   "outputs": [],
   "source": [
    "x_train = np.array(X_train)\n",
    "x_test = np.array(X_test)\n",
    "y_train = np.array(y_train)\n",
    "y_test = np.array(y_test)\n",
    "\n",
    "lam_range = np.logspace(-7,3,30)\n",
    "\n",
    "auc_mean, auc_std = ols_lasso_CV(x_train, y_train, lam_range)"
   ]
  },
  {
   "cell_type": "code",
   "execution_count": 107,
   "metadata": {},
   "outputs": [
    {
     "data": {
      "text/html": [
       "<div>\n",
       "<style scoped>\n",
       "    .dataframe tbody tr th:only-of-type {\n",
       "        vertical-align: middle;\n",
       "    }\n",
       "\n",
       "    .dataframe tbody tr th {\n",
       "        vertical-align: top;\n",
       "    }\n",
       "\n",
       "    .dataframe thead th {\n",
       "        text-align: right;\n",
       "    }\n",
       "</style>\n",
       "<table border=\"1\" class=\"dataframe\">\n",
       "  <thead>\n",
       "    <tr style=\"text-align: right;\">\n",
       "      <th></th>\n",
       "      <th>Lambda</th>\n",
       "      <th>AUC-mean</th>\n",
       "      <th>AUC-std</th>\n",
       "    </tr>\n",
       "  </thead>\n",
       "  <tbody>\n",
       "    <tr>\n",
       "      <th>0</th>\n",
       "      <td>1.000000e-07</td>\n",
       "      <td>0.5</td>\n",
       "      <td>0.0</td>\n",
       "    </tr>\n",
       "    <tr>\n",
       "      <th>1</th>\n",
       "      <td>2.212216e-07</td>\n",
       "      <td>0.5</td>\n",
       "      <td>0.0</td>\n",
       "    </tr>\n",
       "    <tr>\n",
       "      <th>2</th>\n",
       "      <td>4.893901e-07</td>\n",
       "      <td>0.5</td>\n",
       "      <td>0.0</td>\n",
       "    </tr>\n",
       "    <tr>\n",
       "      <th>3</th>\n",
       "      <td>1.082637e-06</td>\n",
       "      <td>0.5</td>\n",
       "      <td>0.0</td>\n",
       "    </tr>\n",
       "    <tr>\n",
       "      <th>4</th>\n",
       "      <td>2.395027e-06</td>\n",
       "      <td>0.5</td>\n",
       "      <td>0.0</td>\n",
       "    </tr>\n",
       "    <tr>\n",
       "      <th>5</th>\n",
       "      <td>5.298317e-06</td>\n",
       "      <td>0.5</td>\n",
       "      <td>0.0</td>\n",
       "    </tr>\n",
       "    <tr>\n",
       "      <th>6</th>\n",
       "      <td>1.172102e-05</td>\n",
       "      <td>0.5</td>\n",
       "      <td>0.0</td>\n",
       "    </tr>\n",
       "    <tr>\n",
       "      <th>7</th>\n",
       "      <td>2.592944e-05</td>\n",
       "      <td>0.5</td>\n",
       "      <td>0.0</td>\n",
       "    </tr>\n",
       "    <tr>\n",
       "      <th>8</th>\n",
       "      <td>5.736153e-05</td>\n",
       "      <td>0.5</td>\n",
       "      <td>0.0</td>\n",
       "    </tr>\n",
       "    <tr>\n",
       "      <th>9</th>\n",
       "      <td>1.268961e-04</td>\n",
       "      <td>0.5</td>\n",
       "      <td>0.0</td>\n",
       "    </tr>\n",
       "    <tr>\n",
       "      <th>10</th>\n",
       "      <td>2.807216e-04</td>\n",
       "      <td>0.5</td>\n",
       "      <td>0.0</td>\n",
       "    </tr>\n",
       "    <tr>\n",
       "      <th>11</th>\n",
       "      <td>6.210169e-04</td>\n",
       "      <td>0.5</td>\n",
       "      <td>0.0</td>\n",
       "    </tr>\n",
       "    <tr>\n",
       "      <th>12</th>\n",
       "      <td>1.373824e-03</td>\n",
       "      <td>0.5</td>\n",
       "      <td>0.0</td>\n",
       "    </tr>\n",
       "    <tr>\n",
       "      <th>13</th>\n",
       "      <td>3.039195e-03</td>\n",
       "      <td>0.5</td>\n",
       "      <td>0.0</td>\n",
       "    </tr>\n",
       "    <tr>\n",
       "      <th>14</th>\n",
       "      <td>6.723358e-03</td>\n",
       "      <td>0.5</td>\n",
       "      <td>0.0</td>\n",
       "    </tr>\n",
       "    <tr>\n",
       "      <th>15</th>\n",
       "      <td>1.487352e-02</td>\n",
       "      <td>0.5</td>\n",
       "      <td>0.0</td>\n",
       "    </tr>\n",
       "    <tr>\n",
       "      <th>16</th>\n",
       "      <td>3.290345e-02</td>\n",
       "      <td>0.5</td>\n",
       "      <td>0.0</td>\n",
       "    </tr>\n",
       "    <tr>\n",
       "      <th>17</th>\n",
       "      <td>7.278954e-02</td>\n",
       "      <td>0.5</td>\n",
       "      <td>0.0</td>\n",
       "    </tr>\n",
       "    <tr>\n",
       "      <th>18</th>\n",
       "      <td>1.610262e-01</td>\n",
       "      <td>0.5</td>\n",
       "      <td>0.0</td>\n",
       "    </tr>\n",
       "    <tr>\n",
       "      <th>19</th>\n",
       "      <td>3.562248e-01</td>\n",
       "      <td>0.5</td>\n",
       "      <td>0.0</td>\n",
       "    </tr>\n",
       "    <tr>\n",
       "      <th>20</th>\n",
       "      <td>7.880463e-01</td>\n",
       "      <td>0.5</td>\n",
       "      <td>0.0</td>\n",
       "    </tr>\n",
       "    <tr>\n",
       "      <th>21</th>\n",
       "      <td>1.743329e+00</td>\n",
       "      <td>0.5</td>\n",
       "      <td>0.0</td>\n",
       "    </tr>\n",
       "    <tr>\n",
       "      <th>22</th>\n",
       "      <td>3.856620e+00</td>\n",
       "      <td>0.5</td>\n",
       "      <td>0.0</td>\n",
       "    </tr>\n",
       "    <tr>\n",
       "      <th>23</th>\n",
       "      <td>8.531679e+00</td>\n",
       "      <td>0.5</td>\n",
       "      <td>0.0</td>\n",
       "    </tr>\n",
       "    <tr>\n",
       "      <th>24</th>\n",
       "      <td>1.887392e+01</td>\n",
       "      <td>0.5</td>\n",
       "      <td>0.0</td>\n",
       "    </tr>\n",
       "    <tr>\n",
       "      <th>25</th>\n",
       "      <td>4.175319e+01</td>\n",
       "      <td>0.5</td>\n",
       "      <td>0.0</td>\n",
       "    </tr>\n",
       "    <tr>\n",
       "      <th>26</th>\n",
       "      <td>9.236709e+01</td>\n",
       "      <td>0.5</td>\n",
       "      <td>0.0</td>\n",
       "    </tr>\n",
       "    <tr>\n",
       "      <th>27</th>\n",
       "      <td>2.043360e+02</td>\n",
       "      <td>0.5</td>\n",
       "      <td>0.0</td>\n",
       "    </tr>\n",
       "    <tr>\n",
       "      <th>28</th>\n",
       "      <td>4.520354e+02</td>\n",
       "      <td>0.5</td>\n",
       "      <td>0.0</td>\n",
       "    </tr>\n",
       "    <tr>\n",
       "      <th>29</th>\n",
       "      <td>1.000000e+03</td>\n",
       "      <td>0.5</td>\n",
       "      <td>0.0</td>\n",
       "    </tr>\n",
       "  </tbody>\n",
       "</table>\n",
       "</div>"
      ],
      "text/plain": [
       "          Lambda  AUC-mean  AUC-std\n",
       "0   1.000000e-07       0.5      0.0\n",
       "1   2.212216e-07       0.5      0.0\n",
       "2   4.893901e-07       0.5      0.0\n",
       "3   1.082637e-06       0.5      0.0\n",
       "4   2.395027e-06       0.5      0.0\n",
       "5   5.298317e-06       0.5      0.0\n",
       "6   1.172102e-05       0.5      0.0\n",
       "7   2.592944e-05       0.5      0.0\n",
       "8   5.736153e-05       0.5      0.0\n",
       "9   1.268961e-04       0.5      0.0\n",
       "10  2.807216e-04       0.5      0.0\n",
       "11  6.210169e-04       0.5      0.0\n",
       "12  1.373824e-03       0.5      0.0\n",
       "13  3.039195e-03       0.5      0.0\n",
       "14  6.723358e-03       0.5      0.0\n",
       "15  1.487352e-02       0.5      0.0\n",
       "16  3.290345e-02       0.5      0.0\n",
       "17  7.278954e-02       0.5      0.0\n",
       "18  1.610262e-01       0.5      0.0\n",
       "19  3.562248e-01       0.5      0.0\n",
       "20  7.880463e-01       0.5      0.0\n",
       "21  1.743329e+00       0.5      0.0\n",
       "22  3.856620e+00       0.5      0.0\n",
       "23  8.531679e+00       0.5      0.0\n",
       "24  1.887392e+01       0.5      0.0\n",
       "25  4.175319e+01       0.5      0.0\n",
       "26  9.236709e+01       0.5      0.0\n",
       "27  2.043360e+02       0.5      0.0\n",
       "28  4.520354e+02       0.5      0.0\n",
       "29  1.000000e+03       0.5      0.0"
      ]
     },
     "metadata": {},
     "output_type": "display_data"
    }
   ],
   "source": [
    "auc_df = pd.DataFrame(lam_range.reshape(-1,1), columns = [\"Lambda\"])\n",
    "auc_df[\"AUC-mean\"] = auc_mean[:]\n",
    "auc_df[\"AUC-std\"] = auc_std[:]\n",
    "display(auc_df)"
   ]
  },
  {
   "cell_type": "code",
   "execution_count": 108,
   "metadata": {},
   "outputs": [],
   "source": [
    "# lambda_ols_class = 0.0001\n",
    "# auc_linear = 0.63132"
   ]
  },
  {
   "cell_type": "markdown",
   "metadata": {},
   "source": [
    "### Logit model\n",
    "\n",
    "We now try a logit model with LASSO regularisation and optimise for the C parameter of the regularisation. We approach the problem in the same way as for the previous model."
   ]
  },
  {
   "cell_type": "code",
   "execution_count": 109,
   "metadata": {},
   "outputs": [],
   "source": [
    "def logit_CV(x_train, y_train, c_range):\n",
    "    splits_num = 5\n",
    "\n",
    "    AUC = np.zeros((splits_num, len(c_range)))\n",
    "\n",
    "    for i in range(len(c_range)):\n",
    "\n",
    "        kf = KFold(n_splits=splits_num)\n",
    "\n",
    "        k = 0\n",
    "        for learn_index, val_index in kf.split(x_train):\n",
    "            x_train_train, x_train_val = x_train[learn_index], x_train[val_index]\n",
    "            y_train_train, y_train_val = y_train[learn_index], y_train[val_index]\n",
    "\n",
    "            pipeline_logit.set_params(logit_model_l1__C = c_range[i])\n",
    "\n",
    "            pipeline_logit.fit(x_train_train, y_train_train)\n",
    "\n",
    "            y_pred_logit_proba = pipeline_logit.predict(x_train_val)\n",
    "            \n",
    "            encoded_y_train_val = to_categorical(y_train_val, num_classes=nclasses + 1)\n",
    "            encoded_y_pred_logit_proba = to_categorical(y_pred_logit_proba, num_classes=nclasses + 1)\n",
    "\n",
    "            AUC[k, i] = round(roc_auc_score(encoded_y_train_val[:,1:], encoded_y_pred_logit_proba[:,1:],\n",
    "                                            multi_class=\"ovr\", average='micro'), 4)\n",
    "\n",
    "            k = k+1\n",
    "\n",
    "    auc_mean = np.zeros(len(c_range))\n",
    "    auc_std = np.zeros(len(c_range))\n",
    "    for i in range(len(c_range)):\n",
    "        auc_mean[i] = AUC[:, i].mean()\n",
    "        auc_std[i] = AUC[:, i].std()\n",
    "        \n",
    "    return auc_mean, auc_std"
   ]
  },
  {
   "cell_type": "code",
   "execution_count": 110,
   "metadata": {},
   "outputs": [
    {
     "data": {
      "text/plain": [
       "{'memory': None,\n",
       " 'steps': [('standardize', StandardScaler()),\n",
       "  ('logit_model_l1',\n",
       "   LogisticRegression(penalty='l1', random_state=123456789, solver='saga'))],\n",
       " 'verbose': False,\n",
       " 'standardize': StandardScaler(),\n",
       " 'logit_model_l1': LogisticRegression(penalty='l1', random_state=123456789, solver='saga'),\n",
       " 'standardize__copy': True,\n",
       " 'standardize__with_mean': True,\n",
       " 'standardize__with_std': True,\n",
       " 'logit_model_l1__C': 1.0,\n",
       " 'logit_model_l1__class_weight': None,\n",
       " 'logit_model_l1__dual': False,\n",
       " 'logit_model_l1__fit_intercept': True,\n",
       " 'logit_model_l1__intercept_scaling': 1,\n",
       " 'logit_model_l1__l1_ratio': None,\n",
       " 'logit_model_l1__max_iter': 100,\n",
       " 'logit_model_l1__multi_class': 'auto',\n",
       " 'logit_model_l1__n_jobs': None,\n",
       " 'logit_model_l1__penalty': 'l1',\n",
       " 'logit_model_l1__random_state': 123456789,\n",
       " 'logit_model_l1__solver': 'saga',\n",
       " 'logit_model_l1__tol': 0.0001,\n",
       " 'logit_model_l1__verbose': 0,\n",
       " 'logit_model_l1__warm_start': False}"
      ]
     },
     "execution_count": 110,
     "metadata": {},
     "output_type": "execute_result"
    }
   ],
   "source": [
    "estimators = []\n",
    "estimators.append(('standardize', StandardScaler()))         # tell pipeline to standardize features\n",
    "estimators.append(('logit_model_l1', LogisticRegression(penalty = \"l1\", solver = \"saga\", random_state = SEED)))  # tell pipeline to use a logit model with lasso\n",
    "pipeline_logit = Pipeline(estimators) \n",
    "pipeline_logit.get_params()"
   ]
  },
  {
   "cell_type": "code",
   "execution_count": 111,
   "metadata": {},
   "outputs": [
    {
     "data": {
      "text/html": [
       "<div>\n",
       "<style scoped>\n",
       "    .dataframe tbody tr th:only-of-type {\n",
       "        vertical-align: middle;\n",
       "    }\n",
       "\n",
       "    .dataframe tbody tr th {\n",
       "        vertical-align: top;\n",
       "    }\n",
       "\n",
       "    .dataframe thead th {\n",
       "        text-align: right;\n",
       "    }\n",
       "</style>\n",
       "<table border=\"1\" class=\"dataframe\">\n",
       "  <thead>\n",
       "    <tr style=\"text-align: right;\">\n",
       "      <th></th>\n",
       "      <th>C</th>\n",
       "      <th>AUC-mean</th>\n",
       "      <th>AUC-std</th>\n",
       "    </tr>\n",
       "  </thead>\n",
       "  <tbody>\n",
       "    <tr>\n",
       "      <th>0</th>\n",
       "      <td>0.001000</td>\n",
       "      <td>0.54400</td>\n",
       "      <td>0.018344</td>\n",
       "    </tr>\n",
       "    <tr>\n",
       "      <th>1</th>\n",
       "      <td>0.002043</td>\n",
       "      <td>0.58338</td>\n",
       "      <td>0.032528</td>\n",
       "    </tr>\n",
       "    <tr>\n",
       "      <th>2</th>\n",
       "      <td>0.004175</td>\n",
       "      <td>0.58338</td>\n",
       "      <td>0.032528</td>\n",
       "    </tr>\n",
       "    <tr>\n",
       "      <th>3</th>\n",
       "      <td>0.008532</td>\n",
       "      <td>0.58338</td>\n",
       "      <td>0.032528</td>\n",
       "    </tr>\n",
       "    <tr>\n",
       "      <th>4</th>\n",
       "      <td>0.017433</td>\n",
       "      <td>0.58338</td>\n",
       "      <td>0.032528</td>\n",
       "    </tr>\n",
       "    <tr>\n",
       "      <th>5</th>\n",
       "      <td>0.035622</td>\n",
       "      <td>0.58852</td>\n",
       "      <td>0.032312</td>\n",
       "    </tr>\n",
       "    <tr>\n",
       "      <th>6</th>\n",
       "      <td>0.072790</td>\n",
       "      <td>0.60380</td>\n",
       "      <td>0.009395</td>\n",
       "    </tr>\n",
       "    <tr>\n",
       "      <th>7</th>\n",
       "      <td>0.148735</td>\n",
       "      <td>0.63466</td>\n",
       "      <td>0.041306</td>\n",
       "    </tr>\n",
       "    <tr>\n",
       "      <th>8</th>\n",
       "      <td>0.303920</td>\n",
       "      <td>0.62780</td>\n",
       "      <td>0.030102</td>\n",
       "    </tr>\n",
       "    <tr>\n",
       "      <th>9</th>\n",
       "      <td>0.621017</td>\n",
       "      <td>0.62442</td>\n",
       "      <td>0.029450</td>\n",
       "    </tr>\n",
       "    <tr>\n",
       "      <th>10</th>\n",
       "      <td>1.268961</td>\n",
       "      <td>0.62270</td>\n",
       "      <td>0.027830</td>\n",
       "    </tr>\n",
       "    <tr>\n",
       "      <th>11</th>\n",
       "      <td>2.592944</td>\n",
       "      <td>0.61758</td>\n",
       "      <td>0.023486</td>\n",
       "    </tr>\n",
       "    <tr>\n",
       "      <th>12</th>\n",
       "      <td>5.298317</td>\n",
       "      <td>0.61928</td>\n",
       "      <td>0.022901</td>\n",
       "    </tr>\n",
       "    <tr>\n",
       "      <th>13</th>\n",
       "      <td>10.826367</td>\n",
       "      <td>0.61928</td>\n",
       "      <td>0.022901</td>\n",
       "    </tr>\n",
       "    <tr>\n",
       "      <th>14</th>\n",
       "      <td>22.122163</td>\n",
       "      <td>0.61928</td>\n",
       "      <td>0.022901</td>\n",
       "    </tr>\n",
       "    <tr>\n",
       "      <th>15</th>\n",
       "      <td>45.203537</td>\n",
       "      <td>0.61928</td>\n",
       "      <td>0.022901</td>\n",
       "    </tr>\n",
       "    <tr>\n",
       "      <th>16</th>\n",
       "      <td>92.367086</td>\n",
       "      <td>0.61928</td>\n",
       "      <td>0.022901</td>\n",
       "    </tr>\n",
       "    <tr>\n",
       "      <th>17</th>\n",
       "      <td>188.739182</td>\n",
       "      <td>0.61928</td>\n",
       "      <td>0.022901</td>\n",
       "    </tr>\n",
       "    <tr>\n",
       "      <th>18</th>\n",
       "      <td>385.662042</td>\n",
       "      <td>0.61928</td>\n",
       "      <td>0.022901</td>\n",
       "    </tr>\n",
       "    <tr>\n",
       "      <th>19</th>\n",
       "      <td>788.046282</td>\n",
       "      <td>0.61928</td>\n",
       "      <td>0.022901</td>\n",
       "    </tr>\n",
       "    <tr>\n",
       "      <th>20</th>\n",
       "      <td>1610.262028</td>\n",
       "      <td>0.61928</td>\n",
       "      <td>0.022901</td>\n",
       "    </tr>\n",
       "    <tr>\n",
       "      <th>21</th>\n",
       "      <td>3290.344562</td>\n",
       "      <td>0.61928</td>\n",
       "      <td>0.022901</td>\n",
       "    </tr>\n",
       "    <tr>\n",
       "      <th>22</th>\n",
       "      <td>6723.357536</td>\n",
       "      <td>0.61928</td>\n",
       "      <td>0.022901</td>\n",
       "    </tr>\n",
       "    <tr>\n",
       "      <th>23</th>\n",
       "      <td>13738.237959</td>\n",
       "      <td>0.61928</td>\n",
       "      <td>0.022901</td>\n",
       "    </tr>\n",
       "    <tr>\n",
       "      <th>24</th>\n",
       "      <td>28072.162039</td>\n",
       "      <td>0.61928</td>\n",
       "      <td>0.022901</td>\n",
       "    </tr>\n",
       "    <tr>\n",
       "      <th>25</th>\n",
       "      <td>57361.525104</td>\n",
       "      <td>0.61928</td>\n",
       "      <td>0.022901</td>\n",
       "    </tr>\n",
       "    <tr>\n",
       "      <th>26</th>\n",
       "      <td>117210.229753</td>\n",
       "      <td>0.61928</td>\n",
       "      <td>0.022901</td>\n",
       "    </tr>\n",
       "    <tr>\n",
       "      <th>27</th>\n",
       "      <td>239502.661999</td>\n",
       "      <td>0.61928</td>\n",
       "      <td>0.022901</td>\n",
       "    </tr>\n",
       "    <tr>\n",
       "      <th>28</th>\n",
       "      <td>489390.091848</td>\n",
       "      <td>0.61928</td>\n",
       "      <td>0.022901</td>\n",
       "    </tr>\n",
       "    <tr>\n",
       "      <th>29</th>\n",
       "      <td>1000000.000000</td>\n",
       "      <td>0.61928</td>\n",
       "      <td>0.022901</td>\n",
       "    </tr>\n",
       "  </tbody>\n",
       "</table>\n",
       "</div>"
      ],
      "text/plain": [
       "                 C  AUC-mean   AUC-std\n",
       "0         0.001000   0.54400  0.018344\n",
       "1         0.002043   0.58338  0.032528\n",
       "2         0.004175   0.58338  0.032528\n",
       "3         0.008532   0.58338  0.032528\n",
       "4         0.017433   0.58338  0.032528\n",
       "5         0.035622   0.58852  0.032312\n",
       "6         0.072790   0.60380  0.009395\n",
       "7         0.148735   0.63466  0.041306\n",
       "8         0.303920   0.62780  0.030102\n",
       "9         0.621017   0.62442  0.029450\n",
       "10        1.268961   0.62270  0.027830\n",
       "11        2.592944   0.61758  0.023486\n",
       "12        5.298317   0.61928  0.022901\n",
       "13       10.826367   0.61928  0.022901\n",
       "14       22.122163   0.61928  0.022901\n",
       "15       45.203537   0.61928  0.022901\n",
       "16       92.367086   0.61928  0.022901\n",
       "17      188.739182   0.61928  0.022901\n",
       "18      385.662042   0.61928  0.022901\n",
       "19      788.046282   0.61928  0.022901\n",
       "20     1610.262028   0.61928  0.022901\n",
       "21     3290.344562   0.61928  0.022901\n",
       "22     6723.357536   0.61928  0.022901\n",
       "23    13738.237959   0.61928  0.022901\n",
       "24    28072.162039   0.61928  0.022901\n",
       "25    57361.525104   0.61928  0.022901\n",
       "26   117210.229753   0.61928  0.022901\n",
       "27   239502.661999   0.61928  0.022901\n",
       "28   489390.091848   0.61928  0.022901\n",
       "29  1000000.000000   0.61928  0.022901"
      ]
     },
     "metadata": {},
     "output_type": "display_data"
    }
   ],
   "source": [
    "c_range = np.logspace(-3,6,30)\n",
    "\n",
    "auc_mean, auc_std = logit_CV(x_train, y_train, c_range)\n",
    "    \n",
    "auc_df = pd.DataFrame(c_range.reshape(-1,1), columns = [\"C\"])\n",
    "auc_df[\"AUC-mean\"] = auc_mean[:]\n",
    "auc_df[\"AUC-std\"] = auc_std[:]\n",
    "display(auc_df)"
   ]
  },
  {
   "cell_type": "code",
   "execution_count": 112,
   "metadata": {},
   "outputs": [],
   "source": [
    "# c_logit_class = 1\n",
    "# auc_logit = 0.64482"
   ]
  },
  {
   "cell_type": "markdown",
   "metadata": {},
   "source": [
    "### SVM model"
   ]
  },
  {
   "cell_type": "code",
   "execution_count": 113,
   "metadata": {},
   "outputs": [
    {
     "data": {
      "text/plain": [
       "{'memory': None,\n",
       " 'steps': [('standardize', StandardScaler()),\n",
       "  ('svm_model', SVC(probability=True, random_state=123456789))],\n",
       " 'verbose': False,\n",
       " 'standardize': StandardScaler(),\n",
       " 'svm_model': SVC(probability=True, random_state=123456789),\n",
       " 'standardize__copy': True,\n",
       " 'standardize__with_mean': True,\n",
       " 'standardize__with_std': True,\n",
       " 'svm_model__C': 1.0,\n",
       " 'svm_model__break_ties': False,\n",
       " 'svm_model__cache_size': 200,\n",
       " 'svm_model__class_weight': None,\n",
       " 'svm_model__coef0': 0.0,\n",
       " 'svm_model__decision_function_shape': 'ovr',\n",
       " 'svm_model__degree': 3,\n",
       " 'svm_model__gamma': 'scale',\n",
       " 'svm_model__kernel': 'rbf',\n",
       " 'svm_model__max_iter': -1,\n",
       " 'svm_model__probability': True,\n",
       " 'svm_model__random_state': 123456789,\n",
       " 'svm_model__shrinking': True,\n",
       " 'svm_model__tol': 0.001,\n",
       " 'svm_model__verbose': False}"
      ]
     },
     "execution_count": 113,
     "metadata": {},
     "output_type": "execute_result"
    }
   ],
   "source": [
    "estimators = []\n",
    "estimators.append(('standardize', StandardScaler()))         # tell pipeline to standardize features\n",
    "estimators.append(('svm_model', SVC(probability = True, random_state = SEED)))  # tell pipeline to use a logit model with lasso\n",
    "pipeline_svc = Pipeline(estimators) \n",
    "pipeline_svc.get_params()"
   ]
  },
  {
   "cell_type": "markdown",
   "metadata": {},
   "source": [
    "For the SVM classifier, 5-fold cross-validation is included in the sklearn command."
   ]
  },
  {
   "cell_type": "code",
   "execution_count": 114,
   "metadata": {},
   "outputs": [],
   "source": [
    "X_train_train, X_train_val, y_train_train, y_train_val = train_test_split(X_train, y_train, test_size=0.25, stratify=y_train, random_state=SEED)"
   ]
  },
  {
   "cell_type": "code",
   "execution_count": 115,
   "metadata": {},
   "outputs": [
    {
     "data": {
      "text/html": [
       "<div>\n",
       "<style scoped>\n",
       "    .dataframe tbody tr th:only-of-type {\n",
       "        vertical-align: middle;\n",
       "    }\n",
       "\n",
       "    .dataframe tbody tr th {\n",
       "        vertical-align: top;\n",
       "    }\n",
       "\n",
       "    .dataframe thead th {\n",
       "        text-align: right;\n",
       "    }\n",
       "</style>\n",
       "<table border=\"1\" class=\"dataframe\">\n",
       "  <thead>\n",
       "    <tr style=\"text-align: right;\">\n",
       "      <th></th>\n",
       "      <th>C</th>\n",
       "      <th>AUC</th>\n",
       "    </tr>\n",
       "  </thead>\n",
       "  <tbody>\n",
       "    <tr>\n",
       "      <th>0</th>\n",
       "      <td>0.001000</td>\n",
       "      <td>0.5856</td>\n",
       "    </tr>\n",
       "    <tr>\n",
       "      <th>1</th>\n",
       "      <td>0.002043</td>\n",
       "      <td>0.5856</td>\n",
       "    </tr>\n",
       "    <tr>\n",
       "      <th>2</th>\n",
       "      <td>0.004175</td>\n",
       "      <td>0.5856</td>\n",
       "    </tr>\n",
       "    <tr>\n",
       "      <th>3</th>\n",
       "      <td>0.008532</td>\n",
       "      <td>0.5856</td>\n",
       "    </tr>\n",
       "    <tr>\n",
       "      <th>4</th>\n",
       "      <td>0.017433</td>\n",
       "      <td>0.5856</td>\n",
       "    </tr>\n",
       "    <tr>\n",
       "      <th>5</th>\n",
       "      <td>0.035622</td>\n",
       "      <td>0.5856</td>\n",
       "    </tr>\n",
       "    <tr>\n",
       "      <th>6</th>\n",
       "      <td>0.072790</td>\n",
       "      <td>0.5856</td>\n",
       "    </tr>\n",
       "    <tr>\n",
       "      <th>7</th>\n",
       "      <td>0.148735</td>\n",
       "      <td>0.5856</td>\n",
       "    </tr>\n",
       "    <tr>\n",
       "      <th>8</th>\n",
       "      <td>0.303920</td>\n",
       "      <td>0.6196</td>\n",
       "    </tr>\n",
       "    <tr>\n",
       "      <th>9</th>\n",
       "      <td>0.621017</td>\n",
       "      <td>0.6196</td>\n",
       "    </tr>\n",
       "    <tr>\n",
       "      <th>10</th>\n",
       "      <td>1.268961</td>\n",
       "      <td>0.6196</td>\n",
       "    </tr>\n",
       "    <tr>\n",
       "      <th>11</th>\n",
       "      <td>2.592944</td>\n",
       "      <td>0.6060</td>\n",
       "    </tr>\n",
       "    <tr>\n",
       "      <th>12</th>\n",
       "      <td>5.298317</td>\n",
       "      <td>0.6196</td>\n",
       "    </tr>\n",
       "    <tr>\n",
       "      <th>13</th>\n",
       "      <td>10.826367</td>\n",
       "      <td>0.5924</td>\n",
       "    </tr>\n",
       "    <tr>\n",
       "      <th>14</th>\n",
       "      <td>22.122163</td>\n",
       "      <td>0.5856</td>\n",
       "    </tr>\n",
       "    <tr>\n",
       "      <th>15</th>\n",
       "      <td>45.203537</td>\n",
       "      <td>0.5652</td>\n",
       "    </tr>\n",
       "    <tr>\n",
       "      <th>16</th>\n",
       "      <td>92.367086</td>\n",
       "      <td>0.5584</td>\n",
       "    </tr>\n",
       "    <tr>\n",
       "      <th>17</th>\n",
       "      <td>188.739182</td>\n",
       "      <td>0.5584</td>\n",
       "    </tr>\n",
       "    <tr>\n",
       "      <th>18</th>\n",
       "      <td>385.662042</td>\n",
       "      <td>0.5448</td>\n",
       "    </tr>\n",
       "    <tr>\n",
       "      <th>19</th>\n",
       "      <td>788.046282</td>\n",
       "      <td>0.5312</td>\n",
       "    </tr>\n",
       "    <tr>\n",
       "      <th>20</th>\n",
       "      <td>1610.262028</td>\n",
       "      <td>0.5448</td>\n",
       "    </tr>\n",
       "    <tr>\n",
       "      <th>21</th>\n",
       "      <td>3290.344562</td>\n",
       "      <td>0.5380</td>\n",
       "    </tr>\n",
       "    <tr>\n",
       "      <th>22</th>\n",
       "      <td>6723.357536</td>\n",
       "      <td>0.5380</td>\n",
       "    </tr>\n",
       "    <tr>\n",
       "      <th>23</th>\n",
       "      <td>13738.237959</td>\n",
       "      <td>0.5380</td>\n",
       "    </tr>\n",
       "    <tr>\n",
       "      <th>24</th>\n",
       "      <td>28072.162039</td>\n",
       "      <td>0.5380</td>\n",
       "    </tr>\n",
       "    <tr>\n",
       "      <th>25</th>\n",
       "      <td>57361.525104</td>\n",
       "      <td>0.5380</td>\n",
       "    </tr>\n",
       "    <tr>\n",
       "      <th>26</th>\n",
       "      <td>117210.229753</td>\n",
       "      <td>0.5380</td>\n",
       "    </tr>\n",
       "    <tr>\n",
       "      <th>27</th>\n",
       "      <td>239502.661999</td>\n",
       "      <td>0.5380</td>\n",
       "    </tr>\n",
       "    <tr>\n",
       "      <th>28</th>\n",
       "      <td>489390.091848</td>\n",
       "      <td>0.5380</td>\n",
       "    </tr>\n",
       "    <tr>\n",
       "      <th>29</th>\n",
       "      <td>1000000.000000</td>\n",
       "      <td>0.5380</td>\n",
       "    </tr>\n",
       "  </tbody>\n",
       "</table>\n",
       "</div>"
      ],
      "text/plain": [
       "                 C     AUC\n",
       "0         0.001000  0.5856\n",
       "1         0.002043  0.5856\n",
       "2         0.004175  0.5856\n",
       "3         0.008532  0.5856\n",
       "4         0.017433  0.5856\n",
       "5         0.035622  0.5856\n",
       "6         0.072790  0.5856\n",
       "7         0.148735  0.5856\n",
       "8         0.303920  0.6196\n",
       "9         0.621017  0.6196\n",
       "10        1.268961  0.6196\n",
       "11        2.592944  0.6060\n",
       "12        5.298317  0.6196\n",
       "13       10.826367  0.5924\n",
       "14       22.122163  0.5856\n",
       "15       45.203537  0.5652\n",
       "16       92.367086  0.5584\n",
       "17      188.739182  0.5584\n",
       "18      385.662042  0.5448\n",
       "19      788.046282  0.5312\n",
       "20     1610.262028  0.5448\n",
       "21     3290.344562  0.5380\n",
       "22     6723.357536  0.5380\n",
       "23    13738.237959  0.5380\n",
       "24    28072.162039  0.5380\n",
       "25    57361.525104  0.5380\n",
       "26   117210.229753  0.5380\n",
       "27   239502.661999  0.5380\n",
       "28   489390.091848  0.5380\n",
       "29  1000000.000000  0.5380"
      ]
     },
     "metadata": {},
     "output_type": "display_data"
    }
   ],
   "source": [
    "c_range = np.logspace(-3,6,30)\n",
    "auc_mean = np.zeros(len(c_range))\n",
    "\n",
    "for i in range(len(c_range)):\n",
    "    pipeline_svc.set_params(svm_model__C = c_range[i])\n",
    "    pipeline_svc.fit(X_train_train, y_train_train)\n",
    "    y_pred_svc_proba = pipeline_svc.predict(X_train_val)\n",
    "    encoded_y_train_val = to_categorical(y_train_val, num_classes=nclasses + 1)\n",
    "    encoded_y_pred_svm_proba = to_categorical(y_pred_svc_proba, num_classes=nclasses + 1)\n",
    "    auc_mean[i] = round(roc_auc_score(encoded_y_train_val[:,1:], encoded_y_pred_svm_proba[:,1:], \n",
    "                                      multi_class=\"ovr\", average='micro'), 4)\n",
    "                    \n",
    "auc_df = pd.DataFrame(c_range.reshape(-1,1), columns = [\"C\"])\n",
    "auc_df[\"AUC\"] = auc_mean[:]\n",
    "display(auc_df)"
   ]
  },
  {
   "cell_type": "code",
   "execution_count": 116,
   "metadata": {},
   "outputs": [],
   "source": [
    "# c_svm_class = 10\n",
    "# auc_svm = 0.6128"
   ]
  },
  {
   "cell_type": "markdown",
   "metadata": {},
   "source": [
    "### KNN"
   ]
  },
  {
   "cell_type": "code",
   "execution_count": 117,
   "metadata": {},
   "outputs": [],
   "source": [
    "def knn_CV(x_train, y_train, n_neighb):\n",
    "    splits_num = 5\n",
    "\n",
    "    AUC = np.zeros((splits_num, len(n_neighb)))\n",
    "\n",
    "    for i in range(len(n_neighb)):\n",
    "\n",
    "        kf = KFold(n_splits=splits_num)\n",
    "\n",
    "        k = 0\n",
    "        for learn_index, val_index in kf.split(x_train):\n",
    "            x_train_train, x_train_val = x_train[learn_index], x_train[val_index]\n",
    "            y_train_train, y_train_val = y_train[learn_index], y_train[val_index]\n",
    "\n",
    "            pipeline_knn.set_params(knn_model__n_neighbors = n_neighb[i])\n",
    "\n",
    "            pipeline_knn.fit(x_train_train, y_train_train)\n",
    "\n",
    "            y_pred_knn_proba = pipeline_knn.predict(x_train_val)\n",
    "            \n",
    "            encoded_y_train_val = to_categorical(y_train_val, num_classes=nclasses + 1)\n",
    "            encoded_y_pred_knn_proba = to_categorical(y_pred_knn_proba, num_classes=nclasses + 1)\n",
    "\n",
    "            AUC[k, i] = round(roc_auc_score(encoded_y_train_val[:,1:], encoded_y_pred_knn_proba[:,1:],\n",
    "                                            multi_class=\"ovr\", average='micro'), 4)\n",
    "\n",
    "            k = k+1\n",
    "\n",
    "    auc_mean = np.zeros(len(n_neighb))\n",
    "    auc_std = np.zeros(len(n_neighb))\n",
    "    for i in range(len(n_neighb)):\n",
    "        auc_mean[i] = AUC[:, i].mean()\n",
    "        auc_std[i] = AUC[:, i].std()\n",
    "        \n",
    "    return auc_mean, auc_std"
   ]
  },
  {
   "cell_type": "code",
   "execution_count": 118,
   "metadata": {},
   "outputs": [
    {
     "data": {
      "text/plain": [
       "{'memory': None,\n",
       " 'steps': [('standardize', StandardScaler()),\n",
       "  ('knn_model', KNeighborsClassifier())],\n",
       " 'verbose': False,\n",
       " 'standardize': StandardScaler(),\n",
       " 'knn_model': KNeighborsClassifier(),\n",
       " 'standardize__copy': True,\n",
       " 'standardize__with_mean': True,\n",
       " 'standardize__with_std': True,\n",
       " 'knn_model__algorithm': 'auto',\n",
       " 'knn_model__leaf_size': 30,\n",
       " 'knn_model__metric': 'minkowski',\n",
       " 'knn_model__metric_params': None,\n",
       " 'knn_model__n_jobs': None,\n",
       " 'knn_model__n_neighbors': 5,\n",
       " 'knn_model__p': 2,\n",
       " 'knn_model__weights': 'uniform'}"
      ]
     },
     "execution_count": 118,
     "metadata": {},
     "output_type": "execute_result"
    }
   ],
   "source": [
    "estimators = []\n",
    "estimators.append(('standardize', StandardScaler()))         # tell pipeline to standardize features\n",
    "estimators.append(('knn_model',KNeighborsClassifier()))  # tell pipeline to use a logit model with lasso\n",
    "pipeline_knn = Pipeline(estimators) \n",
    "pipeline_knn.get_params()"
   ]
  },
  {
   "cell_type": "code",
   "execution_count": 119,
   "metadata": {},
   "outputs": [
    {
     "data": {
      "text/html": [
       "<div>\n",
       "<style scoped>\n",
       "    .dataframe tbody tr th:only-of-type {\n",
       "        vertical-align: middle;\n",
       "    }\n",
       "\n",
       "    .dataframe tbody tr th {\n",
       "        vertical-align: top;\n",
       "    }\n",
       "\n",
       "    .dataframe thead th {\n",
       "        text-align: right;\n",
       "    }\n",
       "</style>\n",
       "<table border=\"1\" class=\"dataframe\">\n",
       "  <thead>\n",
       "    <tr style=\"text-align: right;\">\n",
       "      <th></th>\n",
       "      <th>N</th>\n",
       "      <th>AUC-mean</th>\n",
       "      <th>AUC-std</th>\n",
       "    </tr>\n",
       "  </thead>\n",
       "  <tbody>\n",
       "    <tr>\n",
       "      <th>0</th>\n",
       "      <td>2</td>\n",
       "      <td>0.54404</td>\n",
       "      <td>0.036377</td>\n",
       "    </tr>\n",
       "    <tr>\n",
       "      <th>1</th>\n",
       "      <td>3</td>\n",
       "      <td>0.56116</td>\n",
       "      <td>0.024017</td>\n",
       "    </tr>\n",
       "    <tr>\n",
       "      <th>2</th>\n",
       "      <td>4</td>\n",
       "      <td>0.56794</td>\n",
       "      <td>0.022472</td>\n",
       "    </tr>\n",
       "    <tr>\n",
       "      <th>3</th>\n",
       "      <td>5</td>\n",
       "      <td>0.55092</td>\n",
       "      <td>0.022847</td>\n",
       "    </tr>\n",
       "    <tr>\n",
       "      <th>4</th>\n",
       "      <td>6</td>\n",
       "      <td>0.57500</td>\n",
       "      <td>0.046042</td>\n",
       "    </tr>\n",
       "    <tr>\n",
       "      <th>5</th>\n",
       "      <td>7</td>\n",
       "      <td>0.58000</td>\n",
       "      <td>0.025916</td>\n",
       "    </tr>\n",
       "    <tr>\n",
       "      <th>6</th>\n",
       "      <td>8</td>\n",
       "      <td>0.58856</td>\n",
       "      <td>0.031273</td>\n",
       "    </tr>\n",
       "    <tr>\n",
       "      <th>7</th>\n",
       "      <td>9</td>\n",
       "      <td>0.59200</td>\n",
       "      <td>0.027539</td>\n",
       "    </tr>\n",
       "    <tr>\n",
       "      <th>8</th>\n",
       "      <td>10</td>\n",
       "      <td>0.57998</td>\n",
       "      <td>0.020871</td>\n",
       "    </tr>\n",
       "    <tr>\n",
       "      <th>9</th>\n",
       "      <td>11</td>\n",
       "      <td>0.59018</td>\n",
       "      <td>0.025283</td>\n",
       "    </tr>\n",
       "    <tr>\n",
       "      <th>10</th>\n",
       "      <td>12</td>\n",
       "      <td>0.59196</td>\n",
       "      <td>0.033219</td>\n",
       "    </tr>\n",
       "    <tr>\n",
       "      <th>11</th>\n",
       "      <td>13</td>\n",
       "      <td>0.59704</td>\n",
       "      <td>0.028968</td>\n",
       "    </tr>\n",
       "    <tr>\n",
       "      <th>12</th>\n",
       "      <td>14</td>\n",
       "      <td>0.60044</td>\n",
       "      <td>0.023669</td>\n",
       "    </tr>\n",
       "  </tbody>\n",
       "</table>\n",
       "</div>"
      ],
      "text/plain": [
       "     N  AUC-mean   AUC-std\n",
       "0    2   0.54404  0.036377\n",
       "1    3   0.56116  0.024017\n",
       "2    4   0.56794  0.022472\n",
       "3    5   0.55092  0.022847\n",
       "4    6   0.57500  0.046042\n",
       "5    7   0.58000  0.025916\n",
       "6    8   0.58856  0.031273\n",
       "7    9   0.59200  0.027539\n",
       "8   10   0.57998  0.020871\n",
       "9   11   0.59018  0.025283\n",
       "10  12   0.59196  0.033219\n",
       "11  13   0.59704  0.028968\n",
       "12  14   0.60044  0.023669"
      ]
     },
     "metadata": {},
     "output_type": "display_data"
    }
   ],
   "source": [
    "n_neighb = np.arange(2, 15, 1)\n",
    "\n",
    "auc_mean, auc_std = knn_CV(x_train, y_train, n_neighb)\n",
    "    \n",
    "auc_df = pd.DataFrame(n_neighb.reshape(-1,1), columns = [\"N\"])\n",
    "auc_df[\"AUC-mean\"] = auc_mean[:]\n",
    "auc_df[\"AUC-std\"] = auc_std[:]\n",
    "display(auc_df)"
   ]
  },
  {
   "cell_type": "code",
   "execution_count": 120,
   "metadata": {},
   "outputs": [],
   "source": [
    "# n_knn_class = 5\n",
    "# auc_knn = 0.60548"
   ]
  },
  {
   "cell_type": "markdown",
   "metadata": {},
   "source": [
    "### Decision trees"
   ]
  },
  {
   "cell_type": "code",
   "execution_count": 121,
   "metadata": {},
   "outputs": [],
   "source": [
    "def dtc_CV(x_train, y_train, d_depth):\n",
    "    splits_num = 5\n",
    "\n",
    "    AUC = np.zeros((splits_num, len(d_depth)))\n",
    "\n",
    "    for i in range(len(d_depth)):\n",
    "\n",
    "        kf = KFold(n_splits=splits_num)\n",
    "\n",
    "        k = 0\n",
    "        for learn_index, val_index in kf.split(x_train):\n",
    "            x_train_train, x_train_val = x_train[learn_index], x_train[val_index]\n",
    "            y_train_train, y_train_val = y_train[learn_index], y_train[val_index]\n",
    "\n",
    "            pipeline_dtc.set_params(dtc_model__max_depth = d_depth[i])\n",
    "\n",
    "            pipeline_dtc.fit(x_train_train, y_train_train)\n",
    "\n",
    "            y_pred_dtc_proba = pipeline_dtc.predict(x_train_val)\n",
    "            \n",
    "            encoded_y_train_val = to_categorical(y_train_val, num_classes=nclasses + 1)\n",
    "            encoded_y_pred_dtc_proba = to_categorical(y_pred_dtc_proba, num_classes=nclasses + 1)\n",
    "\n",
    "            AUC[k, i] = round(roc_auc_score(encoded_y_train_val[:,1:], encoded_y_pred_dtc_proba[:,1:],\n",
    "                                            multi_class=\"ovr\", average='micro'), 4)\n",
    "\n",
    "            k = k+1\n",
    "\n",
    "    auc_mean = np.zeros(len(d_depth))\n",
    "    auc_std = np.zeros(len(d_depth))\n",
    "    for i in range(len(d_depth)):\n",
    "        auc_mean[i] = AUC[:, i].mean()\n",
    "        auc_std[i] = AUC[:, i].std()\n",
    "        \n",
    "    return auc_mean, auc_std"
   ]
  },
  {
   "cell_type": "code",
   "execution_count": 122,
   "metadata": {},
   "outputs": [
    {
     "data": {
      "text/plain": [
       "{'memory': None,\n",
       " 'steps': [('standardize', StandardScaler()),\n",
       "  ('dtc_model', DecisionTreeClassifier(random_state=123456789))],\n",
       " 'verbose': False,\n",
       " 'standardize': StandardScaler(),\n",
       " 'dtc_model': DecisionTreeClassifier(random_state=123456789),\n",
       " 'standardize__copy': True,\n",
       " 'standardize__with_mean': True,\n",
       " 'standardize__with_std': True,\n",
       " 'dtc_model__ccp_alpha': 0.0,\n",
       " 'dtc_model__class_weight': None,\n",
       " 'dtc_model__criterion': 'gini',\n",
       " 'dtc_model__max_depth': None,\n",
       " 'dtc_model__max_features': None,\n",
       " 'dtc_model__max_leaf_nodes': None,\n",
       " 'dtc_model__min_impurity_decrease': 0.0,\n",
       " 'dtc_model__min_samples_leaf': 1,\n",
       " 'dtc_model__min_samples_split': 2,\n",
       " 'dtc_model__min_weight_fraction_leaf': 0.0,\n",
       " 'dtc_model__random_state': 123456789,\n",
       " 'dtc_model__splitter': 'best'}"
      ]
     },
     "execution_count": 122,
     "metadata": {},
     "output_type": "execute_result"
    }
   ],
   "source": [
    "estimators = []\n",
    "estimators.append(('standardize', StandardScaler()))         # tell pipeline to standardize features\n",
    "estimators.append(('dtc_model',DecisionTreeClassifier(random_state = SEED)))  # tell pipeline to use a logit model with lasso\n",
    "pipeline_dtc = Pipeline(estimators) \n",
    "pipeline_dtc.get_params()"
   ]
  },
  {
   "cell_type": "code",
   "execution_count": 123,
   "metadata": {},
   "outputs": [
    {
     "data": {
      "text/html": [
       "<div>\n",
       "<style scoped>\n",
       "    .dataframe tbody tr th:only-of-type {\n",
       "        vertical-align: middle;\n",
       "    }\n",
       "\n",
       "    .dataframe tbody tr th {\n",
       "        vertical-align: top;\n",
       "    }\n",
       "\n",
       "    .dataframe thead th {\n",
       "        text-align: right;\n",
       "    }\n",
       "</style>\n",
       "<table border=\"1\" class=\"dataframe\">\n",
       "  <thead>\n",
       "    <tr style=\"text-align: right;\">\n",
       "      <th></th>\n",
       "      <th>D</th>\n",
       "      <th>AUC-mean</th>\n",
       "      <th>AUC-std</th>\n",
       "    </tr>\n",
       "  </thead>\n",
       "  <tbody>\n",
       "    <tr>\n",
       "      <th>0</th>\n",
       "      <td>2</td>\n",
       "      <td>0.60214</td>\n",
       "      <td>0.012344</td>\n",
       "    </tr>\n",
       "    <tr>\n",
       "      <th>1</th>\n",
       "      <td>3</td>\n",
       "      <td>0.61412</td>\n",
       "      <td>0.024661</td>\n",
       "    </tr>\n",
       "    <tr>\n",
       "      <th>2</th>\n",
       "      <td>4</td>\n",
       "      <td>0.60904</td>\n",
       "      <td>0.024674</td>\n",
       "    </tr>\n",
       "    <tr>\n",
       "      <th>3</th>\n",
       "      <td>5</td>\n",
       "      <td>0.60556</td>\n",
       "      <td>0.019830</td>\n",
       "    </tr>\n",
       "    <tr>\n",
       "      <th>4</th>\n",
       "      <td>6</td>\n",
       "      <td>0.59020</td>\n",
       "      <td>0.035850</td>\n",
       "    </tr>\n",
       "    <tr>\n",
       "      <th>5</th>\n",
       "      <td>7</td>\n",
       "      <td>0.59190</td>\n",
       "      <td>0.013359</td>\n",
       "    </tr>\n",
       "    <tr>\n",
       "      <th>6</th>\n",
       "      <td>8</td>\n",
       "      <td>0.59022</td>\n",
       "      <td>0.019614</td>\n",
       "    </tr>\n",
       "    <tr>\n",
       "      <th>7</th>\n",
       "      <td>9</td>\n",
       "      <td>0.59010</td>\n",
       "      <td>0.025055</td>\n",
       "    </tr>\n",
       "    <tr>\n",
       "      <th>8</th>\n",
       "      <td>10</td>\n",
       "      <td>0.57814</td>\n",
       "      <td>0.013555</td>\n",
       "    </tr>\n",
       "    <tr>\n",
       "      <th>9</th>\n",
       "      <td>11</td>\n",
       "      <td>0.58322</td>\n",
       "      <td>0.023512</td>\n",
       "    </tr>\n",
       "    <tr>\n",
       "      <th>10</th>\n",
       "      <td>12</td>\n",
       "      <td>0.58842</td>\n",
       "      <td>0.015606</td>\n",
       "    </tr>\n",
       "    <tr>\n",
       "      <th>11</th>\n",
       "      <td>13</td>\n",
       "      <td>0.57638</td>\n",
       "      <td>0.032281</td>\n",
       "    </tr>\n",
       "    <tr>\n",
       "      <th>12</th>\n",
       "      <td>14</td>\n",
       "      <td>0.59010</td>\n",
       "      <td>0.013703</td>\n",
       "    </tr>\n",
       "  </tbody>\n",
       "</table>\n",
       "</div>"
      ],
      "text/plain": [
       "     D  AUC-mean   AUC-std\n",
       "0    2   0.60214  0.012344\n",
       "1    3   0.61412  0.024661\n",
       "2    4   0.60904  0.024674\n",
       "3    5   0.60556  0.019830\n",
       "4    6   0.59020  0.035850\n",
       "5    7   0.59190  0.013359\n",
       "6    8   0.59022  0.019614\n",
       "7    9   0.59010  0.025055\n",
       "8   10   0.57814  0.013555\n",
       "9   11   0.58322  0.023512\n",
       "10  12   0.58842  0.015606\n",
       "11  13   0.57638  0.032281\n",
       "12  14   0.59010  0.013703"
      ]
     },
     "metadata": {},
     "output_type": "display_data"
    }
   ],
   "source": [
    "d_depth = np.arange(2, 15, 1)\n",
    "\n",
    "auc_mean, auc_std = dtc_CV(x_train, y_train, d_depth)\n",
    "    \n",
    "auc_df = pd.DataFrame(d_depth.reshape(-1,1), columns = [\"D\"])\n",
    "auc_df[\"AUC-mean\"] = auc_mean[:]\n",
    "auc_df[\"AUC-std\"] = auc_std[:]\n",
    "display(auc_df)"
   ]
  },
  {
   "cell_type": "code",
   "execution_count": 124,
   "metadata": {},
   "outputs": [],
   "source": [
    "# d_dtc_class = 2\n",
    "# auc_dtc = 0.61058"
   ]
  },
  {
   "cell_type": "markdown",
   "metadata": {},
   "source": [
    "### Random Forest"
   ]
  },
  {
   "cell_type": "code",
   "execution_count": 125,
   "metadata": {},
   "outputs": [],
   "source": [
    "def randfor_CV(x_train, y_train, f_depth):\n",
    "    splits_num = 5\n",
    "\n",
    "    AUC = np.zeros((splits_num, len(f_depth)))\n",
    "\n",
    "    for i in range(len(f_depth)):\n",
    "\n",
    "        kf = KFold(n_splits=splits_num)\n",
    "\n",
    "        k = 0\n",
    "        for learn_index, val_index in kf.split(x_train):\n",
    "            x_train_train, x_train_val = x_train[learn_index], x_train[val_index]\n",
    "            y_train_train, y_train_val = y_train[learn_index], y_train[val_index]\n",
    "\n",
    "            pipeline_randfor.set_params(dtc_model__max_depth = d_depth[i])\n",
    "\n",
    "            pipeline_randfor.fit(x_train_train, y_train_train)\n",
    "\n",
    "            y_pred_randfor_proba = pipeline_randfor.predict(x_train_val)\n",
    "            \n",
    "            encoded_y_train_val = to_categorical(y_train_val, num_classes=nclasses + 1)\n",
    "            encoded_y_pred_randfor_proba = to_categorical(y_pred_randfor_proba, num_classes=nclasses + 1)\n",
    "\n",
    "            AUC[k, i] = round(roc_auc_score(encoded_y_train_val[:,1:], encoded_y_pred_randfor_proba[:,1:],\n",
    "                                            multi_class=\"ovr\", average='micro'), 4)\n",
    "\n",
    "            k = k+1\n",
    "\n",
    "    auc_mean = np.zeros(len(f_depth))\n",
    "    auc_std = np.zeros(len(f_depth))\n",
    "    for i in range(len(f_depth)):\n",
    "        auc_mean[i] = AUC[:, i].mean()\n",
    "        auc_std[i] = AUC[:, i].std()\n",
    "        \n",
    "    return auc_mean, auc_std"
   ]
  },
  {
   "cell_type": "code",
   "execution_count": 126,
   "metadata": {},
   "outputs": [
    {
     "data": {
      "text/plain": [
       "{'memory': None,\n",
       " 'steps': [('standardize', StandardScaler()),\n",
       "  ('randfor_model', RandomForestClassifier(random_state=123456789))],\n",
       " 'verbose': False,\n",
       " 'standardize': StandardScaler(),\n",
       " 'randfor_model': RandomForestClassifier(random_state=123456789),\n",
       " 'standardize__copy': True,\n",
       " 'standardize__with_mean': True,\n",
       " 'standardize__with_std': True,\n",
       " 'randfor_model__bootstrap': True,\n",
       " 'randfor_model__ccp_alpha': 0.0,\n",
       " 'randfor_model__class_weight': None,\n",
       " 'randfor_model__criterion': 'gini',\n",
       " 'randfor_model__max_depth': None,\n",
       " 'randfor_model__max_features': 'auto',\n",
       " 'randfor_model__max_leaf_nodes': None,\n",
       " 'randfor_model__max_samples': None,\n",
       " 'randfor_model__min_impurity_decrease': 0.0,\n",
       " 'randfor_model__min_samples_leaf': 1,\n",
       " 'randfor_model__min_samples_split': 2,\n",
       " 'randfor_model__min_weight_fraction_leaf': 0.0,\n",
       " 'randfor_model__n_estimators': 100,\n",
       " 'randfor_model__n_jobs': None,\n",
       " 'randfor_model__oob_score': False,\n",
       " 'randfor_model__random_state': 123456789,\n",
       " 'randfor_model__verbose': 0,\n",
       " 'randfor_model__warm_start': False}"
      ]
     },
     "execution_count": 126,
     "metadata": {},
     "output_type": "execute_result"
    }
   ],
   "source": [
    "estimators = []\n",
    "estimators.append(('standardize', StandardScaler()))         # tell pipeline to standardize features\n",
    "estimators.append(('randfor_model',RandomForestClassifier(random_state = SEED)))  # tell pipeline to use a logit model with lasso\n",
    "pipeline_randfor = Pipeline(estimators) \n",
    "pipeline_randfor.get_params()"
   ]
  },
  {
   "cell_type": "code",
   "execution_count": 127,
   "metadata": {},
   "outputs": [],
   "source": [
    "# f_depth = np.arange(2, 15, 1)\n",
    "\n",
    "# auc_mean, auc_std = randfor_CV(x_train, y_train, f_depth)\n",
    "    \n",
    "# auc_df = pd.DataFrame(f_depth.reshape(-1,1), columns = [\"F\"])\n",
    "# auc_df[\"AUC-mean\"] = auc_mean[:]\n",
    "# auc_df[\"AUC-std\"] = auc_std[:]\n",
    "# display(auc_df)"
   ]
  },
  {
   "cell_type": "code",
   "execution_count": 128,
   "metadata": {},
   "outputs": [],
   "source": [
    "# f_randfor_class = 3\n",
    "# auc_randfor = 0.61058"
   ]
  },
  {
   "cell_type": "markdown",
   "metadata": {},
   "source": [
    "### Test AUC\n",
    "\n",
    "We finally test our models on unforeseen data and compute the AUC. The logit model performs better and obtains a higher AUC score. If we wanted to compare the models even more thoroughly we could have performed a form of nested cross-validation where inner folds are used to optimise hyperparameters while outer folds allow to select the best model."
   ]
  },
  {
   "cell_type": "code",
   "execution_count": 129,
   "metadata": {},
   "outputs": [
    {
     "name": "stdout",
     "output_type": "stream",
     "text": [
      "Test AUC (baseline): 0.5\n",
      "Test AUC (LASSO): 0.6603260869565217\n",
      "Test AUC (logit): 0.6127717391304349\n",
      "Test AUC (SVM): 0.6331521739130435\n",
      "Test AUC (KNN): 0.6059782608695651\n",
      "Test AUC (Dec. Tree): 0.578804347826087\n",
      "Test AUC (Rand. For.): 0.6195652173913043\n"
     ]
    }
   ],
   "source": [
    "print(\"Test AUC (baseline):\", auc_baseline)\n",
    "\n",
    "lambda_ols_class=0.1\n",
    "pipeline_lasso.set_params(ols_model_l1__alpha = lambda_ols_class)\n",
    "pipeline_lasso.fit(X_train, y_train)\n",
    "y_pred_lasso_proba = pipeline_lasso.predict(X_test)\n",
    "encoded_y_test = to_categorical(y_test, num_classes=nclasses + 1)\n",
    "encoded_y_pred_lasso_proba = to_categorical(y_pred_lasso_proba, num_classes=nclasses + 1)\n",
    "print(\"Test AUC (LASSO):\", roc_auc_score(encoded_y_test[:,1:], encoded_y_pred_lasso_proba[:,1:],\n",
    "                                         multi_class=\"ovr\", average='micro'))\n",
    "\n",
    "\n",
    "c_logit_class=10\n",
    "pipeline_logit.set_params(logit_model_l1__C = c_logit_class)\n",
    "pipeline_logit.fit(X_train, y_train)\n",
    "y_pred_logit_proba = pipeline_logit.predict(X_test)\n",
    "encoded_y_test = to_categorical(y_test, num_classes=nclasses + 1)\n",
    "encoded_y_pred_logit_proba = to_categorical(y_pred_logit_proba, num_classes=nclasses + 1)\n",
    "print(\"Test AUC (logit):\", roc_auc_score(encoded_y_test[:,1:], encoded_y_pred_logit_proba[:,1:],\n",
    "                                         multi_class=\"ovr\", average='micro'))  \n",
    "\n",
    "c_svm_class=0.001                                         \n",
    "pipeline_svc.set_params(svm_model__C = c_svm_class)\n",
    "pipeline_svc.fit(X_train, y_train)\n",
    "y_pred_svc_proba = pipeline_svc.predict(X_test)\n",
    "encoded_y_test = to_categorical(y_test, num_classes=nclasses + 1)\n",
    "encoded_y_pred_svc_proba = to_categorical(y_pred_svc_proba, num_classes=nclasses + 1)\n",
    "print(\"Test AUC (SVM):\", roc_auc_score(encoded_y_test[:,1:], encoded_y_pred_svc_proba[:,1:],\n",
    "                                         multi_class=\"ovr\", average='micro'))\n",
    "\n",
    "n_knn_class=11\n",
    "pipeline_knn.set_params(knn_model__n_neighbors = n_knn_class)\n",
    "pipeline_knn.fit(X_train, y_train)\n",
    "y_pred_knn_proba = pipeline_knn.predict(X_test)\n",
    "encoded_y_test = to_categorical(y_test, num_classes=nclasses + 1)\n",
    "encoded_y_pred_knn_proba = to_categorical(y_pred_knn_proba, num_classes=nclasses + 1)\n",
    "print(\"Test AUC (KNN):\", roc_auc_score(encoded_y_test[:,1:], encoded_y_pred_knn_proba[:,1:],\n",
    "                                         multi_class=\"ovr\", average='micro'))\n",
    "\n",
    "d_depth=8\n",
    "pipeline_dtc.set_params(dtc_model__max_depth = d_depth)\n",
    "pipeline_dtc.fit(X_train, y_train)\n",
    "y_pred_dtc_proba = pipeline_dtc.predict(X_test)\n",
    "encoded_y_test = to_categorical(y_test, num_classes=nclasses + 1)\n",
    "encoded_y_pred_dtc_proba = to_categorical(y_pred_dtc_proba, num_classes=nclasses + 1)\n",
    "print(\"Test AUC (Dec. Tree):\", roc_auc_score(encoded_y_test[:,1:], encoded_y_pred_dtc_proba[:,1:],\n",
    "                                         multi_class=\"ovr\", average='micro'))\n",
    "\n",
    "f_randfor_class=2\n",
    "pipeline_randfor.set_params(randfor_model__max_depth = f_randfor_class)\n",
    "pipeline_randfor.fit(X_train, y_train)\n",
    "y_pred_randfor_proba = pipeline_randfor.predict(X_test)\n",
    "encoded_y_test = to_categorical(y_test, num_classes=nclasses + 1)\n",
    "encoded_y_pred_randfor_proba = to_categorical(y_pred_randfor_proba, num_classes=nclasses + 1)\n",
    "print(\"Test AUC (Rand. For.):\", roc_auc_score(encoded_y_test[:,1:], encoded_y_pred_randfor_proba[:,1:],\n",
    "                                         multi_class=\"ovr\", average='micro'))\n",
    "\n",
    "   \n",
    "                                    "
   ]
  },
  {
   "cell_type": "code",
   "execution_count": 130,
   "metadata": {},
   "outputs": [],
   "source": [
    "models_classification = pd.DataFrame([[auc_baseline], [roc_auc_score(encoded_y_test[:,1:], encoded_y_pred_lasso_proba[:,1:], multi_class=\"ovr\", average='micro')],\n",
    "                                    [roc_auc_score(encoded_y_test[:,1:], encoded_y_pred_logit_proba[:,1:], multi_class=\"ovr\", average='micro')],\n",
    "                                     [roc_auc_score(encoded_y_test[:,1:], encoded_y_pred_svc_proba[:,1:], multi_class=\"ovr\", average='micro')],\n",
    "                                     [roc_auc_score(encoded_y_test[:,1:], encoded_y_pred_knn_proba[:,1:], multi_class=\"ovr\", average='micro')],\n",
    "                                     [roc_auc_score(encoded_y_test[:,1:], encoded_y_pred_dtc_proba[:,1:], multi_class=\"ovr\", average='micro')],\n",
    "                                     [roc_auc_score(encoded_y_test[:,1:], encoded_y_pred_randfor_proba[:,1:], multi_class=\"ovr\", average='micro')]],\n",
    "                                    index=['baseline','Lasso','logit','SVM','KNN','Dec. Tree','Rand. For.'], columns=['Test AUC'])"
   ]
  },
  {
   "cell_type": "code",
   "execution_count": 131,
   "metadata": {},
   "outputs": [
    {
     "data": {
      "text/html": [
       "<div>\n",
       "<style scoped>\n",
       "    .dataframe tbody tr th:only-of-type {\n",
       "        vertical-align: middle;\n",
       "    }\n",
       "\n",
       "    .dataframe tbody tr th {\n",
       "        vertical-align: top;\n",
       "    }\n",
       "\n",
       "    .dataframe thead th {\n",
       "        text-align: right;\n",
       "    }\n",
       "</style>\n",
       "<table border=\"1\" class=\"dataframe\">\n",
       "  <thead>\n",
       "    <tr style=\"text-align: right;\">\n",
       "      <th></th>\n",
       "      <th>Test AUC</th>\n",
       "    </tr>\n",
       "  </thead>\n",
       "  <tbody>\n",
       "    <tr>\n",
       "      <th>baseline</th>\n",
       "      <td>0.500000</td>\n",
       "    </tr>\n",
       "    <tr>\n",
       "      <th>Lasso</th>\n",
       "      <td>0.660326</td>\n",
       "    </tr>\n",
       "    <tr>\n",
       "      <th>logit</th>\n",
       "      <td>0.612772</td>\n",
       "    </tr>\n",
       "    <tr>\n",
       "      <th>SVM</th>\n",
       "      <td>0.633152</td>\n",
       "    </tr>\n",
       "    <tr>\n",
       "      <th>KNN</th>\n",
       "      <td>0.605978</td>\n",
       "    </tr>\n",
       "    <tr>\n",
       "      <th>Dec. Tree</th>\n",
       "      <td>0.578804</td>\n",
       "    </tr>\n",
       "    <tr>\n",
       "      <th>Rand. For.</th>\n",
       "      <td>0.619565</td>\n",
       "    </tr>\n",
       "  </tbody>\n",
       "</table>\n",
       "</div>"
      ],
      "text/plain": [
       "            Test AUC\n",
       "baseline    0.500000\n",
       "Lasso       0.660326\n",
       "logit       0.612772\n",
       "SVM         0.633152\n",
       "KNN         0.605978\n",
       "Dec. Tree   0.578804\n",
       "Rand. For.  0.619565"
      ]
     },
     "execution_count": 131,
     "metadata": {},
     "output_type": "execute_result"
    }
   ],
   "source": [
    "models_classification"
   ]
  },
  {
   "cell_type": "code",
   "execution_count": 132,
   "metadata": {},
   "outputs": [
    {
     "data": {
      "image/png": "[encoded data removed]",
      "text/plain": [
       "<Figure size 432x288 with 1 Axes>"
      ]
     },
     "metadata": {},
     "output_type": "display_data"
    }
   ],
   "source": [
    "models_classification.sort_values(by='Test AUC', ascending=False).plot(kind='barh', alpha=0.7)\n",
    "plt.title('Test AUC for all classification models')\n",
    "plt.xlim(0,1)\n",
    "plt.grid();"
   ]
  },
  {
   "cell_type": "markdown",
   "metadata": {},
   "source": [
    "### Confusion matrix for the best classifier"
   ]
  },
  {
   "cell_type": "code",
   "execution_count": 133,
   "metadata": {
    "scrolled": true
   },
   "outputs": [
    {
     "data": {
      "text/plain": [
       "array([[ 0,  4,  0,  0,  0],\n",
       "       [ 0, 10,  7,  7,  0],\n",
       "       [ 0,  9, 15, 14,  0],\n",
       "       [ 0,  1, 12, 10,  0],\n",
       "       [ 0,  0,  2,  1,  0]])"
      ]
     },
     "execution_count": 133,
     "metadata": {},
     "output_type": "execute_result"
    }
   ],
   "source": [
    "cm_opt = confusion_matrix(y_test,y_pred_logit_proba)\n",
    "cm_opt"
   ]
  },
  {
   "cell_type": "code",
   "execution_count": 134,
   "metadata": {},
   "outputs": [
    {
     "data": {
      "image/png": "[encoded data removed]",
      "text/plain": [
       "<Figure size 432x288 with 2 Axes>"
      ]
     },
     "metadata": {},
     "output_type": "display_data"
    }
   ],
   "source": [
    "cmap = sns.cm.rocket_r\n",
    "sns.heatmap(cm_opt, annot=True, cmap = cmap)\n",
    "plt.title('Confusion matrix for the logit model')\n",
    "plt.xlabel('Predicted class')\n",
    "plt.ylabel('Actual class')\n",
    "# plt.savefig('CM_bestmodel.png')\n",
    "plt.show()"
   ]
  },
  {
   "cell_type": "code",
   "execution_count": 135,
   "metadata": {},
   "outputs": [
    {
     "name": "stdout",
     "output_type": "stream",
     "text": [
      "Proportion of images correctly classified 0.3804\n",
      "Proportion of images classified at 1 class away from the truth 0.5109\n",
      "Proportion of images classified at 2 classes away from the truth 0.1087\n",
      "Proportion of images classified at 3 classes away from the truth 0.0\n"
     ]
    }
   ],
   "source": [
    "diff_target = np.abs(y_pred_logit_proba-y_test)\n",
    "print('Proportion of images correctly classified', round(np.count_nonzero(diff_target == 0)/np.sum(cm_opt),4))\n",
    "print('Proportion of images classified at 1 class away from the truth',\n",
    "      round(np.count_nonzero(diff_target == 1)/np.sum(cm_opt),4))\n",
    "print('Proportion of images classified at 2 classes away from the truth',\n",
    "      round(np.count_nonzero(diff_target == 2)/np.sum(cm_opt),4))\n",
    "print('Proportion of images classified at 3 classes away from the truth',\n",
    "      round(np.count_nonzero(diff_target == 3)/np.sum(cm_opt),4))"
   ]
  },
  {
   "cell_type": "code",
   "execution_count": null,
   "metadata": {},
   "outputs": [],
   "source": []
  }
 ],
 "metadata": {
  "kernelspec": {
   "display_name": "Python 3",
   "language": "python",
   "name": "python3"
  },
  "language_info": {
   "codemirror_mode": {
    "name": "ipython",
    "version": 3
   },
   "file_extension": ".py",
   "mimetype": "text/x-python",
   "name": "python",
   "nbconvert_exporter": "python",
   "pygments_lexer": "ipython3",
   "version": "3.9.6"
  }
 },
 "nbformat": 4,
 "nbformat_minor": 4
}
