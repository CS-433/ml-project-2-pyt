{
 "cells": [
  {
   "cell_type": "code",
   "execution_count": 110,
   "metadata": {},
   "outputs": [],
   "source": [
    "import numpy as np\n",
    "import matplotlib.pyplot as plt\n",
    "import pandas as pd\n",
    "import keras as ks\n",
    "import seaborn as sns\n",
    "from PIL import Image\n",
    "%matplotlib inline"
   ]
  },
  {
   "cell_type": "markdown",
   "metadata": {},
   "source": [
    "# Survey Answers and Image Ranking"
   ]
  },
  {
   "cell_type": "markdown",
   "metadata": {},
   "source": [
    "Download the survey results."
   ]
  },
  {
   "cell_type": "code",
   "execution_count": 111,
   "metadata": {},
   "outputs": [
    {
     "data": {
      "text/html": [
       "<div>\n",
       "<style scoped>\n",
       "    .dataframe tbody tr th:only-of-type {\n",
       "        vertical-align: middle;\n",
       "    }\n",
       "\n",
       "    .dataframe tbody tr th {\n",
       "        vertical-align: top;\n",
       "    }\n",
       "\n",
       "    .dataframe thead th {\n",
       "        text-align: right;\n",
       "    }\n",
       "</style>\n",
       "<table border=\"1\" class=\"dataframe\">\n",
       "  <thead>\n",
       "    <tr style=\"text-align: right;\">\n",
       "      <th></th>\n",
       "      <th>Age</th>\n",
       "      <th>Percentage of lifetime in a city</th>\n",
       "      <th>Image1 ID</th>\n",
       "      <th>Image2 ID</th>\n",
       "      <th>Winner</th>\n",
       "      <th>Person ID</th>\n",
       "    </tr>\n",
       "  </thead>\n",
       "  <tbody>\n",
       "    <tr>\n",
       "      <th>count</th>\n",
       "      <td>14254.000000</td>\n",
       "      <td>14254.000000</td>\n",
       "      <td>14254.000000</td>\n",
       "      <td>14254.000000</td>\n",
       "      <td>14254.000000</td>\n",
       "      <td>1.425400e+04</td>\n",
       "    </tr>\n",
       "    <tr>\n",
       "      <th>mean</th>\n",
       "      <td>32.559632</td>\n",
       "      <td>0.536940</td>\n",
       "      <td>227.012418</td>\n",
       "      <td>230.548688</td>\n",
       "      <td>230.618353</td>\n",
       "      <td>2.395758e+07</td>\n",
       "    </tr>\n",
       "    <tr>\n",
       "      <th>std</th>\n",
       "      <td>20.909320</td>\n",
       "      <td>0.412010</td>\n",
       "      <td>132.377288</td>\n",
       "      <td>131.419003</td>\n",
       "      <td>131.196153</td>\n",
       "      <td>2.509833e+07</td>\n",
       "    </tr>\n",
       "    <tr>\n",
       "      <th>min</th>\n",
       "      <td>12.000000</td>\n",
       "      <td>0.000000</td>\n",
       "      <td>0.000000</td>\n",
       "      <td>0.000000</td>\n",
       "      <td>0.000000</td>\n",
       "      <td>2.160600e+04</td>\n",
       "    </tr>\n",
       "    <tr>\n",
       "      <th>25%</th>\n",
       "      <td>20.000000</td>\n",
       "      <td>0.000000</td>\n",
       "      <td>112.000000</td>\n",
       "      <td>117.000000</td>\n",
       "      <td>111.000000</td>\n",
       "      <td>2.299160e+06</td>\n",
       "    </tr>\n",
       "    <tr>\n",
       "      <th>50%</th>\n",
       "      <td>22.000000</td>\n",
       "      <td>0.754967</td>\n",
       "      <td>228.000000</td>\n",
       "      <td>233.000000</td>\n",
       "      <td>235.000000</td>\n",
       "      <td>2.013920e+07</td>\n",
       "    </tr>\n",
       "    <tr>\n",
       "      <th>75%</th>\n",
       "      <td>30.000000</td>\n",
       "      <td>0.929360</td>\n",
       "      <td>341.000000</td>\n",
       "      <td>344.000000</td>\n",
       "      <td>338.750000</td>\n",
       "      <td>2.443626e+07</td>\n",
       "    </tr>\n",
       "    <tr>\n",
       "      <th>max</th>\n",
       "      <td>96.000000</td>\n",
       "      <td>1.000000</td>\n",
       "      <td>457.000000</td>\n",
       "      <td>457.000000</td>\n",
       "      <td>457.000000</td>\n",
       "      <td>9.617434e+07</td>\n",
       "    </tr>\n",
       "  </tbody>\n",
       "</table>\n",
       "</div>"
      ],
      "text/plain": [
       "                Age  Percentage of lifetime in a city     Image1 ID  \\\n",
       "count  14254.000000                      14254.000000  14254.000000   \n",
       "mean      32.559632                          0.536940    227.012418   \n",
       "std       20.909320                          0.412010    132.377288   \n",
       "min       12.000000                          0.000000      0.000000   \n",
       "25%       20.000000                          0.000000    112.000000   \n",
       "50%       22.000000                          0.754967    228.000000   \n",
       "75%       30.000000                          0.929360    341.000000   \n",
       "max       96.000000                          1.000000    457.000000   \n",
       "\n",
       "          Image2 ID        Winner     Person ID  \n",
       "count  14254.000000  14254.000000  1.425400e+04  \n",
       "mean     230.548688    230.618353  2.395758e+07  \n",
       "std      131.419003    131.196153  2.509833e+07  \n",
       "min        0.000000      0.000000  2.160600e+04  \n",
       "25%      117.000000    111.000000  2.299160e+06  \n",
       "50%      233.000000    235.000000  2.013920e+07  \n",
       "75%      344.000000    338.750000  2.443626e+07  \n",
       "max      457.000000    457.000000  9.617434e+07  "
      ]
     },
     "execution_count": 111,
     "metadata": {},
     "output_type": "execute_result"
    }
   ],
   "source": [
    "surv = pd.read_csv('../Data/Survey/CleanedResults.csv')\n",
    "surv = surv.iloc[: , 1:] #Just to remove this Unnamed 0 column\n",
    "surv.describe()"
   ]
  },
  {
   "cell_type": "markdown",
   "metadata": {},
   "source": [
    "### Build Ranking for images\n",
    "Build a win ratio, which is calculated by taking the ratio between number of wins over number of total appearences in battles."
   ]
  },
  {
   "cell_type": "code",
   "execution_count": 112,
   "metadata": {},
   "outputs": [],
   "source": [
    "win = pd.DataFrame(surv['Winner'].value_counts())\n",
    "win.sort_index(ascending=True, inplace=True)"
   ]
  },
  {
   "cell_type": "code",
   "execution_count": 113,
   "metadata": {},
   "outputs": [],
   "source": [
    "im1 = pd.DataFrame(surv['Image1 ID'].value_counts())\n",
    "im1.sort_index(ascending=True, inplace=True)"
   ]
  },
  {
   "cell_type": "code",
   "execution_count": 114,
   "metadata": {},
   "outputs": [],
   "source": [
    "im2 = pd.DataFrame(surv['Image2 ID'].value_counts())\n",
    "im2.sort_index(ascending=True, inplace=True)"
   ]
  },
  {
   "cell_type": "code",
   "execution_count": 115,
   "metadata": {},
   "outputs": [],
   "source": [
    "occur = pd.DataFrame(im1.values+im2.values, columns=['Image occurence'])"
   ]
  },
  {
   "cell_type": "code",
   "execution_count": 116,
   "metadata": {},
   "outputs": [],
   "source": [
    "contest = pd.concat([occur, win],axis=1)"
   ]
  },
  {
   "cell_type": "code",
   "execution_count": 117,
   "metadata": {},
   "outputs": [],
   "source": [
    "contest['Win ratio'] = contest['Winner'] / contest['Image occurence']"
   ]
  },
  {
   "cell_type": "code",
   "execution_count": 118,
   "metadata": {},
   "outputs": [],
   "source": [
    "pd.set_option('display.max_rows', None)"
   ]
  },
  {
   "cell_type": "code",
   "execution_count": 119,
   "metadata": {},
   "outputs": [],
   "source": [
    "contest.reset_index(inplace=True)\n",
    "contest.fillna(0.0, inplace=True)"
   ]
  },
  {
   "cell_type": "code",
   "execution_count": 120,
   "metadata": {},
   "outputs": [],
   "source": [
    "contest.drop(['Image occurence','Winner'], axis=1, inplace=True)"
   ]
  },
  {
   "cell_type": "markdown",
   "metadata": {},
   "source": [
    "# Feature engineering"
   ]
  },
  {
   "cell_type": "markdown",
   "metadata": {},
   "source": [
    "Build the dataframe,plot the distribution, and perform a PCA."
   ]
  },
  {
   "cell_type": "markdown",
   "metadata": {},
   "source": [
    "### Building the dataframe"
   ]
  },
  {
   "cell_type": "code",
   "execution_count": 121,
   "metadata": {},
   "outputs": [],
   "source": [
    "obj_rgb_bright = pd.read_csv('images_features.csv')\n",
    "df_model = pd.merge(contest, obj_rgb_bright, left_on='index', right_on='Image number', how='outer')\n",
    "obj_num = df_model['Image number'].value_counts()\n",
    "obj_num.sort_index(ascending=True, inplace=True)\n",
    "obj_num = np.array(obj_num)\n",
    "obj_num = pd.DataFrame(obj_num, columns=['Number of obj.'])\n",
    "size = df_model[['Image number','Size of box']].groupby('Image number').sum()\n",
    "size = size / 360000\n",
    "df_model.drop(['Object','Reliability','Size of box'], axis=1, inplace=True)\n",
    "df_model = pd.merge(df_model, size, on='Image number', how='outer')\n",
    "df_model = df_model.groupby('Image number').mean()\n"
   ]
  },
  {
   "cell_type": "code",
   "execution_count": 122,
   "metadata": {},
   "outputs": [],
   "source": [
    "df_model_final = pd.read_csv('Segmented_features.csv')\n",
    "# df_model_final.describe()"
   ]
  },
  {
   "cell_type": "code",
   "execution_count": 123,
   "metadata": {},
   "outputs": [],
   "source": [
    "df_model_final['Size of box'] = df_model['Size of box']\n",
    "df_model_final['Win ratio'] = contest['Win ratio']\n",
    "df_model_final = df_model_final.iloc[: , 1:] #Just to remove this Unnamed 0 column"
   ]
  },
  {
   "cell_type": "code",
   "execution_count": 124,
   "metadata": {},
   "outputs": [
    {
     "data": {
      "text/html": [
       "<div>\n",
       "<style scoped>\n",
       "    .dataframe tbody tr th:only-of-type {\n",
       "        vertical-align: middle;\n",
       "    }\n",
       "\n",
       "    .dataframe tbody tr th {\n",
       "        vertical-align: top;\n",
       "    }\n",
       "\n",
       "    .dataframe thead th {\n",
       "        text-align: right;\n",
       "    }\n",
       "</style>\n",
       "<table border=\"1\" class=\"dataframe\">\n",
       "  <thead>\n",
       "    <tr style=\"text-align: right;\">\n",
       "      <th></th>\n",
       "      <th>Black</th>\n",
       "      <th>Grey</th>\n",
       "      <th>White</th>\n",
       "      <th>Green</th>\n",
       "      <th>Blue</th>\n",
       "      <th>Size of box</th>\n",
       "      <th>Win ratio</th>\n",
       "    </tr>\n",
       "  </thead>\n",
       "  <tbody>\n",
       "    <tr>\n",
       "      <th>count</th>\n",
       "      <td>458.000000</td>\n",
       "      <td>458.000000</td>\n",
       "      <td>458.000000</td>\n",
       "      <td>458.000000</td>\n",
       "      <td>458.000000</td>\n",
       "      <td>458.000000</td>\n",
       "      <td>458.000000</td>\n",
       "    </tr>\n",
       "    <tr>\n",
       "      <th>mean</th>\n",
       "      <td>16648.052402</td>\n",
       "      <td>208024.569869</td>\n",
       "      <td>15799.126638</td>\n",
       "      <td>34871.089520</td>\n",
       "      <td>25818.054585</td>\n",
       "      <td>0.064107</td>\n",
       "      <td>0.500151</td>\n",
       "    </tr>\n",
       "    <tr>\n",
       "      <th>std</th>\n",
       "      <td>11249.748388</td>\n",
       "      <td>37309.266196</td>\n",
       "      <td>11524.173252</td>\n",
       "      <td>16622.630175</td>\n",
       "      <td>26885.098560</td>\n",
       "      <td>0.068860</td>\n",
       "      <td>0.195314</td>\n",
       "    </tr>\n",
       "    <tr>\n",
       "      <th>min</th>\n",
       "      <td>1580.000000</td>\n",
       "      <td>97536.000000</td>\n",
       "      <td>639.000000</td>\n",
       "      <td>5945.000000</td>\n",
       "      <td>319.000000</td>\n",
       "      <td>0.000000</td>\n",
       "      <td>0.015873</td>\n",
       "    </tr>\n",
       "    <tr>\n",
       "      <th>25%</th>\n",
       "      <td>8804.750000</td>\n",
       "      <td>185281.750000</td>\n",
       "      <td>7953.250000</td>\n",
       "      <td>22618.500000</td>\n",
       "      <td>3987.500000</td>\n",
       "      <td>0.006792</td>\n",
       "      <td>0.338524</td>\n",
       "    </tr>\n",
       "    <tr>\n",
       "      <th>50%</th>\n",
       "      <td>13788.000000</td>\n",
       "      <td>208384.500000</td>\n",
       "      <td>13282.000000</td>\n",
       "      <td>32663.500000</td>\n",
       "      <td>13063.500000</td>\n",
       "      <td>0.041458</td>\n",
       "      <td>0.508484</td>\n",
       "    </tr>\n",
       "    <tr>\n",
       "      <th>75%</th>\n",
       "      <td>20685.750000</td>\n",
       "      <td>233547.000000</td>\n",
       "      <td>20410.750000</td>\n",
       "      <td>45085.250000</td>\n",
       "      <td>43250.750000</td>\n",
       "      <td>0.099104</td>\n",
       "      <td>0.650534</td>\n",
       "    </tr>\n",
       "    <tr>\n",
       "      <th>max</th>\n",
       "      <td>71186.000000</td>\n",
       "      <td>316059.000000</td>\n",
       "      <td>111425.000000</td>\n",
       "      <td>102143.000000</td>\n",
       "      <td>123372.000000</td>\n",
       "      <td>0.360564</td>\n",
       "      <td>0.916667</td>\n",
       "    </tr>\n",
       "  </tbody>\n",
       "</table>\n",
       "</div>"
      ],
      "text/plain": [
       "              Black           Grey          White          Green  \\\n",
       "count    458.000000     458.000000     458.000000     458.000000   \n",
       "mean   16648.052402  208024.569869   15799.126638   34871.089520   \n",
       "std    11249.748388   37309.266196   11524.173252   16622.630175   \n",
       "min     1580.000000   97536.000000     639.000000    5945.000000   \n",
       "25%     8804.750000  185281.750000    7953.250000   22618.500000   \n",
       "50%    13788.000000  208384.500000   13282.000000   32663.500000   \n",
       "75%    20685.750000  233547.000000   20410.750000   45085.250000   \n",
       "max    71186.000000  316059.000000  111425.000000  102143.000000   \n",
       "\n",
       "                Blue  Size of box   Win ratio  \n",
       "count     458.000000   458.000000  458.000000  \n",
       "mean    25818.054585     0.064107    0.500151  \n",
       "std     26885.098560     0.068860    0.195314  \n",
       "min       319.000000     0.000000    0.015873  \n",
       "25%      3987.500000     0.006792    0.338524  \n",
       "50%     13063.500000     0.041458    0.508484  \n",
       "75%     43250.750000     0.099104    0.650534  \n",
       "max    123372.000000     0.360564    0.916667  "
      ]
     },
     "execution_count": 124,
     "metadata": {},
     "output_type": "execute_result"
    }
   ],
   "source": [
    "df_model_final.describe()"
   ]
  },
  {
   "cell_type": "code",
   "execution_count": 125,
   "metadata": {},
   "outputs": [
    {
     "data": {
      "image/png": "[encoded data removed]",
      "text/plain": [
       "<Figure size 1008x720 with 7 Axes>"
      ]
     },
     "metadata": {
      "needs_background": "light"
     },
     "output_type": "display_data"
    }
   ],
   "source": [
    "# plots distribution\n",
    "fig = plt.figure(figsize=(14,10))\n",
    "\n",
    "for i in range(df_model_final.columns.shape[0]):\n",
    "    col = df_model_final.iloc[:,i]\n",
    "    ax = plt.subplot(5, 4 ,i+1)\n",
    "    sns.histplot(col, stat=\"count\",ax = ax, bins = 50)\n",
    "    \n",
    "# set the spacing between subplots\n",
    "plt.subplots_adjust(left=0.1,bottom=0.1, right=0.9, \n",
    "                    top=0.9, wspace=0.4, hspace=0.8)\n",
    "\n",
    "fig.suptitle(\"Distribution of numerical data\")\n",
    "\n",
    "plt.show()"
   ]
  },
  {
   "cell_type": "code",
   "execution_count": 126,
   "metadata": {},
   "outputs": [
    {
     "data": {
      "image/png": "[encoded data removed]",
      "text/plain": [
       "<Figure size 432x288 with 1 Axes>"
      ]
     },
     "metadata": {
      "needs_background": "light"
     },
     "output_type": "display_data"
    }
   ],
   "source": [
    "df_model_final['Win ratio'].hist(bins=25)\n",
    "plt.title('Win ratio histogram',fontsize=18)\n",
    "plt.xlabel('Win ratio',fontsize=14)\n",
    "plt.ylabel('Frequency',fontsize=14)\n",
    "plt.xlim([0,1])\n",
    "plt.savefig('win_ratio.png')\n",
    "plt.show()"
   ]
  },
  {
   "cell_type": "markdown",
   "metadata": {},
   "source": [
    "## Projecting in 2D (PCA)"
   ]
  },
  {
   "cell_type": "code",
   "execution_count": 127,
   "metadata": {},
   "outputs": [],
   "source": [
    "from sklearn.preprocessing   import StandardScaler\n",
    "from sklearn.preprocessing   import PolynomialFeatures\n",
    "from sklearn.decomposition   import PCA"
   ]
  },
  {
   "cell_type": "code",
   "execution_count": 128,
   "metadata": {},
   "outputs": [],
   "source": [
    "# Select target variable into an ARRAY called `y` and features into a DATAFRAME called  `X` \n",
    "y = np.array(df_model_final['Win ratio'])\n",
    "features = list(set(list(df_model_final.columns)) - set(['Win ratio']))\n",
    "X = df_model_final.loc[:, features]\n",
    "#X"
   ]
  },
  {
   "cell_type": "code",
   "execution_count": 129,
   "metadata": {},
   "outputs": [],
   "source": [
    "# Standardize the data\n",
    "scaler = StandardScaler()\n",
    "X_stand = scaler.fit_transform(X)\n",
    "\n",
    "pca2 = PCA(n_components=2)\n",
    "pca2.fit(X_stand)\n",
    "X_proj = pca2.transform(X_stand)"
   ]
  },
  {
   "cell_type": "code",
   "execution_count": 130,
   "metadata": {},
   "outputs": [
    {
     "data": {
      "image/png": "[encoded data removed]",
      "text/plain": [
       "<Figure size 576x432 with 1 Axes>"
      ]
     },
     "metadata": {
      "needs_background": "light"
     },
     "output_type": "display_data"
    }
   ],
   "source": [
    "fig, axes = plt.subplots(nrows = 1, ncols = 1, figsize = (8, 6))\n",
    "plt.scatter(X_proj[:,0], X_proj[:, 1], s = 20)\n",
    "plt.title(\"2D representation of the data using PCA\")\n",
    "plt.xlabel(\"Principal component 1\")\n",
    "plt.ylabel(\"Principal component 2\")\n",
    "plt.grid()\n",
    "plt.show()"
   ]
  },
  {
   "cell_type": "code",
   "execution_count": 131,
   "metadata": {},
   "outputs": [
    {
     "data": {
      "text/plain": [
       "array([0.32309233, 0.19430273])"
      ]
     },
     "execution_count": 131,
     "metadata": {},
     "output_type": "execute_result"
    }
   ],
   "source": [
    "pca2.explained_variance_ratio_"
   ]
  },
  {
   "cell_type": "code",
   "execution_count": 132,
   "metadata": {},
   "outputs": [
    {
     "name": "stderr",
     "output_type": "stream",
     "text": [
      "No handles with labels found to put in legend.\n"
     ]
    },
    {
     "data": {
      "image/png": "[encoded data removed]",
      "text/plain": [
       "<Figure size 1296x720 with 2 Axes>"
      ]
     },
     "metadata": {
      "needs_background": "light"
     },
     "output_type": "display_data"
    }
   ],
   "source": [
    "# Look at the number of principal component needed to explain a certain level of variance\n",
    "_, cols = X_stand.shape\n",
    "\n",
    "pca = PCA(n_components = cols)\n",
    "X_new = pca.fit_transform(X_stand)\n",
    "exp_var = pca.explained_variance_ratio_\n",
    "\n",
    "x = range(len(exp_var))\n",
    "sum_exp_var = np.zeros((len(exp_var),1))\n",
    "prev = 0\n",
    "for i in x:\n",
    "    sum_exp_var[i] = prev+exp_var[i]\n",
    "    prev = sum_exp_var[i]\n",
    "\n",
    "fig,ax = plt.subplots(figsize = (18,10))\n",
    "\n",
    "plt.bar(x, exp_var)\n",
    "ax.set_ylabel(\"Explained variance\",color=\"b\",fontsize=30)\n",
    "# plt.title('Explained variance of each PC and accumulated variance',fontsize=28)\n",
    "plt.xlabel('Principal component',fontsize=30)\n",
    "plt.ylabel('Explained variance')\n",
    "ax2=ax.twinx()\n",
    "ax.tick_params(axis='both', which='major', labelsize=20)\n",
    "ax2.tick_params(axis='both', which='major', labelsize=20)\n",
    "plt.plot(x, sum_exp_var, 'r', linewidth=4)\n",
    "ax2.set_ylabel(\"Accumulated variance\",color=\"r\",fontsize=30)\n",
    "\n",
    "# plt.axhline(y=0.95, color = 'red', linestyle = '--', label = \"95% explained variance\")\n",
    "plt.legend()\n",
    "plt.savefig('PC_analysis.png')\n",
    "plt.show()"
   ]
  },
  {
   "cell_type": "markdown",
   "metadata": {},
   "source": [
    "One color feature is fully correlated to the others => we can remove Red. We end up with 5 color features, and one object feature."
   ]
  },
  {
   "cell_type": "markdown",
   "metadata": {},
   "source": [
    "## Build a Model"
   ]
  },
  {
   "cell_type": "code",
   "execution_count": 134,
   "metadata": {},
   "outputs": [],
   "source": [
    "# Imports\n",
    "import os\n",
    "import math\n",
    "import random\n",
    "import itertools\n",
    "\n",
    "import numpy as np    \n",
    "import pandas as pd\n",
    "\n",
    "import matplotlib \n",
    "import matplotlib.pyplot as plt\n",
    "from matplotlib.colors import ListedColormap\n",
    "\n",
    "import seaborn as sns\n",
    "sns.set(style=\"white\")\n",
    "\n",
    "from math import log\n",
    "\n",
    "from sklearn.dummy           import DummyClassifier\n",
    "from sklearn.linear_model    import LinearRegression\n",
    "from sklearn.linear_model    import LogisticRegression\n",
    "from sklearn.linear_model    import Lasso\n",
    "from sklearn.neighbors       import KNeighborsClassifier\n",
    "from sklearn.svm             import SVC\n",
    "from sklearn.svm             import SVR\n",
    "from sklearn.tree            import DecisionTreeClassifier\n",
    "from sklearn.ensemble        import RandomForestClassifier\n",
    "\n",
    "from sklearn.metrics         import confusion_matrix\n",
    "from sklearn.metrics         import roc_curve\n",
    "from sklearn.metrics         import roc_auc_score\n",
    "from sklearn.metrics         import accuracy_score\n",
    "from sklearn.metrics         import mean_squared_error\n",
    "from sklearn.metrics         import r2_score\n",
    "from sklearn.metrics         import classification_report\n",
    "\n",
    "from sklearn.pipeline        import Pipeline\n",
    "\n",
    "from sklearn.model_selection import train_test_split\n",
    "from sklearn.model_selection import KFold\n",
    "\n",
    "import warnings\n",
    "warnings.filterwarnings('ignore') # ignore some warnings\n",
    "\n",
    "import shap\n",
    "\n",
    "SEED = 123456789   # Define a random seed so random steps can be replicated. "
   ]
  },
  {
   "cell_type": "code",
   "execution_count": 135,
   "metadata": {},
   "outputs": [],
   "source": [
    "# df_model_final = df_model_final[:457]\n",
    "df_model_final = df_model_final.dropna()"
   ]
  },
  {
   "cell_type": "code",
   "execution_count": 136,
   "metadata": {},
   "outputs": [],
   "source": [
    "# Select target variable into an ARRAY called `y` and features into a DATAFRAME called  `X` \n",
    "y = np.array(df_model_final['Win ratio'])\n",
    "features = list(set(list(df_model_final.columns)) - set(['Win ratio']))\n",
    "X = df_model_final.loc[:, features]"
   ]
  },
  {
   "cell_type": "code",
   "execution_count": 137,
   "metadata": {},
   "outputs": [],
   "source": [
    "# Divide data into a training set and a testing set using the train_test_split() function\n",
    "#   NOTE: Please call the subsamples `X_train` ,  `X_test` , `y_train` , `y_test` so we can follow your code\n",
    "indices = range(0,458,1)\n",
    "X_train, X_test, y_train, y_test, indices_train, indices_test = train_test_split(X, y, indices, test_size=0.20, random_state=SEED)"
   ]
  },
  {
   "cell_type": "code",
   "execution_count": 138,
   "metadata": {},
   "outputs": [],
   "source": [
    "# Define Residual Sum of Squares, and Mean Squared Error to assess regression models\n",
    "def rss(y, y_hat):\n",
    "    return sum( [ (yi - yi_hat)**2  for yi, yi_hat in zip(y, y_hat)] )\n",
    "\n",
    "def mse(y, y_hat, p=0):\n",
    "    return math.sqrt( (rss(y, y_hat))/ (len(y)-p-1) )"
   ]
  },
  {
   "cell_type": "code",
   "execution_count": 140,
   "metadata": {},
   "outputs": [],
   "source": [
    "# Define a function to get the features' importance of a tree based model\n",
    "def print_feature_importance(tree_model, feature_names):\n",
    "    \"\"\"\n",
    "    Function to print a list of features from an sklearn tree model (ranked by importance of the feature)\n",
    "    \n",
    "    Args:\n",
    "        tree_model       A sklearn DecisionTreeClassifier()\n",
    "        feature_names    A list of features used by the DecisionTreeClassifier\n",
    "    \"\"\"\n",
    "    print('Feature'.center(52), '   ',  'Importance')\n",
    "    print('=' * 80)\n",
    "    for index in reversed(np.argsort(tree_model.feature_importances_)):\n",
    "        print(str(feature_names[index]).center(52) , '   ', '{0:.4f}'.format(tree_model.feature_importances_[index]).center(8))"
   ]
  },
  {
   "cell_type": "markdown",
   "metadata": {},
   "source": [
    "# Predicting the appeal of images"
   ]
  },
  {
   "cell_type": "markdown",
   "metadata": {},
   "source": [
    "## Regression models"
   ]
  },
  {
   "cell_type": "markdown",
   "metadata": {},
   "source": [
    "Try to predict the exact win ratio with regression models."
   ]
  },
  {
   "cell_type": "markdown",
   "metadata": {},
   "source": [
    "### Baseline"
   ]
  },
  {
   "cell_type": "code",
   "execution_count": 141,
   "metadata": {},
   "outputs": [
    {
     "name": "stdout",
     "output_type": "stream",
     "text": [
      "Average appeal is 0.5024\n"
     ]
    }
   ],
   "source": [
    "y_pred = [np.mean(y_train)]*len(y_test)\n",
    "print(\"Average appeal is\", np.round(np.mean(y_train), decimals = 4))"
   ]
  },
  {
   "cell_type": "code",
   "execution_count": 142,
   "metadata": {},
   "outputs": [
    {
     "name": "stdout",
     "output_type": "stream",
     "text": [
      "Baseline mean square error: 0.1798\n"
     ]
    }
   ],
   "source": [
    "mse_baseline = mse(y_test, y_pred)\n",
    "print(\"Baseline mean square error:\", round(mse(y_test, y_pred), 4))"
   ]
  },
  {
   "cell_type": "code",
   "execution_count": 143,
   "metadata": {},
   "outputs": [
    {
     "data": {
      "image/png": "[encoded data removed]",
      "text/plain": [
       "<Figure size 432x288 with 1 Axes>"
      ]
     },
     "metadata": {},
     "output_type": "display_data"
    }
   ],
   "source": [
    "plt.plot(y_pred,y_test, linestyle='', marker='o', markersize=3)\n",
    "sns.kdeplot(y_pred,y_test, cmap=\"Reds\", shade=True)\n",
    "plt.plot([0,1],[0,1])\n",
    "plt.xlim([0,1])\n",
    "plt.ylim([0,1])\n",
    "plt.title('Baseline model')\n",
    "plt.xlabel('Appeal predictions')\n",
    "plt.ylabel('Real appeal')\n",
    "plt.show()"
   ]
  },
  {
   "cell_type": "markdown",
   "metadata": {},
   "source": [
    "### Linear Model with Lasso"
   ]
  },
  {
   "cell_type": "code",
   "execution_count": 144,
   "metadata": {},
   "outputs": [],
   "source": [
    "estimators = []\n",
    "estimators.append(('standardize', StandardScaler()))         # tell pipeline to standardize features\n",
    "estimators.append(('ols_model_l1', Lasso()))                 # tell pipeline to use a linear model with lasso\n",
    "pipeline_lasso = Pipeline(estimators) "
   ]
  },
  {
   "cell_type": "code",
   "execution_count": 145,
   "metadata": {},
   "outputs": [
    {
     "data": {
      "text/plain": [
       "{'memory': None,\n",
       " 'steps': [('standardize', StandardScaler()), ('ols_model_l1', Lasso())],\n",
       " 'verbose': False,\n",
       " 'standardize': StandardScaler(),\n",
       " 'ols_model_l1': Lasso(),\n",
       " 'standardize__copy': True,\n",
       " 'standardize__with_mean': True,\n",
       " 'standardize__with_std': True,\n",
       " 'ols_model_l1__alpha': 1.0,\n",
       " 'ols_model_l1__copy_X': True,\n",
       " 'ols_model_l1__fit_intercept': True,\n",
       " 'ols_model_l1__max_iter': 1000,\n",
       " 'ols_model_l1__normalize': False,\n",
       " 'ols_model_l1__positive': False,\n",
       " 'ols_model_l1__precompute': False,\n",
       " 'ols_model_l1__random_state': None,\n",
       " 'ols_model_l1__selection': 'cyclic',\n",
       " 'ols_model_l1__tol': 0.0001,\n",
       " 'ols_model_l1__warm_start': False}"
      ]
     },
     "execution_count": 145,
     "metadata": {},
     "output_type": "execute_result"
    }
   ],
   "source": [
    "pipeline_lasso.get_params()"
   ]
  },
  {
   "cell_type": "code",
   "execution_count": 146,
   "metadata": {},
   "outputs": [
    {
     "data": {
      "text/html": [
       "<div>\n",
       "<style scoped>\n",
       "    .dataframe tbody tr th:only-of-type {\n",
       "        vertical-align: middle;\n",
       "    }\n",
       "\n",
       "    .dataframe tbody tr th {\n",
       "        vertical-align: top;\n",
       "    }\n",
       "\n",
       "    .dataframe thead th {\n",
       "        text-align: right;\n",
       "    }\n",
       "</style>\n",
       "<table border=\"1\" class=\"dataframe\">\n",
       "  <thead>\n",
       "    <tr style=\"text-align: right;\">\n",
       "      <th></th>\n",
       "      <th>lambda</th>\n",
       "      <th>MSE-mean</th>\n",
       "      <th>MSE-std</th>\n",
       "    </tr>\n",
       "  </thead>\n",
       "  <tbody>\n",
       "    <tr>\n",
       "      <th>0</th>\n",
       "      <td>1.000000e-07</td>\n",
       "      <td>0.15808</td>\n",
       "      <td>0.014550</td>\n",
       "    </tr>\n",
       "    <tr>\n",
       "      <th>1</th>\n",
       "      <td>1.000000e-06</td>\n",
       "      <td>0.15808</td>\n",
       "      <td>0.014550</td>\n",
       "    </tr>\n",
       "    <tr>\n",
       "      <th>2</th>\n",
       "      <td>1.000000e-05</td>\n",
       "      <td>0.15808</td>\n",
       "      <td>0.014550</td>\n",
       "    </tr>\n",
       "    <tr>\n",
       "      <th>3</th>\n",
       "      <td>1.000000e-04</td>\n",
       "      <td>0.15808</td>\n",
       "      <td>0.014574</td>\n",
       "    </tr>\n",
       "    <tr>\n",
       "      <th>4</th>\n",
       "      <td>1.000000e-03</td>\n",
       "      <td>0.15814</td>\n",
       "      <td>0.014575</td>\n",
       "    </tr>\n",
       "    <tr>\n",
       "      <th>5</th>\n",
       "      <td>1.000000e-02</td>\n",
       "      <td>0.16024</td>\n",
       "      <td>0.014346</td>\n",
       "    </tr>\n",
       "    <tr>\n",
       "      <th>6</th>\n",
       "      <td>1.000000e-01</td>\n",
       "      <td>0.19208</td>\n",
       "      <td>0.011272</td>\n",
       "    </tr>\n",
       "    <tr>\n",
       "      <th>7</th>\n",
       "      <td>1.000000e+00</td>\n",
       "      <td>0.20082</td>\n",
       "      <td>0.010001</td>\n",
       "    </tr>\n",
       "    <tr>\n",
       "      <th>8</th>\n",
       "      <td>1.000000e+01</td>\n",
       "      <td>0.20082</td>\n",
       "      <td>0.010001</td>\n",
       "    </tr>\n",
       "    <tr>\n",
       "      <th>9</th>\n",
       "      <td>1.000000e+02</td>\n",
       "      <td>0.20082</td>\n",
       "      <td>0.010001</td>\n",
       "    </tr>\n",
       "    <tr>\n",
       "      <th>10</th>\n",
       "      <td>1.000000e+03</td>\n",
       "      <td>0.20082</td>\n",
       "      <td>0.010001</td>\n",
       "    </tr>\n",
       "  </tbody>\n",
       "</table>\n",
       "</div>"
      ],
      "text/plain": [
       "          lambda  MSE-mean   MSE-std\n",
       "0   1.000000e-07   0.15808  0.014550\n",
       "1   1.000000e-06   0.15808  0.014550\n",
       "2   1.000000e-05   0.15808  0.014550\n",
       "3   1.000000e-04   0.15808  0.014574\n",
       "4   1.000000e-03   0.15814  0.014575\n",
       "5   1.000000e-02   0.16024  0.014346\n",
       "6   1.000000e-01   0.19208  0.011272\n",
       "7   1.000000e+00   0.20082  0.010001\n",
       "8   1.000000e+01   0.20082  0.010001\n",
       "9   1.000000e+02   0.20082  0.010001\n",
       "10  1.000000e+03   0.20082  0.010001"
      ]
     },
     "metadata": {},
     "output_type": "display_data"
    }
   ],
   "source": [
    "###Linear model with LASSO###\n",
    "x_train = np.array(X_train)\n",
    "x_test = np.array(X_test)\n",
    "y_train = np.array(y_train)\n",
    "y_test = np.array(y_test)\n",
    "\n",
    "lam_range = np.logspace(-7,3,11)\n",
    "\n",
    "splits_num = 5\n",
    "\n",
    "MSE = np.zeros((splits_num, len(lam_range)))\n",
    "\n",
    "for i in range(len(lam_range)):\n",
    "\n",
    "    kf = KFold(n_splits=splits_num)\n",
    "\n",
    "    k = 0\n",
    "    for learn_index, val_index in kf.split(x_train):\n",
    "        x_train_train, x_train_val = x_train[learn_index], x_train[val_index]\n",
    "        y_train_train, y_train_val = y_train[learn_index], y_train[val_index]\n",
    "\n",
    "        pipeline_lasso.set_params(ols_model_l1__alpha = lam_range[i])\n",
    "        pipeline_lasso.fit(x_train_train, y_train_train)\n",
    "        y_pred_lasso_proba = pipeline_lasso.predict(x_train_val)\n",
    "\n",
    "        MSE[k, i] = round(mse(y_train_val, y_pred_lasso_proba), 4)\n",
    "\n",
    "        k = k+1\n",
    "\n",
    "mse_mean = np.zeros(len(lam_range))\n",
    "mse_std = np.zeros(len(lam_range))\n",
    "for i in range(len(lam_range)):\n",
    "    mse_mean[i] = MSE[:, i].mean()\n",
    "    mse_std[i] = MSE[:, i].std()\n",
    "    \n",
    "MSE_df = pd.DataFrame(lam_range.reshape(-1,1), columns = [\"lambda\"])\n",
    "MSE_df[\"MSE-mean\"] = mse_mean[:]\n",
    "MSE_df[\"MSE-std\"] = mse_std[:]\n",
    "display(MSE_df)"
   ]
  },
  {
   "cell_type": "code",
   "execution_count": 147,
   "metadata": {},
   "outputs": [],
   "source": [
    "# plt.plot(MSE_df['lambda'],MSE_df['MSE-mean'],label='MSE-mean')\n",
    "# plt.fill_between(MSE_df['lambda'], MSE_df['MSE-mean']-MSE_df['MSE-std'],\n",
    "#                  MSE_df['MSE-mean']+MSE_df['MSE-std'],'b', alpha=0.4, label='MSE +/- 1 STD')\n",
    "# plt.xscale('log')\n",
    "# plt.title('Hyperparameter tuning')\n",
    "# plt.xlabel('lambda')\n",
    "# plt.ylabel('Cross-val. MSE')\n",
    "# plt.legend(loc='upper left')\n",
    "# plt.show()"
   ]
  },
  {
   "cell_type": "code",
   "execution_count": 148,
   "metadata": {},
   "outputs": [],
   "source": [
    "lambda_opt = 0.00001# MSE is 0.15334"
   ]
  },
  {
   "cell_type": "markdown",
   "metadata": {},
   "source": [
    "### SVR"
   ]
  },
  {
   "cell_type": "code",
   "execution_count": 149,
   "metadata": {},
   "outputs": [
    {
     "data": {
      "text/plain": [
       "{'memory': None,\n",
       " 'steps': [('standardize', StandardScaler()), ('svm_model', SVR())],\n",
       " 'verbose': False,\n",
       " 'standardize': StandardScaler(),\n",
       " 'svm_model': SVR(),\n",
       " 'standardize__copy': True,\n",
       " 'standardize__with_mean': True,\n",
       " 'standardize__with_std': True,\n",
       " 'svm_model__C': 1.0,\n",
       " 'svm_model__cache_size': 200,\n",
       " 'svm_model__coef0': 0.0,\n",
       " 'svm_model__degree': 3,\n",
       " 'svm_model__epsilon': 0.1,\n",
       " 'svm_model__gamma': 'scale',\n",
       " 'svm_model__kernel': 'rbf',\n",
       " 'svm_model__max_iter': -1,\n",
       " 'svm_model__shrinking': True,\n",
       " 'svm_model__tol': 0.001,\n",
       " 'svm_model__verbose': False}"
      ]
     },
     "execution_count": 149,
     "metadata": {},
     "output_type": "execute_result"
    }
   ],
   "source": [
    "###Support Vector Regression###\n",
    "\n",
    "estimators = []\n",
    "estimators.append(('standardize', StandardScaler()))         # tell pipeline to standardize features\n",
    "estimators.append(('svm_model', SVR()))  # tell pipeline to use an SVR model with lasso\n",
    "pipeline_svr = Pipeline(estimators) \n",
    "pipeline_svr.get_params()"
   ]
  },
  {
   "cell_type": "code",
   "execution_count": 150,
   "metadata": {},
   "outputs": [
    {
     "data": {
      "text/html": [
       "<div>\n",
       "<style scoped>\n",
       "    .dataframe tbody tr th:only-of-type {\n",
       "        vertical-align: middle;\n",
       "    }\n",
       "\n",
       "    .dataframe tbody tr th {\n",
       "        vertical-align: top;\n",
       "    }\n",
       "\n",
       "    .dataframe thead th {\n",
       "        text-align: right;\n",
       "    }\n",
       "</style>\n",
       "<table border=\"1\" class=\"dataframe\">\n",
       "  <thead>\n",
       "    <tr style=\"text-align: right;\">\n",
       "      <th></th>\n",
       "      <th>C</th>\n",
       "      <th>MSE-mean</th>\n",
       "    </tr>\n",
       "  </thead>\n",
       "  <tbody>\n",
       "    <tr>\n",
       "      <th>0</th>\n",
       "      <td>1.000000e-07</td>\n",
       "      <td>0.1927</td>\n",
       "    </tr>\n",
       "    <tr>\n",
       "      <th>1</th>\n",
       "      <td>1.000000e-06</td>\n",
       "      <td>0.1927</td>\n",
       "    </tr>\n",
       "    <tr>\n",
       "      <th>2</th>\n",
       "      <td>1.000000e-05</td>\n",
       "      <td>0.1926</td>\n",
       "    </tr>\n",
       "    <tr>\n",
       "      <th>3</th>\n",
       "      <td>1.000000e-04</td>\n",
       "      <td>0.1921</td>\n",
       "    </tr>\n",
       "    <tr>\n",
       "      <th>4</th>\n",
       "      <td>1.000000e-03</td>\n",
       "      <td>0.1880</td>\n",
       "    </tr>\n",
       "    <tr>\n",
       "      <th>5</th>\n",
       "      <td>1.000000e-02</td>\n",
       "      <td>0.1661</td>\n",
       "    </tr>\n",
       "    <tr>\n",
       "      <th>6</th>\n",
       "      <td>1.000000e-01</td>\n",
       "      <td>0.1461</td>\n",
       "    </tr>\n",
       "    <tr>\n",
       "      <th>7</th>\n",
       "      <td>1.000000e+00</td>\n",
       "      <td>0.1536</td>\n",
       "    </tr>\n",
       "    <tr>\n",
       "      <th>8</th>\n",
       "      <td>1.000000e+01</td>\n",
       "      <td>0.1852</td>\n",
       "    </tr>\n",
       "    <tr>\n",
       "      <th>9</th>\n",
       "      <td>1.000000e+02</td>\n",
       "      <td>0.2074</td>\n",
       "    </tr>\n",
       "    <tr>\n",
       "      <th>10</th>\n",
       "      <td>1.000000e+03</td>\n",
       "      <td>0.2637</td>\n",
       "    </tr>\n",
       "  </tbody>\n",
       "</table>\n",
       "</div>"
      ],
      "text/plain": [
       "               C  MSE-mean\n",
       "0   1.000000e-07    0.1927\n",
       "1   1.000000e-06    0.1927\n",
       "2   1.000000e-05    0.1926\n",
       "3   1.000000e-04    0.1921\n",
       "4   1.000000e-03    0.1880\n",
       "5   1.000000e-02    0.1661\n",
       "6   1.000000e-01    0.1461\n",
       "7   1.000000e+00    0.1536\n",
       "8   1.000000e+01    0.1852\n",
       "9   1.000000e+02    0.2074\n",
       "10  1.000000e+03    0.2637"
      ]
     },
     "metadata": {},
     "output_type": "display_data"
    }
   ],
   "source": [
    "X_train_train, X_train_val, y_train_train, y_train_val = train_test_split(X_train, y_train, test_size=0.25, random_state=SEED)\n",
    "\n",
    "c_range = np.logspace(-7,3,11)\n",
    "mse_mean = np.zeros(len(c_range))\n",
    "\n",
    "for i in range(len(c_range)):\n",
    "    pipeline_svr.set_params(svm_model__C = c_range[i])\n",
    "    pipeline_svr.fit(X_train_train, y_train_train)\n",
    "    y_pred_svr = pipeline_svr.predict(X_train_val)\n",
    "    mse_mean[i] = round(mse(y_train_val, y_pred_svr), 4)\n",
    "                    \n",
    "mse_df = pd.DataFrame(c_range.reshape(-1,1), columns = [\"C\"])\n",
    "mse_df[\"MSE-mean\"] = mse_mean[:]\n",
    "display(mse_df)"
   ]
  },
  {
   "cell_type": "code",
   "execution_count": 151,
   "metadata": {},
   "outputs": [],
   "source": [
    "# plt.plot(mse_df['C'],mse_df['MSE-mean'], label='MSE-mean')\n",
    "# plt.fill_between(mse_df['C'], mse_df['MSE-mean']-mse_df['MSE-std'],\n",
    "#                  mse_df['MSE-mean']+mse_df['MSE-std'],'b', alpha=0.4, label='MSE +/- 1 STD')\n",
    "# plt.xscale('log')\n",
    "# plt.title('Hyperparameter tuning')\n",
    "# plt.xlabel('c')\n",
    "# plt.ylabel('MSE')\n",
    "# plt.legend(loc='upper left')\n",
    "# plt.show()"
   ]
  },
  {
   "cell_type": "code",
   "execution_count": 152,
   "metadata": {},
   "outputs": [],
   "source": [
    "c_opt = 0.1 # MSE is 0.1396"
   ]
  },
  {
   "cell_type": "markdown",
   "metadata": {},
   "source": [
    "### Comparing models\n",
    "Both regularised models reach very similar performances in terms of mean square error. However, the SVR performs slightly better. This better performance is still present on the test set."
   ]
  },
  {
   "cell_type": "markdown",
   "metadata": {},
   "source": [
    "### Test score"
   ]
  },
  {
   "cell_type": "markdown",
   "metadata": {},
   "source": [
    "#### Linear Regression model"
   ]
  },
  {
   "cell_type": "code",
   "execution_count": 153,
   "metadata": {},
   "outputs": [
    {
     "name": "stdout",
     "output_type": "stream",
     "text": [
      "Testing MSE (LASSO): 0.1421\n",
      "Decrease in error with respect to baseline: 20.97 %\n"
     ]
    }
   ],
   "source": [
    "pipeline_lasso.set_params(ols_model_l1__alpha = lambda_opt)\n",
    "pipeline_lasso.fit(X_train, y_train)\n",
    "y_pred_lasso = pipeline_lasso.predict(X_test)\n",
    "print(\"Testing MSE (LASSO):\", round(mse(y_test, y_pred_lasso), 4))\n",
    "print(\"Decrease in error with respect to baseline:\", np.round((mse_baseline-mse(y_test, y_pred_lasso))/mse_baseline*100, decimals = 2), \"%\")"
   ]
  },
  {
   "cell_type": "code",
   "execution_count": 154,
   "metadata": {},
   "outputs": [],
   "source": [
    "linreglasso_results = {'Predicted_val': y_pred_lasso, 'Real_val': y_test}\n",
    "linreglasso_results = pd.DataFrame(linreglasso_results)\n",
    "#linreglasso_results"
   ]
  },
  {
   "cell_type": "code",
   "execution_count": 155,
   "metadata": {},
   "outputs": [
    {
     "data": {
      "image/png": "[encoded data removed]",
      "text/plain": [
       "<Figure size 432x288 with 1 Axes>"
      ]
     },
     "metadata": {},
     "output_type": "display_data"
    }
   ],
   "source": [
    "plt.plot(y_pred_lasso,y_test, linestyle='', marker='o', markersize=4)\n",
    "sns.kdeplot(y_pred_lasso,y_test, cmap=\"Reds\", shade=True)\n",
    "# m, b = np.polyfit(y_pred_lasso, y_test, 1)\n",
    "# plt.plot(y_pred_lasso, m*y_pred_lasso + b)\n",
    "plt.plot([0,1],[0,1], 'g')\n",
    "plt.xlim([0,1])\n",
    "plt.ylim([0,1])\n",
    "# plt.title('Linear regression model using lasso regularization',fontsize=16)\n",
    "plt.xlabel('Appeal predictions',fontsize=14)\n",
    "plt.ylabel('Real appeal',fontsize=14)\n",
    "plt.savefig('LinReg_model.png')\n",
    "plt.show()"
   ]
  },
  {
   "cell_type": "markdown",
   "metadata": {},
   "source": [
    "------------------------\n",
    "#### SVR model"
   ]
  },
  {
   "cell_type": "code",
   "execution_count": 156,
   "metadata": {},
   "outputs": [
    {
     "name": "stdout",
     "output_type": "stream",
     "text": [
      "Testing MSE (SVR): 0.1345\n",
      "Decrease in error with respect to baseline: 25.16 %\n"
     ]
    }
   ],
   "source": [
    "pipeline_svr.set_params(svm_model__C = c_opt)\n",
    "pipeline_svr.fit(X_train, y_train)\n",
    "y_pred_svr = pipeline_svr.predict(X_test)\n",
    "print(\"Testing MSE (SVR):\", round(mse(y_test, y_pred_svr), 4))\n",
    "print(\"Decrease in error with respect to baseline:\", np.round((mse_baseline-mse(y_test, y_pred_svr))/mse_baseline*100, decimals = 2), \"%\")\n",
    "\n",
    "svr = pipeline_svr.named_steps['svm_model']"
   ]
  },
  {
   "cell_type": "code",
   "execution_count": 157,
   "metadata": {},
   "outputs": [],
   "source": [
    "svr_results = {'Predicted_val': y_pred_svr, 'Real_val': y_test}\n",
    "svr_results = pd.DataFrame(svr_results)\n",
    "# svr_results"
   ]
  },
  {
   "cell_type": "code",
   "execution_count": 158,
   "metadata": {},
   "outputs": [],
   "source": [
    "# indices_test"
   ]
  },
  {
   "cell_type": "code",
   "execution_count": 159,
   "metadata": {},
   "outputs": [
    {
     "data": {
      "image/png": "[encoded data removed]",
      "text/plain": [
       "<Figure size 432x288 with 1 Axes>"
      ]
     },
     "metadata": {},
     "output_type": "display_data"
    }
   ],
   "source": [
    "plt.plot(y_pred_svr,y_test, linestyle='', marker='o', markersize=4)\n",
    "sns.kdeplot(y_pred_svr,y_test, cmap=\"Reds\", shade=True)\n",
    "plt.scatter(0.6102,0.29, linewidth=8, s=80, facecolors='none', edgecolors='r')\n",
    "# m2, b2 = np.polyfit(y_pred_svr, y_test, 1)\n",
    "# plt.plot(y_pred_svr, m2*y_pred_svr + b2)\n",
    "plt.plot([0,1],[0,1], 'g')\n",
    "plt.xlim([0,1])\n",
    "plt.ylim([0,1])\n",
    "# plt.title('Support Vector Regression model',fontsize=16)\n",
    "plt.xlabel('Appeal predictions',fontsize=14)\n",
    "plt.ylabel('Real appeal',fontsize=14)\n",
    "plt.savefig('SVR_model.png')\n",
    "plt.show()"
   ]
  },
  {
   "cell_type": "markdown",
   "metadata": {},
   "source": [
    "Although more data is an easy answer to how we can improve the performance of the regressors, there are other ways to do so. One could explore feature engineering and dimensionality reduction (e.g. PCA) or feature selection through more varied types of regularisation. Another possibility would be to transform the regression problem into a multi-class classification problem where big deviations from the true value can be appropriately penalised."
   ]
  },
  {
   "cell_type": "markdown",
   "metadata": {},
   "source": [
    "## Classification models"
   ]
  },
  {
   "cell_type": "markdown",
   "metadata": {},
   "source": [
    "Try to predict the belonging class of an image by dividing the win ratio into discrete classes."
   ]
  },
  {
   "cell_type": "markdown",
   "metadata": {},
   "source": [
    "### Dataset classes"
   ]
  },
  {
   "cell_type": "code",
   "execution_count": 51,
   "metadata": {},
   "outputs": [],
   "source": [
    "# Efine the number of classes for the classification model\n",
    "df_model_final['class'] = 0\n",
    "nclasses = 5"
   ]
  },
  {
   "cell_type": "code",
   "execution_count": 52,
   "metadata": {},
   "outputs": [
    {
     "name": "stdout",
     "output_type": "stream",
     "text": [
      "0.2\n",
      "0.0 0.2\n",
      "0.2 0.4\n",
      "0.4 0.6\n",
      "0.6 0.8\n",
      "0.8 1.0\n"
     ]
    }
   ],
   "source": [
    "# Transform into classes 1 to nclasses\n",
    "step = 1/nclasses\n",
    "print(step)\n",
    "for i in range(nclasses):\n",
    "    inf = float(\"{:.4f}\".format(i*step))\n",
    "    sup = float(\"{:.4f}\".format((i+1)*step))\n",
    "    print(inf,sup)\n",
    "    if (sup < 1):\n",
    "        df_model_final['class'][(df_model_final['Win ratio'] >= inf) & (df_model_final['Win ratio'] < sup)] = i+1\n",
    "    else :\n",
    "        df_model_final['class'][(df_model_final['Win ratio'] >= inf)] = i+1    \n"
   ]
  },
  {
   "cell_type": "code",
   "execution_count": 53,
   "metadata": {},
   "outputs": [],
   "source": [
    "df_model_final = df_model_final.drop('Win ratio', axis=1)"
   ]
  },
  {
   "cell_type": "code",
   "execution_count": 54,
   "metadata": {},
   "outputs": [
    {
     "data": {
      "text/plain": [
       "3    160\n",
       "4    131\n",
       "2    109\n",
       "1     32\n",
       "5     26\n",
       "Name: class, dtype: int64"
      ]
     },
     "execution_count": 54,
     "metadata": {},
     "output_type": "execute_result"
    }
   ],
   "source": [
    "df_model_final['class'].value_counts()"
   ]
  },
  {
   "cell_type": "code",
   "execution_count": 55,
   "metadata": {},
   "outputs": [
    {
     "data": {
      "image/png": "[encoded data removed]",
      "text/plain": [
       "<Figure size 432x288 with 1 Axes>"
      ]
     },
     "metadata": {},
     "output_type": "display_data"
    }
   ],
   "source": [
    "# Plot the distribution of classes\n",
    "stars = pd.Series((1, 2, 3, 4, 5, 6))\n",
    "vc = df_model_final['class'].value_counts().sort_index()\n",
    "ax = vc.plot(kind='bar')\n",
    "fig = ax.get_figure()\n",
    "fig.autofmt_xdate()\n",
    "plt.title('Class histogram')\n",
    "plt.xlabel('Class')\n",
    "plt.ylabel('Frequency')\n",
    "plt.grid()\n",
    "plt.savefig('hist_class.png')\n",
    "plt.show()"
   ]
  },
  {
   "cell_type": "code",
   "execution_count": 56,
   "metadata": {},
   "outputs": [],
   "source": [
    "# Select target variable into an ARRAY called `y` and features into a DATAFRAME called  `X` \n",
    "y = np.array(df_model_final['class'])\n",
    "features = list(set(list(df_model_final.columns)) - set(['class']))\n",
    "X = df_model_final.loc[:, features]"
   ]
  },
  {
   "cell_type": "code",
   "execution_count": 57,
   "metadata": {},
   "outputs": [],
   "source": [
    "# Divide data into a training set and a testing set using the train_test_split() function\n",
    "#   NOTE: Please call the subsamples `X_train` ,  `X_test` , `y_train` , `y_test` so we can follow your code\n",
    "X_train, X_test, y_train, y_test = train_test_split(X, y, test_size=0.20, random_state=SEED)"
   ]
  },
  {
   "cell_type": "markdown",
   "metadata": {},
   "source": [
    "### Baseline"
   ]
  },
  {
   "cell_type": "code",
   "execution_count": 58,
   "metadata": {},
   "outputs": [],
   "source": [
    "from numpy import argmax\n",
    "from tensorflow.keras.utils import to_categorical"
   ]
  },
  {
   "cell_type": "code",
   "execution_count": 59,
   "metadata": {},
   "outputs": [],
   "source": [
    "# Predict the most occured outcome"
   ]
  },
  {
   "cell_type": "code",
   "execution_count": 60,
   "metadata": {},
   "outputs": [],
   "source": [
    "def baseline_model(y_train, y_test):   \n",
    "    y_train_df = pd.DataFrame(y_train)\n",
    "    most_freq = np.argmax(y_train_df.value_counts())\n",
    "\n",
    "    y_hat = np.array([int(np.round(y_train_df.value_counts().index[most_freq]))]*len(y_train))\n",
    "    y_hat_df = pd.DataFrame((y_hat), columns = [\"prediction\"])\n",
    "    y_hat_df[\"truth\"] = y_train\n",
    "    #y_hat_df.head()\n",
    "\n",
    "    y_hat = [int(np.round(y_train_df.value_counts().index[most_freq]))]*len(y_test)\n",
    "    cm = confusion_matrix(y_test, y_hat)\n",
    "    print(y_test)\n",
    "    acc =np.diagonal(cm).sum()/cm.sum()\n",
    "    \n",
    "    encoded_test = to_categorical(y_test, num_classes=nclasses + 1)\n",
    "    encoded_hat = to_categorical(y_hat, num_classes=nclasses + 1)\n",
    "    \n",
    "    auc = roc_auc_score(encoded_test[:,1:], encoded_hat[:,1:], multi_class=\"ovr\", average='macro')\n",
    "    \n",
    "    return y_hat_df, acc, auc"
   ]
  },
  {
   "cell_type": "code",
   "execution_count": 61,
   "metadata": {},
   "outputs": [
    {
     "name": "stdout",
     "output_type": "stream",
     "text": [
      "[2 3 4 4 2 3 2 3 4 4 3 3 3 2 4 3 2 3 2 3 3 2 2 2 3 1 4 2 4 4 3 4 2 3 3 2 4\n",
      " 3 2 1 3 1 2 2 4 5 3 4 2 3 3 2 3 2 4 2 4 3 3 2 3 3 3 4 3 3 4 2 4 4 3 3 4 4\n",
      " 3 4 3 3 2 2 3 4 2 3 3 3 1 4 5 3 5 3]\n"
     ]
    },
    {
     "data": {
      "text/html": [
       "<div>\n",
       "<style scoped>\n",
       "    .dataframe tbody tr th:only-of-type {\n",
       "        vertical-align: middle;\n",
       "    }\n",
       "\n",
       "    .dataframe tbody tr th {\n",
       "        vertical-align: top;\n",
       "    }\n",
       "\n",
       "    .dataframe thead th {\n",
       "        text-align: right;\n",
       "    }\n",
       "</style>\n",
       "<table border=\"1\" class=\"dataframe\">\n",
       "  <thead>\n",
       "    <tr style=\"text-align: right;\">\n",
       "      <th></th>\n",
       "      <th>prediction</th>\n",
       "      <th>truth</th>\n",
       "    </tr>\n",
       "  </thead>\n",
       "  <tbody>\n",
       "    <tr>\n",
       "      <th>0</th>\n",
       "      <td>3</td>\n",
       "      <td>4</td>\n",
       "    </tr>\n",
       "    <tr>\n",
       "      <th>1</th>\n",
       "      <td>3</td>\n",
       "      <td>2</td>\n",
       "    </tr>\n",
       "    <tr>\n",
       "      <th>2</th>\n",
       "      <td>3</td>\n",
       "      <td>4</td>\n",
       "    </tr>\n",
       "    <tr>\n",
       "      <th>3</th>\n",
       "      <td>3</td>\n",
       "      <td>1</td>\n",
       "    </tr>\n",
       "    <tr>\n",
       "      <th>4</th>\n",
       "      <td>3</td>\n",
       "      <td>4</td>\n",
       "    </tr>\n",
       "  </tbody>\n",
       "</table>\n",
       "</div>"
      ],
      "text/plain": [
       "   prediction  truth\n",
       "0           3      4\n",
       "1           3      2\n",
       "2           3      4\n",
       "3           3      1\n",
       "4           3      4"
      ]
     },
     "execution_count": 61,
     "metadata": {},
     "output_type": "execute_result"
    }
   ],
   "source": [
    "y_hat_df, acc_baseline, auc_baseline = baseline_model(y_train, y_test)\n",
    "y_hat_df.head()"
   ]
  },
  {
   "cell_type": "code",
   "execution_count": 62,
   "metadata": {},
   "outputs": [
    {
     "data": {
      "text/plain": [
       "0.5"
      ]
     },
     "execution_count": 62,
     "metadata": {},
     "output_type": "execute_result"
    }
   ],
   "source": [
    "auc_baseline"
   ]
  },
  {
   "cell_type": "markdown",
   "metadata": {},
   "source": [
    "### Linear OLS model\n",
    "\n",
    "The first model we will try is a linear regression coupled with LASSO regularisation. We will determine the optimal  𝜆  (LASSO hypereparameter) which maximises the AUC score of the model. In our first approach, we will not apply any kind of PCA."
   ]
  },
  {
   "cell_type": "code",
   "execution_count": 63,
   "metadata": {},
   "outputs": [],
   "source": [
    "def ols_lasso_CV(x_train, y_train, lam_range):\n",
    "    splits_num = 5\n",
    "\n",
    "    AUC = np.zeros((splits_num, len(lam_range)))\n",
    "\n",
    "    for i in range(len(lam_range)):\n",
    "\n",
    "        kf = KFold(n_splits=splits_num)\n",
    "\n",
    "        k = 0\n",
    "        for learn_index, val_index in kf.split(x_train):\n",
    "            x_train_train, x_train_val = x_train[learn_index], x_train[val_index]\n",
    "            y_train_train, y_train_val = y_train[learn_index], y_train[val_index]\n",
    "\n",
    "            pipeline_lasso.set_params(ols_model_l1__alpha = lam_range[i])\n",
    "            pipeline_lasso.fit(x_train_train, y_train_train)\n",
    "            y_pred_lasso_proba = pipeline_lasso.predict(x_train_val)\n",
    "            \n",
    "            encoded_y_train_val = to_categorical(y_train_val, num_classes=nclasses + 1)\n",
    "\n",
    "            '''ERROR HERE'''\n",
    "            max_y_pred = (nclasses + 1)/10 - 0.1\n",
    "            y_pred_lasso_proba = np.clip(y_pred_lasso_proba,0,max_y_pred) #doing this fix it, not sure that's good\n",
    "            encoded_y_pred_lasso_proba = to_categorical(y_pred_lasso_proba, num_classes=nclasses + 1)\n",
    "            '''ERROR HERE'''\n",
    "\n",
    "            \n",
    "            AUC[k, i] = round(roc_auc_score(encoded_y_train_val[:,1:], encoded_y_pred_lasso_proba[:,1:],\n",
    "                                            multi_class=\"ovr\", average='micro'), 4)\n",
    "\n",
    "            k = k+1\n",
    "\n",
    "    auc_mean = np.zeros(len(lam_range))\n",
    "    auc_std = np.zeros(len(lam_range))\n",
    "    for i in range(len(lam_range)):\n",
    "        auc_mean[i] = AUC[:, i].mean()\n",
    "        auc_std[i] = AUC[:, i].std()\n",
    "        \n",
    "    return auc_mean, auc_std"
   ]
  },
  {
   "cell_type": "code",
   "execution_count": 64,
   "metadata": {},
   "outputs": [],
   "source": [
    "estimators = []\n",
    "estimators.append(('standardize', StandardScaler()))         # tell pipeline to standardize features\n",
    "estimators.append(('ols_model_l1', Lasso()))                 # tell pipeline to use a linear model with lasso\n",
    "pipeline_lasso = Pipeline(estimators) "
   ]
  },
  {
   "cell_type": "code",
   "execution_count": 65,
   "metadata": {},
   "outputs": [
    {
     "data": {
      "text/plain": [
       "{'memory': None,\n",
       " 'steps': [('standardize', StandardScaler()), ('ols_model_l1', Lasso())],\n",
       " 'verbose': False,\n",
       " 'standardize': StandardScaler(),\n",
       " 'ols_model_l1': Lasso(),\n",
       " 'standardize__copy': True,\n",
       " 'standardize__with_mean': True,\n",
       " 'standardize__with_std': True,\n",
       " 'ols_model_l1__alpha': 1.0,\n",
       " 'ols_model_l1__copy_X': True,\n",
       " 'ols_model_l1__fit_intercept': True,\n",
       " 'ols_model_l1__max_iter': 1000,\n",
       " 'ols_model_l1__normalize': False,\n",
       " 'ols_model_l1__positive': False,\n",
       " 'ols_model_l1__precompute': False,\n",
       " 'ols_model_l1__random_state': None,\n",
       " 'ols_model_l1__selection': 'cyclic',\n",
       " 'ols_model_l1__tol': 0.0001,\n",
       " 'ols_model_l1__warm_start': False}"
      ]
     },
     "execution_count": 65,
     "metadata": {},
     "output_type": "execute_result"
    }
   ],
   "source": [
    "pipeline_lasso.get_params()"
   ]
  },
  {
   "cell_type": "code",
   "execution_count": 66,
   "metadata": {},
   "outputs": [],
   "source": [
    "x_train = np.array(X_train)\n",
    "x_test = np.array(X_test)\n",
    "y_train = np.array(y_train)\n",
    "y_test = np.array(y_test)\n",
    "\n",
    "lam_range = np.logspace(-7,3,11)\n",
    "\n",
    "auc_mean, auc_std = ols_lasso_CV(x_train, y_train, lam_range)"
   ]
  },
  {
   "cell_type": "code",
   "execution_count": 67,
   "metadata": {},
   "outputs": [
    {
     "data": {
      "text/html": [
       "<div>\n",
       "<style scoped>\n",
       "    .dataframe tbody tr th:only-of-type {\n",
       "        vertical-align: middle;\n",
       "    }\n",
       "\n",
       "    .dataframe tbody tr th {\n",
       "        vertical-align: top;\n",
       "    }\n",
       "\n",
       "    .dataframe thead th {\n",
       "        text-align: right;\n",
       "    }\n",
       "</style>\n",
       "<table border=\"1\" class=\"dataframe\">\n",
       "  <thead>\n",
       "    <tr style=\"text-align: right;\">\n",
       "      <th></th>\n",
       "      <th>Lambda</th>\n",
       "      <th>AUC-mean</th>\n",
       "      <th>AUC-std</th>\n",
       "    </tr>\n",
       "  </thead>\n",
       "  <tbody>\n",
       "    <tr>\n",
       "      <th>0</th>\n",
       "      <td>1.000000e-07</td>\n",
       "      <td>0.5</td>\n",
       "      <td>0.0</td>\n",
       "    </tr>\n",
       "    <tr>\n",
       "      <th>1</th>\n",
       "      <td>1.000000e-06</td>\n",
       "      <td>0.5</td>\n",
       "      <td>0.0</td>\n",
       "    </tr>\n",
       "    <tr>\n",
       "      <th>2</th>\n",
       "      <td>1.000000e-05</td>\n",
       "      <td>0.5</td>\n",
       "      <td>0.0</td>\n",
       "    </tr>\n",
       "    <tr>\n",
       "      <th>3</th>\n",
       "      <td>1.000000e-04</td>\n",
       "      <td>0.5</td>\n",
       "      <td>0.0</td>\n",
       "    </tr>\n",
       "    <tr>\n",
       "      <th>4</th>\n",
       "      <td>1.000000e-03</td>\n",
       "      <td>0.5</td>\n",
       "      <td>0.0</td>\n",
       "    </tr>\n",
       "    <tr>\n",
       "      <th>5</th>\n",
       "      <td>1.000000e-02</td>\n",
       "      <td>0.5</td>\n",
       "      <td>0.0</td>\n",
       "    </tr>\n",
       "    <tr>\n",
       "      <th>6</th>\n",
       "      <td>1.000000e-01</td>\n",
       "      <td>0.5</td>\n",
       "      <td>0.0</td>\n",
       "    </tr>\n",
       "    <tr>\n",
       "      <th>7</th>\n",
       "      <td>1.000000e+00</td>\n",
       "      <td>0.5</td>\n",
       "      <td>0.0</td>\n",
       "    </tr>\n",
       "    <tr>\n",
       "      <th>8</th>\n",
       "      <td>1.000000e+01</td>\n",
       "      <td>0.5</td>\n",
       "      <td>0.0</td>\n",
       "    </tr>\n",
       "    <tr>\n",
       "      <th>9</th>\n",
       "      <td>1.000000e+02</td>\n",
       "      <td>0.5</td>\n",
       "      <td>0.0</td>\n",
       "    </tr>\n",
       "    <tr>\n",
       "      <th>10</th>\n",
       "      <td>1.000000e+03</td>\n",
       "      <td>0.5</td>\n",
       "      <td>0.0</td>\n",
       "    </tr>\n",
       "  </tbody>\n",
       "</table>\n",
       "</div>"
      ],
      "text/plain": [
       "          Lambda  AUC-mean  AUC-std\n",
       "0   1.000000e-07       0.5      0.0\n",
       "1   1.000000e-06       0.5      0.0\n",
       "2   1.000000e-05       0.5      0.0\n",
       "3   1.000000e-04       0.5      0.0\n",
       "4   1.000000e-03       0.5      0.0\n",
       "5   1.000000e-02       0.5      0.0\n",
       "6   1.000000e-01       0.5      0.0\n",
       "7   1.000000e+00       0.5      0.0\n",
       "8   1.000000e+01       0.5      0.0\n",
       "9   1.000000e+02       0.5      0.0\n",
       "10  1.000000e+03       0.5      0.0"
      ]
     },
     "metadata": {},
     "output_type": "display_data"
    }
   ],
   "source": [
    "auc_df = pd.DataFrame(lam_range.reshape(-1,1), columns = [\"Lambda\"])\n",
    "auc_df[\"AUC-mean\"] = auc_mean[:]\n",
    "auc_df[\"AUC-std\"] = auc_std[:]\n",
    "display(auc_df)"
   ]
  },
  {
   "cell_type": "code",
   "execution_count": 68,
   "metadata": {},
   "outputs": [],
   "source": [
    "# lambda_ols_class = 0.0001\n",
    "# auc_linear = 0.63132"
   ]
  },
  {
   "cell_type": "markdown",
   "metadata": {},
   "source": [
    "### Logit model\n",
    "\n",
    "We now try a logit model with LASSO regularisation and optimise for the C parameter of the regularisation. We approach the problem in the same way as for the previous model."
   ]
  },
  {
   "cell_type": "code",
   "execution_count": 69,
   "metadata": {},
   "outputs": [],
   "source": [
    "def logit_CV(x_train, y_train, c_range):\n",
    "    splits_num = 5\n",
    "\n",
    "    AUC = np.zeros((splits_num, len(c_range)))\n",
    "\n",
    "    for i in range(len(c_range)):\n",
    "\n",
    "        kf = KFold(n_splits=splits_num)\n",
    "\n",
    "        k = 0\n",
    "        for learn_index, val_index in kf.split(x_train):\n",
    "            x_train_train, x_train_val = x_train[learn_index], x_train[val_index]\n",
    "            y_train_train, y_train_val = y_train[learn_index], y_train[val_index]\n",
    "\n",
    "            pipeline_logit.set_params(logit_model_l1__C = c_range[i])\n",
    "\n",
    "            pipeline_logit.fit(x_train_train, y_train_train)\n",
    "\n",
    "            y_pred_logit_proba = pipeline_logit.predict(x_train_val)\n",
    "            \n",
    "            encoded_y_train_val = to_categorical(y_train_val, num_classes=nclasses + 1)\n",
    "            encoded_y_pred_logit_proba = to_categorical(y_pred_logit_proba, num_classes=nclasses + 1)\n",
    "\n",
    "            AUC[k, i] = round(roc_auc_score(encoded_y_train_val[:,1:], encoded_y_pred_logit_proba[:,1:],\n",
    "                                            multi_class=\"ovr\", average='micro'), 4)\n",
    "\n",
    "            k = k+1\n",
    "\n",
    "    auc_mean = np.zeros(len(c_range))\n",
    "    auc_std = np.zeros(len(c_range))\n",
    "    for i in range(len(c_range)):\n",
    "        auc_mean[i] = AUC[:, i].mean()\n",
    "        auc_std[i] = AUC[:, i].std()\n",
    "        \n",
    "    return auc_mean, auc_std"
   ]
  },
  {
   "cell_type": "code",
   "execution_count": 70,
   "metadata": {},
   "outputs": [],
   "source": [
    "estimators = []\n",
    "estimators.append(('standardize', StandardScaler()))         # tell pipeline to standardize features\n",
    "estimators.append(('logit_model_l1', LogisticRegression(penalty = \"l1\", solver = \"saga\", random_state = SEED)))  # tell pipeline to use a logit model with lasso\n",
    "pipeline_logit = Pipeline(estimators) \n",
    "pipeline_logit.get_params()\n",
    "\n",
    "logit_model = pipeline_logit.named_steps['logit_model_l1']"
   ]
  },
  {
   "cell_type": "code",
   "execution_count": 71,
   "metadata": {},
   "outputs": [
    {
     "data": {
      "text/html": [
       "<div>\n",
       "<style scoped>\n",
       "    .dataframe tbody tr th:only-of-type {\n",
       "        vertical-align: middle;\n",
       "    }\n",
       "\n",
       "    .dataframe tbody tr th {\n",
       "        vertical-align: top;\n",
       "    }\n",
       "\n",
       "    .dataframe thead th {\n",
       "        text-align: right;\n",
       "    }\n",
       "</style>\n",
       "<table border=\"1\" class=\"dataframe\">\n",
       "  <thead>\n",
       "    <tr style=\"text-align: right;\">\n",
       "      <th></th>\n",
       "      <th>C</th>\n",
       "      <th>AUC-mean</th>\n",
       "      <th>AUC-std</th>\n",
       "    </tr>\n",
       "  </thead>\n",
       "  <tbody>\n",
       "    <tr>\n",
       "      <th>0</th>\n",
       "      <td>0.001000</td>\n",
       "      <td>0.54400</td>\n",
       "      <td>0.018344</td>\n",
       "    </tr>\n",
       "    <tr>\n",
       "      <th>1</th>\n",
       "      <td>0.007943</td>\n",
       "      <td>0.58338</td>\n",
       "      <td>0.032528</td>\n",
       "    </tr>\n",
       "    <tr>\n",
       "      <th>2</th>\n",
       "      <td>0.063096</td>\n",
       "      <td>0.62104</td>\n",
       "      <td>0.053615</td>\n",
       "    </tr>\n",
       "    <tr>\n",
       "      <th>3</th>\n",
       "      <td>0.501187</td>\n",
       "      <td>0.61930</td>\n",
       "      <td>0.040578</td>\n",
       "    </tr>\n",
       "    <tr>\n",
       "      <th>4</th>\n",
       "      <td>3.981072</td>\n",
       "      <td>0.62276</td>\n",
       "      <td>0.044920</td>\n",
       "    </tr>\n",
       "    <tr>\n",
       "      <th>5</th>\n",
       "      <td>31.622777</td>\n",
       "      <td>0.62276</td>\n",
       "      <td>0.041554</td>\n",
       "    </tr>\n",
       "    <tr>\n",
       "      <th>6</th>\n",
       "      <td>251.188643</td>\n",
       "      <td>0.62276</td>\n",
       "      <td>0.041554</td>\n",
       "    </tr>\n",
       "    <tr>\n",
       "      <th>7</th>\n",
       "      <td>1995.262315</td>\n",
       "      <td>0.62276</td>\n",
       "      <td>0.041554</td>\n",
       "    </tr>\n",
       "    <tr>\n",
       "      <th>8</th>\n",
       "      <td>15848.931925</td>\n",
       "      <td>0.62276</td>\n",
       "      <td>0.041554</td>\n",
       "    </tr>\n",
       "    <tr>\n",
       "      <th>9</th>\n",
       "      <td>125892.541179</td>\n",
       "      <td>0.62276</td>\n",
       "      <td>0.041554</td>\n",
       "    </tr>\n",
       "    <tr>\n",
       "      <th>10</th>\n",
       "      <td>1000000.000000</td>\n",
       "      <td>0.62276</td>\n",
       "      <td>0.041554</td>\n",
       "    </tr>\n",
       "  </tbody>\n",
       "</table>\n",
       "</div>"
      ],
      "text/plain": [
       "                 C  AUC-mean   AUC-std\n",
       "0         0.001000   0.54400  0.018344\n",
       "1         0.007943   0.58338  0.032528\n",
       "2         0.063096   0.62104  0.053615\n",
       "3         0.501187   0.61930  0.040578\n",
       "4         3.981072   0.62276  0.044920\n",
       "5        31.622777   0.62276  0.041554\n",
       "6       251.188643   0.62276  0.041554\n",
       "7      1995.262315   0.62276  0.041554\n",
       "8     15848.931925   0.62276  0.041554\n",
       "9    125892.541179   0.62276  0.041554\n",
       "10  1000000.000000   0.62276  0.041554"
      ]
     },
     "metadata": {},
     "output_type": "display_data"
    }
   ],
   "source": [
    "c_range = np.logspace(-3,6,11)\n",
    "\n",
    "auc_mean, auc_std = logit_CV(x_train, y_train, c_range)\n",
    "    \n",
    "auc_df = pd.DataFrame(c_range.reshape(-1,1), columns = [\"C\"])\n",
    "auc_df[\"AUC-mean\"] = auc_mean[:]\n",
    "auc_df[\"AUC-std\"] = auc_std[:]\n",
    "display(auc_df)"
   ]
  },
  {
   "cell_type": "code",
   "execution_count": 72,
   "metadata": {},
   "outputs": [],
   "source": [
    "# c_logit_class = 1\n",
    "# auc_logit = 0.64482"
   ]
  },
  {
   "cell_type": "markdown",
   "metadata": {},
   "source": [
    "### SVM model"
   ]
  },
  {
   "cell_type": "code",
   "execution_count": 73,
   "metadata": {},
   "outputs": [
    {
     "data": {
      "text/plain": [
       "{'memory': None,\n",
       " 'steps': [('standardize', StandardScaler()),\n",
       "  ('svm_model', SVC(probability=True, random_state=123456789))],\n",
       " 'verbose': False,\n",
       " 'standardize': StandardScaler(),\n",
       " 'svm_model': SVC(probability=True, random_state=123456789),\n",
       " 'standardize__copy': True,\n",
       " 'standardize__with_mean': True,\n",
       " 'standardize__with_std': True,\n",
       " 'svm_model__C': 1.0,\n",
       " 'svm_model__break_ties': False,\n",
       " 'svm_model__cache_size': 200,\n",
       " 'svm_model__class_weight': None,\n",
       " 'svm_model__coef0': 0.0,\n",
       " 'svm_model__decision_function_shape': 'ovr',\n",
       " 'svm_model__degree': 3,\n",
       " 'svm_model__gamma': 'scale',\n",
       " 'svm_model__kernel': 'rbf',\n",
       " 'svm_model__max_iter': -1,\n",
       " 'svm_model__probability': True,\n",
       " 'svm_model__random_state': 123456789,\n",
       " 'svm_model__shrinking': True,\n",
       " 'svm_model__tol': 0.001,\n",
       " 'svm_model__verbose': False}"
      ]
     },
     "execution_count": 73,
     "metadata": {},
     "output_type": "execute_result"
    }
   ],
   "source": [
    "estimators = []\n",
    "estimators.append(('standardize', StandardScaler()))         # tell pipeline to standardize features\n",
    "estimators.append(('svm_model', SVC(probability = True, random_state = SEED)))  # tell pipeline to use a logit model with lasso\n",
    "pipeline_svc = Pipeline(estimators) \n",
    "pipeline_svc.get_params()"
   ]
  },
  {
   "cell_type": "markdown",
   "metadata": {},
   "source": [
    "For the SVM classifier, 5-fold cross-validation is included in the sklearn command."
   ]
  },
  {
   "cell_type": "code",
   "execution_count": 74,
   "metadata": {},
   "outputs": [],
   "source": [
    "X_train_train, X_train_val, y_train_train, y_train_val = train_test_split(X_train, y_train, test_size=0.25, stratify=y_train, random_state=SEED)"
   ]
  },
  {
   "cell_type": "code",
   "execution_count": 75,
   "metadata": {},
   "outputs": [
    {
     "data": {
      "text/html": [
       "<div>\n",
       "<style scoped>\n",
       "    .dataframe tbody tr th:only-of-type {\n",
       "        vertical-align: middle;\n",
       "    }\n",
       "\n",
       "    .dataframe tbody tr th {\n",
       "        vertical-align: top;\n",
       "    }\n",
       "\n",
       "    .dataframe thead th {\n",
       "        text-align: right;\n",
       "    }\n",
       "</style>\n",
       "<table border=\"1\" class=\"dataframe\">\n",
       "  <thead>\n",
       "    <tr style=\"text-align: right;\">\n",
       "      <th></th>\n",
       "      <th>C</th>\n",
       "      <th>AUC</th>\n",
       "    </tr>\n",
       "  </thead>\n",
       "  <tbody>\n",
       "    <tr>\n",
       "      <th>0</th>\n",
       "      <td>0.001000</td>\n",
       "      <td>0.5856</td>\n",
       "    </tr>\n",
       "    <tr>\n",
       "      <th>1</th>\n",
       "      <td>0.007943</td>\n",
       "      <td>0.5856</td>\n",
       "    </tr>\n",
       "    <tr>\n",
       "      <th>2</th>\n",
       "      <td>0.063096</td>\n",
       "      <td>0.5856</td>\n",
       "    </tr>\n",
       "    <tr>\n",
       "      <th>3</th>\n",
       "      <td>0.501187</td>\n",
       "      <td>0.6399</td>\n",
       "    </tr>\n",
       "    <tr>\n",
       "      <th>4</th>\n",
       "      <td>3.981072</td>\n",
       "      <td>0.6467</td>\n",
       "    </tr>\n",
       "    <tr>\n",
       "      <th>5</th>\n",
       "      <td>31.622777</td>\n",
       "      <td>0.6196</td>\n",
       "    </tr>\n",
       "    <tr>\n",
       "      <th>6</th>\n",
       "      <td>251.188643</td>\n",
       "      <td>0.5720</td>\n",
       "    </tr>\n",
       "    <tr>\n",
       "      <th>7</th>\n",
       "      <td>1995.262315</td>\n",
       "      <td>0.5720</td>\n",
       "    </tr>\n",
       "    <tr>\n",
       "      <th>8</th>\n",
       "      <td>15848.931925</td>\n",
       "      <td>0.5788</td>\n",
       "    </tr>\n",
       "    <tr>\n",
       "      <th>9</th>\n",
       "      <td>125892.541179</td>\n",
       "      <td>0.5788</td>\n",
       "    </tr>\n",
       "    <tr>\n",
       "      <th>10</th>\n",
       "      <td>1000000.000000</td>\n",
       "      <td>0.5788</td>\n",
       "    </tr>\n",
       "  </tbody>\n",
       "</table>\n",
       "</div>"
      ],
      "text/plain": [
       "                 C     AUC\n",
       "0         0.001000  0.5856\n",
       "1         0.007943  0.5856\n",
       "2         0.063096  0.5856\n",
       "3         0.501187  0.6399\n",
       "4         3.981072  0.6467\n",
       "5        31.622777  0.6196\n",
       "6       251.188643  0.5720\n",
       "7      1995.262315  0.5720\n",
       "8     15848.931925  0.5788\n",
       "9    125892.541179  0.5788\n",
       "10  1000000.000000  0.5788"
      ]
     },
     "metadata": {},
     "output_type": "display_data"
    }
   ],
   "source": [
    "c_range = np.logspace(-3,6,11)\n",
    "auc_mean = np.zeros(len(c_range))\n",
    "\n",
    "for i in range(len(c_range)):\n",
    "    pipeline_svc.set_params(svm_model__C = c_range[i])\n",
    "    pipeline_svc.fit(X_train_train, y_train_train)\n",
    "    y_pred_svc_proba = pipeline_svc.predict(X_train_val)\n",
    "    encoded_y_train_val = to_categorical(y_train_val, num_classes=nclasses + 1)\n",
    "    encoded_y_pred_svm_proba = to_categorical(y_pred_svc_proba, num_classes=nclasses + 1)\n",
    "    auc_mean[i] = round(roc_auc_score(encoded_y_train_val[:,1:], encoded_y_pred_svm_proba[:,1:], \n",
    "                                      multi_class=\"ovr\", average='micro'), 4)\n",
    "                    \n",
    "auc_df = pd.DataFrame(c_range.reshape(-1,1), columns = [\"C\"])\n",
    "auc_df[\"AUC\"] = auc_mean[:]\n",
    "display(auc_df)"
   ]
  },
  {
   "cell_type": "code",
   "execution_count": 76,
   "metadata": {},
   "outputs": [],
   "source": [
    "# c_svm_class = 10\n",
    "# auc_svm = 0.6128"
   ]
  },
  {
   "cell_type": "markdown",
   "metadata": {},
   "source": [
    "### KNN\n",
    "Similarly as before, let's build a pipeline for a KNN model."
   ]
  },
  {
   "cell_type": "code",
   "execution_count": 77,
   "metadata": {},
   "outputs": [],
   "source": [
    "def knn_CV(x_train, y_train, n_neighb):\n",
    "    splits_num = 5\n",
    "\n",
    "    AUC = np.zeros((splits_num, len(n_neighb)))\n",
    "\n",
    "    for i in range(len(n_neighb)):\n",
    "\n",
    "        kf = KFold(n_splits=splits_num)\n",
    "\n",
    "        k = 0\n",
    "        for learn_index, val_index in kf.split(x_train):\n",
    "            x_train_train, x_train_val = x_train[learn_index], x_train[val_index]\n",
    "            y_train_train, y_train_val = y_train[learn_index], y_train[val_index]\n",
    "\n",
    "            pipeline_knn.set_params(knn_model__n_neighbors = n_neighb[i])\n",
    "\n",
    "            pipeline_knn.fit(x_train_train, y_train_train)\n",
    "\n",
    "            y_pred_knn_proba = pipeline_knn.predict(x_train_val)\n",
    "            \n",
    "            encoded_y_train_val = to_categorical(y_train_val, num_classes=nclasses + 1)\n",
    "            encoded_y_pred_knn_proba = to_categorical(y_pred_knn_proba, num_classes=nclasses + 1)\n",
    "\n",
    "            AUC[k, i] = round(roc_auc_score(encoded_y_train_val[:,1:], encoded_y_pred_knn_proba[:,1:],\n",
    "                                            multi_class=\"ovr\", average='micro'), 4)\n",
    "\n",
    "            k = k+1\n",
    "\n",
    "    auc_mean = np.zeros(len(n_neighb))\n",
    "    auc_std = np.zeros(len(n_neighb))\n",
    "    for i in range(len(n_neighb)):\n",
    "        auc_mean[i] = AUC[:, i].mean()\n",
    "        auc_std[i] = AUC[:, i].std()\n",
    "        \n",
    "    return auc_mean, auc_std"
   ]
  },
  {
   "cell_type": "code",
   "execution_count": 78,
   "metadata": {},
   "outputs": [
    {
     "data": {
      "text/plain": [
       "{'memory': None,\n",
       " 'steps': [('standardize', StandardScaler()),\n",
       "  ('knn_model', KNeighborsClassifier())],\n",
       " 'verbose': False,\n",
       " 'standardize': StandardScaler(),\n",
       " 'knn_model': KNeighborsClassifier(),\n",
       " 'standardize__copy': True,\n",
       " 'standardize__with_mean': True,\n",
       " 'standardize__with_std': True,\n",
       " 'knn_model__algorithm': 'auto',\n",
       " 'knn_model__leaf_size': 30,\n",
       " 'knn_model__metric': 'minkowski',\n",
       " 'knn_model__metric_params': None,\n",
       " 'knn_model__n_jobs': None,\n",
       " 'knn_model__n_neighbors': 5,\n",
       " 'knn_model__p': 2,\n",
       " 'knn_model__weights': 'uniform'}"
      ]
     },
     "execution_count": 78,
     "metadata": {},
     "output_type": "execute_result"
    }
   ],
   "source": [
    "estimators = []\n",
    "estimators.append(('standardize', StandardScaler()))         # tell pipeline to standardize features\n",
    "estimators.append(('knn_model',KNeighborsClassifier()))  # tell pipeline to use a logit model with lasso\n",
    "pipeline_knn = Pipeline(estimators) \n",
    "pipeline_knn.get_params()"
   ]
  },
  {
   "cell_type": "code",
   "execution_count": 79,
   "metadata": {},
   "outputs": [
    {
     "data": {
      "text/html": [
       "<div>\n",
       "<style scoped>\n",
       "    .dataframe tbody tr th:only-of-type {\n",
       "        vertical-align: middle;\n",
       "    }\n",
       "\n",
       "    .dataframe tbody tr th {\n",
       "        vertical-align: top;\n",
       "    }\n",
       "\n",
       "    .dataframe thead th {\n",
       "        text-align: right;\n",
       "    }\n",
       "</style>\n",
       "<table border=\"1\" class=\"dataframe\">\n",
       "  <thead>\n",
       "    <tr style=\"text-align: right;\">\n",
       "      <th></th>\n",
       "      <th>N</th>\n",
       "      <th>AUC-mean</th>\n",
       "      <th>AUC-std</th>\n",
       "    </tr>\n",
       "  </thead>\n",
       "  <tbody>\n",
       "    <tr>\n",
       "      <th>0</th>\n",
       "      <td>2</td>\n",
       "      <td>0.61084</td>\n",
       "      <td>0.032260</td>\n",
       "    </tr>\n",
       "    <tr>\n",
       "      <th>1</th>\n",
       "      <td>3</td>\n",
       "      <td>0.58338</td>\n",
       "      <td>0.015371</td>\n",
       "    </tr>\n",
       "    <tr>\n",
       "      <th>2</th>\n",
       "      <td>4</td>\n",
       "      <td>0.59872</td>\n",
       "      <td>0.032743</td>\n",
       "    </tr>\n",
       "    <tr>\n",
       "      <th>3</th>\n",
       "      <td>5</td>\n",
       "      <td>0.60564</td>\n",
       "      <td>0.038301</td>\n",
       "    </tr>\n",
       "    <tr>\n",
       "      <th>4</th>\n",
       "      <td>6</td>\n",
       "      <td>0.62612</td>\n",
       "      <td>0.022224</td>\n",
       "    </tr>\n",
       "    <tr>\n",
       "      <th>5</th>\n",
       "      <td>7</td>\n",
       "      <td>0.63976</td>\n",
       "      <td>0.026075</td>\n",
       "    </tr>\n",
       "    <tr>\n",
       "      <th>6</th>\n",
       "      <td>8</td>\n",
       "      <td>0.64832</td>\n",
       "      <td>0.028428</td>\n",
       "    </tr>\n",
       "    <tr>\n",
       "      <th>7</th>\n",
       "      <td>9</td>\n",
       "      <td>0.63460</td>\n",
       "      <td>0.026650</td>\n",
       "    </tr>\n",
       "    <tr>\n",
       "      <th>8</th>\n",
       "      <td>10</td>\n",
       "      <td>0.63288</td>\n",
       "      <td>0.033779</td>\n",
       "    </tr>\n",
       "    <tr>\n",
       "      <th>9</th>\n",
       "      <td>11</td>\n",
       "      <td>0.64144</td>\n",
       "      <td>0.034829</td>\n",
       "    </tr>\n",
       "    <tr>\n",
       "      <th>10</th>\n",
       "      <td>12</td>\n",
       "      <td>0.63636</td>\n",
       "      <td>0.035892</td>\n",
       "    </tr>\n",
       "    <tr>\n",
       "      <th>11</th>\n",
       "      <td>13</td>\n",
       "      <td>0.64316</td>\n",
       "      <td>0.030455</td>\n",
       "    </tr>\n",
       "    <tr>\n",
       "      <th>12</th>\n",
       "      <td>14</td>\n",
       "      <td>0.62098</td>\n",
       "      <td>0.040444</td>\n",
       "    </tr>\n",
       "  </tbody>\n",
       "</table>\n",
       "</div>"
      ],
      "text/plain": [
       "     N  AUC-mean   AUC-std\n",
       "0    2   0.61084  0.032260\n",
       "1    3   0.58338  0.015371\n",
       "2    4   0.59872  0.032743\n",
       "3    5   0.60564  0.038301\n",
       "4    6   0.62612  0.022224\n",
       "5    7   0.63976  0.026075\n",
       "6    8   0.64832  0.028428\n",
       "7    9   0.63460  0.026650\n",
       "8   10   0.63288  0.033779\n",
       "9   11   0.64144  0.034829\n",
       "10  12   0.63636  0.035892\n",
       "11  13   0.64316  0.030455\n",
       "12  14   0.62098  0.040444"
      ]
     },
     "metadata": {},
     "output_type": "display_data"
    }
   ],
   "source": [
    "n_neighb = np.arange(2, 15, 1)\n",
    "\n",
    "auc_mean, auc_std = knn_CV(x_train, y_train, n_neighb)\n",
    "    \n",
    "auc_df = pd.DataFrame(n_neighb.reshape(-1,1), columns = [\"N\"])\n",
    "auc_df[\"AUC-mean\"] = auc_mean[:]\n",
    "auc_df[\"AUC-std\"] = auc_std[:]\n",
    "display(auc_df)"
   ]
  },
  {
   "cell_type": "code",
   "execution_count": 80,
   "metadata": {},
   "outputs": [],
   "source": [
    "# n_knn_class = 5\n",
    "# auc_knn = 0.60548"
   ]
  },
  {
   "cell_type": "markdown",
   "metadata": {},
   "source": [
    "### Decision trees"
   ]
  },
  {
   "cell_type": "code",
   "execution_count": 81,
   "metadata": {},
   "outputs": [],
   "source": [
    "def dtc_CV(x_train, y_train, d_depth):\n",
    "    splits_num = 5\n",
    "\n",
    "    AUC = np.zeros((splits_num, len(d_depth)))\n",
    "\n",
    "    for i in range(len(d_depth)):\n",
    "\n",
    "        kf = KFold(n_splits=splits_num)\n",
    "\n",
    "        k = 0\n",
    "        for learn_index, val_index in kf.split(x_train):\n",
    "            x_train_train, x_train_val = x_train[learn_index], x_train[val_index]\n",
    "            y_train_train, y_train_val = y_train[learn_index], y_train[val_index]\n",
    "\n",
    "            pipeline_dtc.set_params(dtc_model__max_depth = d_depth[i])\n",
    "\n",
    "            pipeline_dtc.fit(x_train_train, y_train_train)\n",
    "\n",
    "            y_pred_dtc_proba = pipeline_dtc.predict(x_train_val)\n",
    "            \n",
    "            encoded_y_train_val = to_categorical(y_train_val, num_classes=nclasses + 1)\n",
    "            encoded_y_pred_dtc_proba = to_categorical(y_pred_dtc_proba, num_classes=nclasses + 1)\n",
    "\n",
    "            AUC[k, i] = round(roc_auc_score(encoded_y_train_val[:,1:], encoded_y_pred_dtc_proba[:,1:],\n",
    "                                            multi_class=\"ovr\", average='micro'), 4)\n",
    "\n",
    "            k = k+1\n",
    "\n",
    "    auc_mean = np.zeros(len(d_depth))\n",
    "    auc_std = np.zeros(len(d_depth))\n",
    "    for i in range(len(d_depth)):\n",
    "        auc_mean[i] = AUC[:, i].mean()\n",
    "        auc_std[i] = AUC[:, i].std()\n",
    "        \n",
    "    return auc_mean, auc_std"
   ]
  },
  {
   "cell_type": "code",
   "execution_count": 82,
   "metadata": {},
   "outputs": [
    {
     "data": {
      "text/plain": [
       "{'memory': None,\n",
       " 'steps': [('standardize', StandardScaler()),\n",
       "  ('dtc_model', DecisionTreeClassifier(random_state=123456789))],\n",
       " 'verbose': False,\n",
       " 'standardize': StandardScaler(),\n",
       " 'dtc_model': DecisionTreeClassifier(random_state=123456789),\n",
       " 'standardize__copy': True,\n",
       " 'standardize__with_mean': True,\n",
       " 'standardize__with_std': True,\n",
       " 'dtc_model__ccp_alpha': 0.0,\n",
       " 'dtc_model__class_weight': None,\n",
       " 'dtc_model__criterion': 'gini',\n",
       " 'dtc_model__max_depth': None,\n",
       " 'dtc_model__max_features': None,\n",
       " 'dtc_model__max_leaf_nodes': None,\n",
       " 'dtc_model__min_impurity_decrease': 0.0,\n",
       " 'dtc_model__min_impurity_split': None,\n",
       " 'dtc_model__min_samples_leaf': 1,\n",
       " 'dtc_model__min_samples_split': 2,\n",
       " 'dtc_model__min_weight_fraction_leaf': 0.0,\n",
       " 'dtc_model__presort': 'deprecated',\n",
       " 'dtc_model__random_state': 123456789,\n",
       " 'dtc_model__splitter': 'best'}"
      ]
     },
     "execution_count": 82,
     "metadata": {},
     "output_type": "execute_result"
    }
   ],
   "source": [
    "estimators = []\n",
    "estimators.append(('standardize', StandardScaler()))         # tell pipeline to standardize features\n",
    "estimators.append(('dtc_model',DecisionTreeClassifier(random_state = SEED)))  # tell pipeline to use a logit model with lasso\n",
    "pipeline_dtc = Pipeline(estimators) \n",
    "pipeline_dtc.get_params()"
   ]
  },
  {
   "cell_type": "code",
   "execution_count": 83,
   "metadata": {},
   "outputs": [
    {
     "data": {
      "text/html": [
       "<div>\n",
       "<style scoped>\n",
       "    .dataframe tbody tr th:only-of-type {\n",
       "        vertical-align: middle;\n",
       "    }\n",
       "\n",
       "    .dataframe tbody tr th {\n",
       "        vertical-align: top;\n",
       "    }\n",
       "\n",
       "    .dataframe thead th {\n",
       "        text-align: right;\n",
       "    }\n",
       "</style>\n",
       "<table border=\"1\" class=\"dataframe\">\n",
       "  <thead>\n",
       "    <tr style=\"text-align: right;\">\n",
       "      <th></th>\n",
       "      <th>D</th>\n",
       "      <th>AUC-mean</th>\n",
       "      <th>AUC-std</th>\n",
       "    </tr>\n",
       "  </thead>\n",
       "  <tbody>\n",
       "    <tr>\n",
       "      <th>0</th>\n",
       "      <td>2</td>\n",
       "      <td>0.64496</td>\n",
       "      <td>0.037752</td>\n",
       "    </tr>\n",
       "    <tr>\n",
       "      <th>1</th>\n",
       "      <td>3</td>\n",
       "      <td>0.61926</td>\n",
       "      <td>0.029927</td>\n",
       "    </tr>\n",
       "    <tr>\n",
       "      <th>2</th>\n",
       "      <td>4</td>\n",
       "      <td>0.61928</td>\n",
       "      <td>0.032432</td>\n",
       "    </tr>\n",
       "    <tr>\n",
       "      <th>3</th>\n",
       "      <td>5</td>\n",
       "      <td>0.61242</td>\n",
       "      <td>0.026194</td>\n",
       "    </tr>\n",
       "    <tr>\n",
       "      <th>4</th>\n",
       "      <td>6</td>\n",
       "      <td>0.60562</td>\n",
       "      <td>0.040151</td>\n",
       "    </tr>\n",
       "    <tr>\n",
       "      <th>5</th>\n",
       "      <td>7</td>\n",
       "      <td>0.60560</td>\n",
       "      <td>0.046254</td>\n",
       "    </tr>\n",
       "    <tr>\n",
       "      <th>6</th>\n",
       "      <td>8</td>\n",
       "      <td>0.58686</td>\n",
       "      <td>0.035387</td>\n",
       "    </tr>\n",
       "    <tr>\n",
       "      <th>7</th>\n",
       "      <td>9</td>\n",
       "      <td>0.57482</td>\n",
       "      <td>0.039445</td>\n",
       "    </tr>\n",
       "    <tr>\n",
       "      <th>8</th>\n",
       "      <td>10</td>\n",
       "      <td>0.56628</td>\n",
       "      <td>0.032499</td>\n",
       "    </tr>\n",
       "    <tr>\n",
       "      <th>9</th>\n",
       "      <td>11</td>\n",
       "      <td>0.57140</td>\n",
       "      <td>0.042743</td>\n",
       "    </tr>\n",
       "    <tr>\n",
       "      <th>10</th>\n",
       "      <td>12</td>\n",
       "      <td>0.57312</td>\n",
       "      <td>0.040061</td>\n",
       "    </tr>\n",
       "    <tr>\n",
       "      <th>11</th>\n",
       "      <td>13</td>\n",
       "      <td>0.56118</td>\n",
       "      <td>0.035482</td>\n",
       "    </tr>\n",
       "    <tr>\n",
       "      <th>12</th>\n",
       "      <td>14</td>\n",
       "      <td>0.56626</td>\n",
       "      <td>0.031778</td>\n",
       "    </tr>\n",
       "  </tbody>\n",
       "</table>\n",
       "</div>"
      ],
      "text/plain": [
       "     D  AUC-mean   AUC-std\n",
       "0    2   0.64496  0.037752\n",
       "1    3   0.61926  0.029927\n",
       "2    4   0.61928  0.032432\n",
       "3    5   0.61242  0.026194\n",
       "4    6   0.60562  0.040151\n",
       "5    7   0.60560  0.046254\n",
       "6    8   0.58686  0.035387\n",
       "7    9   0.57482  0.039445\n",
       "8   10   0.56628  0.032499\n",
       "9   11   0.57140  0.042743\n",
       "10  12   0.57312  0.040061\n",
       "11  13   0.56118  0.035482\n",
       "12  14   0.56626  0.031778"
      ]
     },
     "metadata": {},
     "output_type": "display_data"
    }
   ],
   "source": [
    "d_depth = np.arange(2, 15, 1)\n",
    "\n",
    "auc_mean, auc_std = dtc_CV(x_train, y_train, d_depth)\n",
    "    \n",
    "auc_df = pd.DataFrame(d_depth.reshape(-1,1), columns = [\"D\"])\n",
    "auc_df[\"AUC-mean\"] = auc_mean[:]\n",
    "auc_df[\"AUC-std\"] = auc_std[:]\n",
    "display(auc_df)"
   ]
  },
  {
   "cell_type": "code",
   "execution_count": 84,
   "metadata": {},
   "outputs": [],
   "source": [
    "# d_dtc_class = 2\n",
    "# auc_dtc = 0.61058"
   ]
  },
  {
   "cell_type": "markdown",
   "metadata": {},
   "source": [
    "### Random Forest"
   ]
  },
  {
   "cell_type": "code",
   "execution_count": 85,
   "metadata": {},
   "outputs": [],
   "source": [
    "def randfor_CV(x_train, y_train, f_depth):\n",
    "    splits_num = 5\n",
    "\n",
    "    AUC = np.zeros((splits_num, len(f_depth)))\n",
    "\n",
    "    for i in range(len(f_depth)):\n",
    "\n",
    "        kf = KFold(n_splits=splits_num)\n",
    "\n",
    "        k = 0\n",
    "        for learn_index, val_index in kf.split(x_train):\n",
    "            x_train_train, x_train_val = x_train[learn_index], x_train[val_index]\n",
    "            y_train_train, y_train_val = y_train[learn_index], y_train[val_index]\n",
    "\n",
    "            pipeline_randfor.set_params(randfor_model__max_depth = f_depth[i])\n",
    "\n",
    "            pipeline_randfor.fit(x_train_train, y_train_train)\n",
    "\n",
    "            y_pred_randfor_proba = pipeline_randfor.predict(x_train_val)\n",
    "            \n",
    "            encoded_y_train_val = to_categorical(y_train_val, num_classes=nclasses + 1)\n",
    "            encoded_y_pred_randfor_proba = to_categorical(y_pred_randfor_proba, num_classes=nclasses + 1)\n",
    "\n",
    "            AUC[k, i] = round(roc_auc_score(encoded_y_train_val[:,1:], encoded_y_pred_randfor_proba[:,1:],\n",
    "                                            multi_class=\"ovr\", average='micro'), 4)\n",
    "\n",
    "            k = k+1\n",
    "\n",
    "    auc_mean = np.zeros(len(f_depth))\n",
    "    auc_std = np.zeros(len(f_depth))\n",
    "    for i in range(len(f_depth)):\n",
    "        auc_mean[i] = AUC[:, i].mean()\n",
    "        auc_std[i] = AUC[:, i].std()\n",
    "        \n",
    "    return auc_mean, auc_std"
   ]
  },
  {
   "cell_type": "code",
   "execution_count": 86,
   "metadata": {},
   "outputs": [
    {
     "data": {
      "text/plain": [
       "{'memory': None,\n",
       " 'steps': [('standardize', StandardScaler()),\n",
       "  ('randfor_model', RandomForestClassifier(random_state=123456789))],\n",
       " 'verbose': False,\n",
       " 'standardize': StandardScaler(),\n",
       " 'randfor_model': RandomForestClassifier(random_state=123456789),\n",
       " 'standardize__copy': True,\n",
       " 'standardize__with_mean': True,\n",
       " 'standardize__with_std': True,\n",
       " 'randfor_model__bootstrap': True,\n",
       " 'randfor_model__ccp_alpha': 0.0,\n",
       " 'randfor_model__class_weight': None,\n",
       " 'randfor_model__criterion': 'gini',\n",
       " 'randfor_model__max_depth': None,\n",
       " 'randfor_model__max_features': 'auto',\n",
       " 'randfor_model__max_leaf_nodes': None,\n",
       " 'randfor_model__max_samples': None,\n",
       " 'randfor_model__min_impurity_decrease': 0.0,\n",
       " 'randfor_model__min_impurity_split': None,\n",
       " 'randfor_model__min_samples_leaf': 1,\n",
       " 'randfor_model__min_samples_split': 2,\n",
       " 'randfor_model__min_weight_fraction_leaf': 0.0,\n",
       " 'randfor_model__n_estimators': 100,\n",
       " 'randfor_model__n_jobs': None,\n",
       " 'randfor_model__oob_score': False,\n",
       " 'randfor_model__random_state': 123456789,\n",
       " 'randfor_model__verbose': 0,\n",
       " 'randfor_model__warm_start': False}"
      ]
     },
     "execution_count": 86,
     "metadata": {},
     "output_type": "execute_result"
    }
   ],
   "source": [
    "estimators = []\n",
    "estimators.append(('standardize', StandardScaler()))         # tell pipeline to standardize features\n",
    "estimators.append(('randfor_model',RandomForestClassifier(random_state = SEED)))  # tell pipeline to use a logit model with lasso\n",
    "pipeline_randfor = Pipeline(estimators)\n",
    "\n",
    "random_forest = pipeline_randfor.named_steps['randfor_model']\n",
    "\n",
    "pipeline_randfor.get_params()"
   ]
  },
  {
   "cell_type": "code",
   "execution_count": 87,
   "metadata": {},
   "outputs": [],
   "source": [
    "# f_depth = np.arange(2, 15, 1)\n",
    "\n",
    "# auc_mean, auc_std = randfor_CV(x_train, y_train, f_depth)\n",
    "    \n",
    "# auc_df = pd.DataFrame(f_depth.reshape(-1,1), columns = [\"F\"])\n",
    "# auc_df[\"AUC-mean\"] = auc_mean[:]\n",
    "# auc_df[\"AUC-std\"] = auc_std[:]\n",
    "# display(auc_df)"
   ]
  },
  {
   "cell_type": "code",
   "execution_count": 88,
   "metadata": {},
   "outputs": [],
   "source": [
    "# f_randfor_class = 3\n",
    "# auc_randfor = 0.61058"
   ]
  },
  {
   "cell_type": "markdown",
   "metadata": {},
   "source": [
    "### Test AUC\n",
    "\n",
    "We finally test our models on unforeseen data and compute the AUC. The logit model performs better and obtains a higher AUC score. If we wanted to compare the models even more thoroughly we could have performed a form of nested cross-validation where inner folds are used to optimise hyperparameters while outer folds allow to select the best model."
   ]
  },
  {
   "cell_type": "code",
   "execution_count": 89,
   "metadata": {},
   "outputs": [
    {
     "name": "stdout",
     "output_type": "stream",
     "text": [
      "Test AUC (baseline): 0.5\n",
      "Test AUC (LASSO): 0.6739130434782608\n",
      "Test AUC (logit): 0.7758152173913043\n",
      "Test AUC (SVM): 0.735054347826087\n",
      "Test AUC (KNN): 0.735054347826087\n",
      "Test AUC (Dec. Tree): 0.7146739130434783\n",
      "Test AUC (Rand. For.): 0.7146739130434783\n"
     ]
    }
   ],
   "source": [
    "print(\"Test AUC (baseline):\", auc_baseline)\n",
    "\n",
    "lambda_ols_class=0.02\n",
    "pipeline_lasso.set_params(ols_model_l1__alpha = lambda_ols_class)\n",
    "pipeline_lasso.fit(X_train, y_train)\n",
    "y_pred_lasso_proba = pipeline_lasso.predict(X_test)\n",
    "encoded_y_test = to_categorical(y_test, num_classes=nclasses + 1)\n",
    "encoded_y_pred_lasso_proba = to_categorical(y_pred_lasso_proba, num_classes=nclasses + 1)\n",
    "print(\"Test AUC (LASSO):\", roc_auc_score(encoded_y_test[:,1:], encoded_y_pred_lasso_proba[:,1:],\n",
    "                                         multi_class=\"ovr\", average='micro'))\n",
    "\n",
    "\n",
    "c_logit_class=0.12\n",
    "pipeline_logit.set_params(logit_model_l1__C = c_logit_class)\n",
    "pipeline_logit.fit(X_train, y_train)\n",
    "y_pred_logit_proba = pipeline_logit.predict(X_test)\n",
    "encoded_y_test = to_categorical(y_test, num_classes=nclasses + 1)\n",
    "encoded_y_pred_logit_proba = to_categorical(y_pred_logit_proba, num_classes=nclasses + 1)\n",
    "print(\"Test AUC (logit):\", roc_auc_score(encoded_y_test[:,1:], encoded_y_pred_logit_proba[:,1:],\n",
    "                                         multi_class=\"ovr\", average='micro'))  \n",
    "\n",
    "c_svm_class=0.9                      \n",
    "pipeline_svc.set_params(svm_model__C = c_svm_class)\n",
    "pipeline_svc.fit(X_train, y_train)\n",
    "y_pred_svc_proba = pipeline_svc.predict(X_test)\n",
    "encoded_y_test = to_categorical(y_test, num_classes=nclasses + 1)\n",
    "encoded_y_pred_svc_proba = to_categorical(y_pred_svc_proba, num_classes=nclasses + 1)\n",
    "print(\"Test AUC (SVM):\", roc_auc_score(encoded_y_test[:,1:], encoded_y_pred_svc_proba[:,1:],\n",
    "                                         multi_class=\"ovr\", average='micro'))\n",
    "\n",
    "n_knn_class=57\n",
    "pipeline_knn.set_params(knn_model__n_neighbors = n_knn_class)\n",
    "pipeline_knn.fit(X_train, y_train)\n",
    "y_pred_knn_proba = pipeline_knn.predict(X_test)\n",
    "encoded_y_test = to_categorical(y_test, num_classes=nclasses + 1)\n",
    "encoded_y_pred_knn_proba = to_categorical(y_pred_knn_proba, num_classes=nclasses + 1)\n",
    "print(\"Test AUC (KNN):\", roc_auc_score(encoded_y_test[:,1:], encoded_y_pred_knn_proba[:,1:],\n",
    "                                         multi_class=\"ovr\", average='micro'))\n",
    "\n",
    "d_depth=2\n",
    "pipeline_dtc.set_params(dtc_model__max_depth = d_depth)\n",
    "pipeline_dtc.fit(X_train, y_train)\n",
    "y_pred_dtc_proba = pipeline_dtc.predict(X_test)\n",
    "encoded_y_test = to_categorical(y_test, num_classes=nclasses + 1)\n",
    "encoded_y_pred_dtc_proba = to_categorical(y_pred_dtc_proba, num_classes=nclasses + 1)\n",
    "print(\"Test AUC (Dec. Tree):\", roc_auc_score(encoded_y_test[:,1:], encoded_y_pred_dtc_proba[:,1:],\n",
    "                                         multi_class=\"ovr\", average='micro'))\n",
    "\n",
    "f_randfor_class=2\n",
    "pipeline_randfor.set_params(randfor_model__max_depth = f_randfor_class)\n",
    "pipeline_randfor.fit(X_train, y_train)\n",
    "y_pred_randfor_proba = pipeline_randfor.predict(X_test)\n",
    "encoded_y_test = to_categorical(y_test, num_classes=nclasses + 1)\n",
    "encoded_y_pred_randfor_proba = to_categorical(y_pred_randfor_proba, num_classes=nclasses + 1)\n",
    "print(\"Test AUC (Rand. For.):\", roc_auc_score(encoded_y_test[:,1:], encoded_y_pred_randfor_proba[:,1:],\n",
    "                                         multi_class=\"ovr\", average='micro'))\n",
    "\n",
    "   \n",
    "                                    "
   ]
  },
  {
   "cell_type": "code",
   "execution_count": 90,
   "metadata": {},
   "outputs": [],
   "source": [
    "models_classification = pd.DataFrame([[auc_baseline], [roc_auc_score(encoded_y_test[:,1:], encoded_y_pred_lasso_proba[:,1:], multi_class=\"ovr\", average='micro')],\n",
    "                                    [roc_auc_score(encoded_y_test[:,1:], encoded_y_pred_logit_proba[:,1:], multi_class=\"ovr\", average='micro')],\n",
    "                                     [roc_auc_score(encoded_y_test[:,1:], encoded_y_pred_svc_proba[:,1:], multi_class=\"ovr\", average='micro')],\n",
    "                                     [roc_auc_score(encoded_y_test[:,1:], encoded_y_pred_knn_proba[:,1:], multi_class=\"ovr\", average='micro')],\n",
    "                                     [roc_auc_score(encoded_y_test[:,1:], encoded_y_pred_dtc_proba[:,1:], multi_class=\"ovr\", average='micro')],\n",
    "                                     [roc_auc_score(encoded_y_test[:,1:], encoded_y_pred_randfor_proba[:,1:], multi_class=\"ovr\", average='micro')]],\n",
    "                                    index=['baseline','Lasso','logit','SVM','KNN','Dec. Tree','Rand. For.'], columns=['Test AUC'])"
   ]
  },
  {
   "cell_type": "code",
   "execution_count": 91,
   "metadata": {},
   "outputs": [
    {
     "data": {
      "text/html": [
       "<div>\n",
       "<style scoped>\n",
       "    .dataframe tbody tr th:only-of-type {\n",
       "        vertical-align: middle;\n",
       "    }\n",
       "\n",
       "    .dataframe tbody tr th {\n",
       "        vertical-align: top;\n",
       "    }\n",
       "\n",
       "    .dataframe thead th {\n",
       "        text-align: right;\n",
       "    }\n",
       "</style>\n",
       "<table border=\"1\" class=\"dataframe\">\n",
       "  <thead>\n",
       "    <tr style=\"text-align: right;\">\n",
       "      <th></th>\n",
       "      <th>Test AUC</th>\n",
       "    </tr>\n",
       "  </thead>\n",
       "  <tbody>\n",
       "    <tr>\n",
       "      <th>baseline</th>\n",
       "      <td>0.500000</td>\n",
       "    </tr>\n",
       "    <tr>\n",
       "      <th>Lasso</th>\n",
       "      <td>0.673913</td>\n",
       "    </tr>\n",
       "    <tr>\n",
       "      <th>logit</th>\n",
       "      <td>0.775815</td>\n",
       "    </tr>\n",
       "    <tr>\n",
       "      <th>SVM</th>\n",
       "      <td>0.735054</td>\n",
       "    </tr>\n",
       "    <tr>\n",
       "      <th>KNN</th>\n",
       "      <td>0.735054</td>\n",
       "    </tr>\n",
       "    <tr>\n",
       "      <th>Dec. Tree</th>\n",
       "      <td>0.714674</td>\n",
       "    </tr>\n",
       "    <tr>\n",
       "      <th>Rand. For.</th>\n",
       "      <td>0.714674</td>\n",
       "    </tr>\n",
       "  </tbody>\n",
       "</table>\n",
       "</div>"
      ],
      "text/plain": [
       "            Test AUC\n",
       "baseline    0.500000\n",
       "Lasso       0.673913\n",
       "logit       0.775815\n",
       "SVM         0.735054\n",
       "KNN         0.735054\n",
       "Dec. Tree   0.714674\n",
       "Rand. For.  0.714674"
      ]
     },
     "execution_count": 91,
     "metadata": {},
     "output_type": "execute_result"
    }
   ],
   "source": [
    "models_classification"
   ]
  },
  {
   "cell_type": "code",
   "execution_count": 92,
   "metadata": {},
   "outputs": [
    {
     "data": {
      "image/png": "[encoded data removed]",
      "text/plain": [
       "<Figure size 432x288 with 1 Axes>"
      ]
     },
     "metadata": {},
     "output_type": "display_data"
    }
   ],
   "source": [
    "models_classification.sort_values(by='Test AUC', ascending=False).plot(kind='barh', alpha=0.7)\n",
    "plt.title('Test AUC for all classification models')\n",
    "plt.xlim(0,1)\n",
    "plt.grid();"
   ]
  },
  {
   "cell_type": "markdown",
   "metadata": {},
   "source": [
    "### Confusion matrix for the best classifier"
   ]
  },
  {
   "cell_type": "code",
   "execution_count": 93,
   "metadata": {
    "scrolled": true
   },
   "outputs": [
    {
     "data": {
      "text/plain": [
       "array([[ 0,  3,  1,  0,  0],\n",
       "       [ 0, 15,  6,  3,  0],\n",
       "       [ 0,  4, 27,  7,  0],\n",
       "       [ 0,  0,  6, 17,  0],\n",
       "       [ 0,  0,  2,  1,  0]], dtype=int64)"
      ]
     },
     "execution_count": 93,
     "metadata": {},
     "output_type": "execute_result"
    }
   ],
   "source": [
    "cm_opt = confusion_matrix(y_test,y_pred_logit_proba)\n",
    "cm_opt"
   ]
  },
  {
   "cell_type": "code",
   "execution_count": 94,
   "metadata": {},
   "outputs": [
    {
     "data": {
      "image/png": "[encoded data removed]",
      "text/plain": [
       "<Figure size 432x288 with 2 Axes>"
      ]
     },
     "metadata": {},
     "output_type": "display_data"
    }
   ],
   "source": [
    "cmap = sns.cm.rocket_r\n",
    "ax = sns.heatmap(cm_opt, annot=True, cmap = cmap)\n",
    "yticks = [1,2,3,4,5]\n",
    "ax.set_yticklabels(yticks)\n",
    "ax.set_xticklabels(yticks)\n",
    "# plt.title('Confusion matrix for the logit model',fontsize=18)\n",
    "plt.xlabel('Predicted class',fontsize=15)\n",
    "plt.ylabel('Actual class',fontsize=15)\n",
    "plt.savefig('CM_bestmodel.png')\n",
    "plt.show()"
   ]
  },
  {
   "cell_type": "code",
   "execution_count": 95,
   "metadata": {},
   "outputs": [
    {
     "name": "stdout",
     "output_type": "stream",
     "text": [
      "Proportion of images correctly classified 0.6413\n",
      "Proportion of images classified at 1 class away from the truth 0.2935\n",
      "Proportion of images classified at 2 classes away from the truth 0.0652\n",
      "Proportion of images classified at 3 classes away from the truth 0.0\n"
     ]
    }
   ],
   "source": [
    "diff_target = np.abs(y_pred_logit_proba-y_test)\n",
    "print('Proportion of images correctly classified', round(np.count_nonzero(diff_target == 0)/np.sum(cm_opt),4))\n",
    "print('Proportion of images classified at 1 class away from the truth',\n",
    "      round(np.count_nonzero(diff_target == 1)/np.sum(cm_opt),4))\n",
    "print('Proportion of images classified at 2 classes away from the truth',\n",
    "      round(np.count_nonzero(diff_target == 2)/np.sum(cm_opt),4))\n",
    "print('Proportion of images classified at 3 classes away from the truth',\n",
    "      round(np.count_nonzero(diff_target == 3)/np.sum(cm_opt),4))"
   ]
  },
  {
   "cell_type": "markdown",
   "metadata": {},
   "source": [
    "### Feature importance"
   ]
  },
  {
   "cell_type": "markdown",
   "metadata": {},
   "source": [
    "Logit does not provide any kind of \"feature importance\" function, so we use the second best model to try to understand which features explain the most the outcome, which is the random forest."
   ]
  },
  {
   "cell_type": "code",
   "execution_count": 96,
   "metadata": {},
   "outputs": [
    {
     "name": "stdout",
     "output_type": "stream",
     "text": [
      "                      Feature                            Importance\n",
      "================================================================================\n",
      "                       Green                              0.4482 \n",
      "                        Grey                              0.1690 \n",
      "                       White                              0.1370 \n",
      "                       Black                              0.1267 \n",
      "                        Blue                              0.0630 \n",
      "                    Size of box                           0.0562 \n"
     ]
    }
   ],
   "source": [
    "print_feature_importance(random_forest, X_train.columns)"
   ]
  }
 ],
 "metadata": {
  "kernelspec": {
   "display_name": "Python 3",
   "language": "python",
   "name": "python3"
  },
  "language_info": {
   "codemirror_mode": {
    "name": "ipython",
    "version": 3
   },
   "file_extension": ".py",
   "mimetype": "text/x-python",
   "name": "python",
   "nbconvert_exporter": "python",
   "pygments_lexer": "ipython3",
   "version": "3.8.5"
  }
 },
 "nbformat": 4,
 "nbformat_minor": 4
}
