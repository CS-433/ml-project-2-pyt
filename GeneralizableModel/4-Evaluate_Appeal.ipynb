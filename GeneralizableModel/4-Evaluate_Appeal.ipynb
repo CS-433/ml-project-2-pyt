{
 "cells": [
  {
   "cell_type": "code",
   "execution_count": 2,
   "metadata": {},
   "outputs": [],
   "source": [
    "import numpy as np\n",
    "import matplotlib.pyplot as plt\n",
    "import pandas as pd\n",
    "import keras as ks\n",
    "import seaborn as sns\n",
    "from PIL import Image\n",
    "%matplotlib inline"
   ]
  },
  {
   "cell_type": "code",
   "execution_count": 70,
   "metadata": {},
   "outputs": [],
   "source": [
    "# input the names of folder containing the data  \n",
    "files = \"Zurich_Files\""
   ]
  },
  {
   "cell_type": "markdown",
   "metadata": {},
   "source": [
    "# Training the model"
   ]
  },
  {
   "cell_type": "markdown",
   "metadata": {},
   "source": [
    "Those steps are detailed inthe rest of the repository"
   ]
  },
  {
   "cell_type": "markdown",
   "metadata": {},
   "source": [
    "## Survey Answers and Image Ranking"
   ]
  },
  {
   "cell_type": "code",
   "execution_count": 71,
   "metadata": {},
   "outputs": [],
   "source": [
    "surv = pd.read_csv('../Data/Survey/CleanedResults.csv')\n",
    "surv = surv.iloc[: , 1:] #Just to remove this Unnamed 0 column"
   ]
  },
  {
   "cell_type": "code",
   "execution_count": 72,
   "metadata": {},
   "outputs": [],
   "source": [
    "win = pd.DataFrame(surv['Winner'].value_counts())\n",
    "win.sort_index(ascending=True, inplace=True)"
   ]
  },
  {
   "cell_type": "code",
   "execution_count": 73,
   "metadata": {},
   "outputs": [],
   "source": [
    "im1 = pd.DataFrame(surv['Image1 ID'].value_counts())\n",
    "im1.sort_index(ascending=True, inplace=True)"
   ]
  },
  {
   "cell_type": "code",
   "execution_count": 74,
   "metadata": {},
   "outputs": [],
   "source": [
    "im2 = pd.DataFrame(surv['Image2 ID'].value_counts())\n",
    "im2.sort_index(ascending=True, inplace=True)"
   ]
  },
  {
   "cell_type": "code",
   "execution_count": 75,
   "metadata": {},
   "outputs": [],
   "source": [
    "occur = pd.DataFrame(im1.values+im2.values, columns=['Image occurence'])"
   ]
  },
  {
   "cell_type": "code",
   "execution_count": 76,
   "metadata": {},
   "outputs": [],
   "source": [
    "contest = pd.concat([occur, win],axis=1)"
   ]
  },
  {
   "cell_type": "code",
   "execution_count": 77,
   "metadata": {},
   "outputs": [],
   "source": [
    "contest['Win ratio'] = contest['Winner'] / contest['Image occurence']"
   ]
  },
  {
   "cell_type": "code",
   "execution_count": 78,
   "metadata": {},
   "outputs": [],
   "source": [
    "contest.reset_index(inplace=True)\n",
    "contest.fillna(0.0, inplace=True)"
   ]
  },
  {
   "cell_type": "code",
   "execution_count": 79,
   "metadata": {},
   "outputs": [],
   "source": [
    "contest.drop(['Image occurence','Winner'], axis=1, inplace=True)"
   ]
  },
  {
   "cell_type": "markdown",
   "metadata": {},
   "source": [
    "## Feature engineering"
   ]
  },
  {
   "cell_type": "markdown",
   "metadata": {},
   "source": [
    "Do feature engineering, feature expansion, standardize numerical data, one_hot_encode vehicles and other objects, etc."
   ]
  },
  {
   "cell_type": "markdown",
   "metadata": {},
   "source": [
    "### Building the dataframe"
   ]
  },
  {
   "cell_type": "code",
   "execution_count": 80,
   "metadata": {},
   "outputs": [],
   "source": [
    "pd.set_option('display.max_rows', None)"
   ]
  },
  {
   "cell_type": "markdown",
   "metadata": {},
   "source": [
    "### Final training dataframe"
   ]
  },
  {
   "cell_type": "code",
   "execution_count": 81,
   "metadata": {},
   "outputs": [],
   "source": [
    "obj_rgb_bright = pd.read_csv('Training_Files/images_features.csv')\n",
    "df_model = pd.merge(contest, obj_rgb_bright, left_on='index', right_on='Image number', how='outer')\n",
    "obj_num = df_model['Image number'].value_counts()\n",
    "obj_num.sort_index(ascending=True, inplace=True)\n",
    "obj_num = np.array(obj_num)\n",
    "obj_num = pd.DataFrame(obj_num, columns=['Number of obj.'])\n",
    "size = df_model[['Image number','Size of box']].groupby('Image number').sum()\n",
    "size = size / 360000\n",
    "df_model.drop(['Object','Reliability','Size of box'], axis=1, inplace=True)\n",
    "df_model = pd.merge(df_model, size, on='Image number', how='outer')\n",
    "df_model = df_model.groupby('Image number').mean()\n"
   ]
  },
  {
   "cell_type": "code",
   "execution_count": 82,
   "metadata": {},
   "outputs": [],
   "source": [
    "df_model_final = pd.read_csv('Training_Files/Segmented_features.csv')\n",
    "# df_model_final.describe()"
   ]
  },
  {
   "cell_type": "code",
   "execution_count": 83,
   "metadata": {},
   "outputs": [],
   "source": [
    "df_model_final['Size of box'] = df_model['Size of box']\n",
    "df_model_final['Win ratio'] = contest['Win ratio']\n",
    "df_model_final = df_model_final.iloc[: , 1:] #Just to remove this Unnamed 0 column"
   ]
  },
  {
   "cell_type": "markdown",
   "metadata": {},
   "source": [
    "## Build a Model"
   ]
  },
  {
   "cell_type": "code",
   "execution_count": 84,
   "metadata": {},
   "outputs": [],
   "source": [
    "import os\n",
    "import math\n",
    "import random\n",
    "import itertools\n",
    "\n",
    "import numpy as np    \n",
    "import pandas as pd\n",
    "\n",
    "import matplotlib \n",
    "import matplotlib.pyplot as plt\n",
    "from matplotlib.colors import ListedColormap\n",
    "\n",
    "import seaborn as sns\n",
    "sns.set(style=\"white\")\n",
    "\n",
    "from math import log\n",
    "\n",
    "from sklearn.dummy           import DummyClassifier\n",
    "from sklearn.linear_model    import LinearRegression\n",
    "from sklearn.linear_model    import LogisticRegression\n",
    "from sklearn.linear_model    import Lasso\n",
    "from sklearn.neighbors       import KNeighborsClassifier\n",
    "from sklearn.svm             import SVC\n",
    "from sklearn.svm             import SVR\n",
    "from sklearn.tree            import DecisionTreeClassifier\n",
    "from sklearn.ensemble        import RandomForestClassifier\n",
    "\n",
    "from sklearn.metrics         import confusion_matrix\n",
    "from sklearn.metrics         import roc_curve\n",
    "from sklearn.metrics         import roc_auc_score\n",
    "from sklearn.metrics         import accuracy_score\n",
    "from sklearn.metrics         import mean_squared_error\n",
    "from sklearn.metrics         import r2_score\n",
    "from sklearn.metrics         import classification_report\n",
    "\n",
    "from sklearn.pipeline        import Pipeline\n",
    "\n",
    "from sklearn.model_selection import train_test_split\n",
    "from sklearn.model_selection import KFold\n",
    "\n",
    "import warnings\n",
    "warnings.filterwarnings('ignore') # ignore some warnings \n",
    "\n",
    "SEED = 123456789   # Define a random seed so random steps can be replicated.  "
   ]
  },
  {
   "cell_type": "code",
   "execution_count": 85,
   "metadata": {},
   "outputs": [],
   "source": [
    "# df_model_final = df_model_final[:457]\n",
    "df_model_final = df_model_final.dropna()"
   ]
  },
  {
   "cell_type": "code",
   "execution_count": 86,
   "metadata": {},
   "outputs": [],
   "source": [
    "# Select target variable into an ARRAY called `y` and features into a DATAFRAME called  `X` \n",
    "y = np.array(df_model_final['Win ratio'])\n",
    "features = list(set(list(df_model_final.columns)) - set(['Win ratio']))\n",
    "X = df_model_final.loc[:, features]"
   ]
  },
  {
   "cell_type": "code",
   "execution_count": 87,
   "metadata": {},
   "outputs": [],
   "source": [
    "# Divide data into a training set and a testing set using the train_test_split() function\n",
    "#   NOTE: Please call the subsamples `X_train` ,  `X_test` , `y_train` , `y_test` so we can follow your code\n",
    "X_train, X_test, y_train, y_test = train_test_split(X, y, test_size=0.20, random_state=SEED)"
   ]
  },
  {
   "cell_type": "code",
   "execution_count": 88,
   "metadata": {},
   "outputs": [],
   "source": [
    "def rss(y, y_hat):\n",
    "    return sum( [ (yi - yi_hat)**2  for yi, yi_hat in zip(y, y_hat)] )\n",
    "\n",
    "def mse(y, y_hat, p=0):\n",
    "    return math.sqrt( (rss(y, y_hat))/ (len(y)-p-1) )"
   ]
  },
  {
   "cell_type": "markdown",
   "metadata": {},
   "source": [
    "## Projecting in 2D (PCA)"
   ]
  },
  {
   "cell_type": "code",
   "execution_count": 89,
   "metadata": {},
   "outputs": [],
   "source": [
    "from sklearn.preprocessing   import StandardScaler\n",
    "from sklearn.preprocessing   import PolynomialFeatures\n",
    "from sklearn.decomposition   import PCA"
   ]
  },
  {
   "cell_type": "code",
   "execution_count": 90,
   "metadata": {},
   "outputs": [],
   "source": [
    "# Select target variable into an ARRAY called `y` and features into a DATAFRAME called  `X` \n",
    "y = np.array(df_model_final['Win ratio'])\n",
    "features = list(set(list(df_model_final.columns)) - set(['Win ratio']))\n",
    "X = df_model_final.loc[:, features]\n",
    "#X"
   ]
  },
  {
   "cell_type": "code",
   "execution_count": 91,
   "metadata": {},
   "outputs": [],
   "source": [
    "scaler = StandardScaler()\n",
    "X_stand = scaler.fit_transform(X)\n",
    "\n",
    "pca2 = PCA(n_components=2)\n",
    "pca2.fit(X_stand)\n",
    "X_proj = pca2.transform(X_stand)"
   ]
  },
  {
   "cell_type": "markdown",
   "metadata": {},
   "source": [
    "## SVR"
   ]
  },
  {
   "cell_type": "code",
   "execution_count": 92,
   "metadata": {},
   "outputs": [],
   "source": [
    "c_opt = 0.1 # MSE is 0.1396"
   ]
  },
  {
   "cell_type": "code",
   "execution_count": 93,
   "metadata": {},
   "outputs": [
    {
     "data": {
      "text/plain": [
       "{'memory': None,\n",
       " 'steps': [('standardize', StandardScaler()), ('svm_model', SVR())],\n",
       " 'verbose': False,\n",
       " 'standardize': StandardScaler(),\n",
       " 'svm_model': SVR(),\n",
       " 'standardize__copy': True,\n",
       " 'standardize__with_mean': True,\n",
       " 'standardize__with_std': True,\n",
       " 'svm_model__C': 1.0,\n",
       " 'svm_model__cache_size': 200,\n",
       " 'svm_model__coef0': 0.0,\n",
       " 'svm_model__degree': 3,\n",
       " 'svm_model__epsilon': 0.1,\n",
       " 'svm_model__gamma': 'scale',\n",
       " 'svm_model__kernel': 'rbf',\n",
       " 'svm_model__max_iter': -1,\n",
       " 'svm_model__shrinking': True,\n",
       " 'svm_model__tol': 0.001,\n",
       " 'svm_model__verbose': False}"
      ]
     },
     "execution_count": 93,
     "metadata": {},
     "output_type": "execute_result"
    }
   ],
   "source": [
    "estimators = []\n",
    "estimators.append(('standardize', StandardScaler()))         # tell pipeline to standardize features\n",
    "estimators.append(('svm_model', SVR()))  # tell pipeline to use an SVR model with lasso\n",
    "pipeline_svr = Pipeline(estimators) \n",
    "pipeline_svr.get_params()"
   ]
  },
  {
   "cell_type": "code",
   "execution_count": 94,
   "metadata": {},
   "outputs": [
    {
     "name": "stdout",
     "output_type": "stream",
     "text": [
      "Testing MSE (SVR): 0.1345\n"
     ]
    }
   ],
   "source": [
    "pipeline_svr.set_params(svm_model__C = c_opt)\n",
    "pipeline_svr.fit(X_train, y_train)\n",
    "y_pred_svr = pipeline_svr.predict(X_test)\n",
    "print(\"Testing MSE (SVR):\", round(mse(y_test, y_pred_svr), 4))"
   ]
  },
  {
   "cell_type": "code",
   "execution_count": 95,
   "metadata": {},
   "outputs": [],
   "source": [
    "svr_results = {'Predicted_val': y_pred_svr, 'Real_val': y_test}\n",
    "svr_results = pd.DataFrame(svr_results)\n",
    "# svr_results"
   ]
  },
  {
   "cell_type": "markdown",
   "metadata": {},
   "source": [
    "### Dataset classes"
   ]
  },
  {
   "cell_type": "code",
   "execution_count": 96,
   "metadata": {},
   "outputs": [],
   "source": [
    "df_model_final['class'] = 0\n",
    "nclasses = 5"
   ]
  },
  {
   "cell_type": "code",
   "execution_count": 97,
   "metadata": {},
   "outputs": [
    {
     "name": "stdout",
     "output_type": "stream",
     "text": [
      "0.2\n",
      "0.0 0.2\n",
      "0.2 0.4\n",
      "0.4 0.6\n",
      "0.6 0.8\n",
      "0.8 1.0\n"
     ]
    }
   ],
   "source": [
    "# Transform into classes 1 to nclasses\n",
    "step = 1/nclasses\n",
    "print(step)\n",
    "for i in range(nclasses):\n",
    "    inf = float(\"{:.4f}\".format(i*step))\n",
    "    sup = float(\"{:.4f}\".format((i+1)*step))\n",
    "    print(inf,sup)\n",
    "    if (sup < 1):\n",
    "        df_model_final['class'][(df_model_final['Win ratio'] >= inf) & (df_model_final['Win ratio'] < sup)] = i+1\n",
    "    else :\n",
    "        df_model_final['class'][(df_model_final['Win ratio'] >= inf)] = i+1    \n"
   ]
  },
  {
   "cell_type": "code",
   "execution_count": 98,
   "metadata": {},
   "outputs": [],
   "source": [
    "df_model_final = df_model_final.drop('Win ratio', axis=1)"
   ]
  },
  {
   "cell_type": "code",
   "execution_count": 99,
   "metadata": {},
   "outputs": [
    {
     "data": {
      "text/plain": [
       "3    160\n",
       "4    131\n",
       "2    109\n",
       "1     32\n",
       "5     26\n",
       "Name: class, dtype: int64"
      ]
     },
     "execution_count": 99,
     "metadata": {},
     "output_type": "execute_result"
    }
   ],
   "source": [
    "df_model_final['class'].value_counts()"
   ]
  },
  {
   "cell_type": "code",
   "execution_count": 100,
   "metadata": {},
   "outputs": [
    {
     "data": {
      "image/png": "[encoded data removed]",
      "text/plain": [
       "<Figure size 432x288 with 1 Axes>"
      ]
     },
     "metadata": {},
     "output_type": "display_data"
    }
   ],
   "source": [
    "stars = pd.Series((1, 2, 3, 4, 5, 6))\n",
    "vc = df_model_final['class'].value_counts().sort_index()\n",
    "ax = vc.plot(kind='bar')\n",
    "fig = ax.get_figure()\n",
    "fig.autofmt_xdate()\n",
    "plt.title('Class histogram')\n",
    "plt.xlabel('Class')\n",
    "plt.ylabel('Frequency')\n",
    "plt.grid()\n",
    "plt.show()"
   ]
  },
  {
   "cell_type": "code",
   "execution_count": 101,
   "metadata": {},
   "outputs": [],
   "source": [
    "# Select target variable into an ARRAY called `y` and features into a DATAFRAME called  `X` \n",
    "y = np.array(df_model_final['class'])\n",
    "features = list(set(list(df_model_final.columns)) - set(['class']))\n",
    "X = df_model_final.loc[:, features]"
   ]
  },
  {
   "cell_type": "code",
   "execution_count": 102,
   "metadata": {},
   "outputs": [
    {
     "data": {
      "text/html": [
       "<div>\n",
       "<style scoped>\n",
       "    .dataframe tbody tr th:only-of-type {\n",
       "        vertical-align: middle;\n",
       "    }\n",
       "\n",
       "    .dataframe tbody tr th {\n",
       "        vertical-align: top;\n",
       "    }\n",
       "\n",
       "    .dataframe thead th {\n",
       "        text-align: right;\n",
       "    }\n",
       "</style>\n",
       "<table border=\"1\" class=\"dataframe\">\n",
       "  <thead>\n",
       "    <tr style=\"text-align: right;\">\n",
       "      <th></th>\n",
       "      <th>Green</th>\n",
       "      <th>White</th>\n",
       "      <th>Black</th>\n",
       "      <th>Blue</th>\n",
       "      <th>Size of box</th>\n",
       "      <th>Grey</th>\n",
       "    </tr>\n",
       "  </thead>\n",
       "  <tbody>\n",
       "    <tr>\n",
       "      <th>count</th>\n",
       "      <td>92.000000</td>\n",
       "      <td>92.000000</td>\n",
       "      <td>92.000000</td>\n",
       "      <td>92.000000</td>\n",
       "      <td>92.000000</td>\n",
       "      <td>92.000000</td>\n",
       "    </tr>\n",
       "    <tr>\n",
       "      <th>mean</th>\n",
       "      <td>34055.543478</td>\n",
       "      <td>15615.086957</td>\n",
       "      <td>15182.684783</td>\n",
       "      <td>29375.173913</td>\n",
       "      <td>0.052494</td>\n",
       "      <td>210118.706522</td>\n",
       "    </tr>\n",
       "    <tr>\n",
       "      <th>std</th>\n",
       "      <td>15464.789909</td>\n",
       "      <td>10641.241345</td>\n",
       "      <td>10231.984429</td>\n",
       "      <td>24974.591782</td>\n",
       "      <td>0.058041</td>\n",
       "      <td>37646.321917</td>\n",
       "    </tr>\n",
       "    <tr>\n",
       "      <th>min</th>\n",
       "      <td>7917.000000</td>\n",
       "      <td>1466.000000</td>\n",
       "      <td>1811.000000</td>\n",
       "      <td>949.000000</td>\n",
       "      <td>0.000000</td>\n",
       "      <td>124555.000000</td>\n",
       "    </tr>\n",
       "    <tr>\n",
       "      <th>25%</th>\n",
       "      <td>22580.750000</td>\n",
       "      <td>8630.000000</td>\n",
       "      <td>8336.250000</td>\n",
       "      <td>5444.250000</td>\n",
       "      <td>0.005040</td>\n",
       "      <td>191110.500000</td>\n",
       "    </tr>\n",
       "    <tr>\n",
       "      <th>50%</th>\n",
       "      <td>32842.500000</td>\n",
       "      <td>12896.500000</td>\n",
       "      <td>12449.500000</td>\n",
       "      <td>22906.500000</td>\n",
       "      <td>0.026906</td>\n",
       "      <td>215614.000000</td>\n",
       "    </tr>\n",
       "    <tr>\n",
       "      <th>75%</th>\n",
       "      <td>43953.500000</td>\n",
       "      <td>18987.750000</td>\n",
       "      <td>19293.750000</td>\n",
       "      <td>51461.750000</td>\n",
       "      <td>0.087131</td>\n",
       "      <td>231786.000000</td>\n",
       "    </tr>\n",
       "    <tr>\n",
       "      <th>max</th>\n",
       "      <td>70759.000000</td>\n",
       "      <td>67433.000000</td>\n",
       "      <td>54796.000000</td>\n",
       "      <td>89487.000000</td>\n",
       "      <td>0.207269</td>\n",
       "      <td>282956.000000</td>\n",
       "    </tr>\n",
       "  </tbody>\n",
       "</table>\n",
       "</div>"
      ],
      "text/plain": [
       "              Green         White         Black          Blue  Size of box  \\\n",
       "count     92.000000     92.000000     92.000000     92.000000    92.000000   \n",
       "mean   34055.543478  15615.086957  15182.684783  29375.173913     0.052494   \n",
       "std    15464.789909  10641.241345  10231.984429  24974.591782     0.058041   \n",
       "min     7917.000000   1466.000000   1811.000000    949.000000     0.000000   \n",
       "25%    22580.750000   8630.000000   8336.250000   5444.250000     0.005040   \n",
       "50%    32842.500000  12896.500000  12449.500000  22906.500000     0.026906   \n",
       "75%    43953.500000  18987.750000  19293.750000  51461.750000     0.087131   \n",
       "max    70759.000000  67433.000000  54796.000000  89487.000000     0.207269   \n",
       "\n",
       "                Grey  \n",
       "count      92.000000  \n",
       "mean   210118.706522  \n",
       "std     37646.321917  \n",
       "min    124555.000000  \n",
       "25%    191110.500000  \n",
       "50%    215614.000000  \n",
       "75%    231786.000000  \n",
       "max    282956.000000  "
      ]
     },
     "execution_count": 102,
     "metadata": {},
     "output_type": "execute_result"
    }
   ],
   "source": [
    "# Divide data into a training set and a testing set using the train_test_split() function\n",
    "#   NOTE: Please call the subsamples `X_train` ,  `X_test` , `y_train` , `y_test` so we can follow your code\n",
    "X_train, X_test, y_train, y_test = train_test_split(X, y, test_size=0.20, random_state=SEED)\n",
    "X_train.describe()\n",
    "X_test.describe()"
   ]
  },
  {
   "cell_type": "markdown",
   "metadata": {},
   "source": [
    "### Logit model\n"
   ]
  },
  {
   "cell_type": "code",
   "execution_count": 103,
   "metadata": {},
   "outputs": [],
   "source": [
    "from numpy import argmax\n",
    "from sklearn.preprocessing   import StandardScaler\n",
    "from tensorflow.keras.utils import to_categorical"
   ]
  },
  {
   "cell_type": "code",
   "execution_count": 104,
   "metadata": {},
   "outputs": [],
   "source": [
    "def logit_CV(x_train, y_train, c_range):\n",
    "    splits_num = 5\n",
    "\n",
    "    AUC = np.zeros((splits_num, len(c_range)))\n",
    "\n",
    "    for i in range(len(c_range)):\n",
    "\n",
    "        kf = KFold(n_splits=splits_num)\n",
    "\n",
    "        k = 0\n",
    "        for learn_index, val_index in kf.split(x_train):\n",
    "            x_train_train, x_train_val = x_train[learn_index], x_train[val_index]\n",
    "            y_train_train, y_train_val = y_train[learn_index], y_train[val_index]\n",
    "\n",
    "            pipeline_logit.set_params(logit_model_l1__C = c_range[i])\n",
    "\n",
    "            pipeline_logit.fit(x_train_train, y_train_train)\n",
    "\n",
    "            y_pred_logit_proba = pipeline_logit.predict(x_train_val)\n",
    "            \n",
    "            encoded_y_train_val = to_categorical(y_train_val, num_classes=nclasses + 1)\n",
    "            encoded_y_pred_logit_proba = to_categorical(y_pred_logit_proba, num_classes=nclasses + 1)\n",
    "\n",
    "            AUC[k, i] = round(roc_auc_score(encoded_y_train_val[:,1:], encoded_y_pred_logit_proba[:,1:],\n",
    "                                            multi_class=\"ovr\", average='micro'), 4)\n",
    "\n",
    "            k = k+1\n",
    "\n",
    "    auc_mean = np.zeros(len(c_range))\n",
    "    auc_std = np.zeros(len(c_range))\n",
    "    for i in range(len(c_range)):\n",
    "        auc_mean[i] = AUC[:, i].mean()\n",
    "        auc_std[i] = AUC[:, i].std()\n",
    "        \n",
    "    return auc_mean, auc_std"
   ]
  },
  {
   "cell_type": "code",
   "execution_count": 105,
   "metadata": {},
   "outputs": [
    {
     "data": {
      "text/plain": [
       "{'memory': None,\n",
       " 'steps': [('standardize', StandardScaler()),\n",
       "  ('logit_model_l1',\n",
       "   LogisticRegression(penalty='l1', random_state=123456789, solver='saga'))],\n",
       " 'verbose': False,\n",
       " 'standardize': StandardScaler(),\n",
       " 'logit_model_l1': LogisticRegression(penalty='l1', random_state=123456789, solver='saga'),\n",
       " 'standardize__copy': True,\n",
       " 'standardize__with_mean': True,\n",
       " 'standardize__with_std': True,\n",
       " 'logit_model_l1__C': 1.0,\n",
       " 'logit_model_l1__class_weight': None,\n",
       " 'logit_model_l1__dual': False,\n",
       " 'logit_model_l1__fit_intercept': True,\n",
       " 'logit_model_l1__intercept_scaling': 1,\n",
       " 'logit_model_l1__l1_ratio': None,\n",
       " 'logit_model_l1__max_iter': 100,\n",
       " 'logit_model_l1__multi_class': 'auto',\n",
       " 'logit_model_l1__n_jobs': None,\n",
       " 'logit_model_l1__penalty': 'l1',\n",
       " 'logit_model_l1__random_state': 123456789,\n",
       " 'logit_model_l1__solver': 'saga',\n",
       " 'logit_model_l1__tol': 0.0001,\n",
       " 'logit_model_l1__verbose': 0,\n",
       " 'logit_model_l1__warm_start': False}"
      ]
     },
     "execution_count": 105,
     "metadata": {},
     "output_type": "execute_result"
    }
   ],
   "source": [
    "estimators = []\n",
    "estimators.append(('standardize', StandardScaler()))         # tell pipeline to standardize features\n",
    "estimators.append(('logit_model_l1', LogisticRegression(penalty = \"l1\", solver = \"saga\", random_state = SEED)))  # tell pipeline to use a logit model with lasso\n",
    "pipeline_logit = Pipeline(estimators) \n",
    "pipeline_logit.get_params()"
   ]
  },
  {
   "cell_type": "code",
   "execution_count": 106,
   "metadata": {},
   "outputs": [
    {
     "name": "stdout",
     "output_type": "stream",
     "text": [
      "Test AUC (logit): 0.7758152173913043\n"
     ]
    }
   ],
   "source": [
    "c_logit_class=0.12\n",
    "pipeline_logit.set_params(logit_model_l1__C = c_logit_class)\n",
    "pipeline_logit.fit(X_train, y_train)\n",
    "y_pred_logit_proba = pipeline_logit.predict(X_test)\n",
    "encoded_y_test = to_categorical(y_test, num_classes=nclasses + 1)\n",
    "encoded_y_pred_logit_proba = to_categorical(y_pred_logit_proba, num_classes=nclasses + 1)\n",
    "print(\"Test AUC (logit):\", roc_auc_score(encoded_y_test[:,1:], encoded_y_pred_logit_proba[:,1:],\n",
    "                                         multi_class=\"ovr\", average='micro'))    \n",
    "                                    "
   ]
  },
  {
   "cell_type": "markdown",
   "metadata": {},
   "source": [
    "# Process new images"
   ]
  },
  {
   "cell_type": "markdown",
   "metadata": {},
   "source": [
    "## Segmentation"
   ]
  },
  {
   "cell_type": "code",
   "execution_count": 107,
   "metadata": {},
   "outputs": [],
   "source": [
    "from scipy.spatial import distance_matrix\n",
    "from PIL import Image\n",
    "import numpy as np\n",
    "import matplotlib.pyplot as plt\n",
    "import pandas as pd"
   ]
  },
  {
   "cell_type": "code",
   "execution_count": 108,
   "metadata": {},
   "outputs": [],
   "source": [
    "#Setup cluster centers for segmentation\n",
    "cluster_centers=[]\n",
    "cluster_centers.append([0,0,0])         #black\n",
    "\n",
    "cluster_centers.append([70,70,70])      #dark grey\n",
    "cluster_centers.append([125,125,125])   #grey\n",
    "cluster_centers.append([180,180,180])   #light grey\n",
    "\n",
    "cluster_centers.append([255,255,255])   #white\n",
    "\n",
    "cluster_centers.append([50,70,0])       #dark green\n",
    "cluster_centers.append([160,160,90])    #light green\n",
    "\n",
    "cluster_centers.append([90,120,145])    #dark blue\n",
    "cluster_centers.append([130,160,190])   #light blue\n",
    "\n",
    "cluster_centers.append([100,40,30])      #dark red\n",
    "cluster_centers.append([210,100,90])     #red\n",
    "cluster_centers.append([120,110,100])    #orange/brown\n",
    "\n",
    "cluster_centers=np.array(cluster_centers)    \n",
    "\n",
    "rows = 600\n",
    "cols = 600\n",
    "\n",
    "def open_image(nb):\n",
    "    #Open original image\n",
    "    image_path = \"Extrapolation/\" + str(nb) + \".jpg\"\n",
    "    original_image = Image.open(image_path)\n",
    "\n",
    "    #Flatten the image\n",
    "    flattened_image = np.array(original_image)\n",
    "    flattened_image = flattened_image.reshape(rows*cols, 3)\n",
    "    return original_image, flattened_image\n",
    "\n",
    "def segment_images(nb_images):\n",
    "    #Prepare the output, which is a matrix whose lines correspond to each image, and columns to the pixels. The value is the label of the class this pixel in this image belongs to.\n",
    "    images_labels = np.zeros((nb_images,rows*cols))\n",
    "\n",
    "    for i in range(nb_images):\n",
    "\n",
    "        #Open the image\n",
    "        original_image, flattened_image = open_image(i)\n",
    "\n",
    "        #Assign the labels based on the distance to the cluster centers.\n",
    "        dist_mat = distance_matrix(flattened_image, cluster_centers)\n",
    "        assignments = np.argmin(dist_mat, axis=1)\n",
    "\n",
    "        #Replace each pixel value with its nearby centroid\n",
    "        segmented_image = cluster_centers[assignments]\n",
    "        images_labels[i] = assignments\n",
    "        segmented_image = np.clip(segmented_image.astype('uint8'), 0, 255)\n",
    "\n",
    "        #Reshape the image to original dimension\n",
    "        segmented_image = segmented_image.reshape(rows, cols, 3)\n",
    "\n",
    "        # #Save the segmented image in the folder\n",
    "        # output_path = \"SegmentedNewImages/\" + str(i) + \".jpg\"\n",
    "        # im = Image.fromarray(segmented_image)\n",
    "        # im.save(output_path)\n",
    "\n",
    "        #Print a result every 20 steps\n",
    "        if(i % 100 == 0):\n",
    "            print(\"Image \" + str(i))\n",
    "            fig = plt.figure()\n",
    "\n",
    "            #Visualize segmented images against original\n",
    "\n",
    "            ax1 = fig.add_subplot(1, 2, 1)\n",
    "            ax1.imshow(original_image, cmap='Greys_r')\n",
    "            ax2 = fig.add_subplot(1, 2, 2)\n",
    "            ax2.imshow(segmented_image, cmap='Greys_r')\n",
    "            plt.tight_layout()\n",
    "            plt.show()\n",
    "\n",
    "    return images_labels\n",
    "\n",
    "#Get color classes from segmentation by counting number of pixels in each of the (nb_clusters) classes\n",
    "def get_info_images_labels(images_labels):\n",
    "    features = np.zeros((images_labels.shape[0], cluster_centers.shape[0]))\n",
    "\n",
    "    for n in range(images_labels.shape[0]):\n",
    "\n",
    "        labels = images_labels[n]\n",
    "        for k in range(cluster_centers.shape[0]):\n",
    "            features[n,k] = np.count_nonzero(labels == k)       \n",
    "        \n",
    "    return features    \n"
   ]
  },
  {
   "cell_type": "markdown",
   "metadata": {},
   "source": [
    "## Segmented features"
   ]
  },
  {
   "cell_type": "code",
   "execution_count": 109,
   "metadata": {},
   "outputs": [],
   "source": [
    "x_test = pd.read_csv(files+ '/Color_features.csv')"
   ]
  },
  {
   "cell_type": "markdown",
   "metadata": {},
   "source": [
    "## Object detection "
   ]
  },
  {
   "cell_type": "code",
   "execution_count": 111,
   "metadata": {},
   "outputs": [
    {
     "data": {
      "text/html": [
       "<div>\n",
       "<style scoped>\n",
       "    .dataframe tbody tr th:only-of-type {\n",
       "        vertical-align: middle;\n",
       "    }\n",
       "\n",
       "    .dataframe tbody tr th {\n",
       "        vertical-align: top;\n",
       "    }\n",
       "\n",
       "    .dataframe thead th {\n",
       "        text-align: right;\n",
       "    }\n",
       "</style>\n",
       "<table border=\"1\" class=\"dataframe\">\n",
       "  <thead>\n",
       "    <tr style=\"text-align: right;\">\n",
       "      <th></th>\n",
       "      <th>Unnamed: 0</th>\n",
       "      <th>Size of box</th>\n",
       "    </tr>\n",
       "  </thead>\n",
       "  <tbody>\n",
       "    <tr>\n",
       "      <th>count</th>\n",
       "      <td>918.000000</td>\n",
       "      <td>918.000000</td>\n",
       "    </tr>\n",
       "    <tr>\n",
       "      <th>mean</th>\n",
       "      <td>2293.069717</td>\n",
       "      <td>0.068041</td>\n",
       "    </tr>\n",
       "    <tr>\n",
       "      <th>std</th>\n",
       "      <td>1245.859703</td>\n",
       "      <td>0.077685</td>\n",
       "    </tr>\n",
       "    <tr>\n",
       "      <th>min</th>\n",
       "      <td>2.500000</td>\n",
       "      <td>0.000144</td>\n",
       "    </tr>\n",
       "    <tr>\n",
       "      <th>25%</th>\n",
       "      <td>1248.500000</td>\n",
       "      <td>0.011619</td>\n",
       "    </tr>\n",
       "    <tr>\n",
       "      <th>50%</th>\n",
       "      <td>2351.000000</td>\n",
       "      <td>0.037712</td>\n",
       "    </tr>\n",
       "    <tr>\n",
       "      <th>75%</th>\n",
       "      <td>3356.875000</td>\n",
       "      <td>0.103484</td>\n",
       "    </tr>\n",
       "    <tr>\n",
       "      <th>max</th>\n",
       "      <td>4362.000000</td>\n",
       "      <td>0.635542</td>\n",
       "    </tr>\n",
       "  </tbody>\n",
       "</table>\n",
       "</div>"
      ],
      "text/plain": [
       "        Unnamed: 0  Size of box\n",
       "count   918.000000   918.000000\n",
       "mean   2293.069717     0.068041\n",
       "std    1245.859703     0.077685\n",
       "min       2.500000     0.000144\n",
       "25%    1248.500000     0.011619\n",
       "50%    2351.000000     0.037712\n",
       "75%    3356.875000     0.103484\n",
       "max    4362.000000     0.635542"
      ]
     },
     "execution_count": 111,
     "metadata": {},
     "output_type": "execute_result"
    }
   ],
   "source": [
    "objects = pd.read_csv(files+'/Object_features.csv')\n",
    "size = objects[['Image number','Size of box']].groupby('Image number').sum()\n",
    "size = size / 360000\n",
    "objects.drop(['Object','Reliability','Size of box'], axis=1, inplace=True)\n",
    "objects = pd.merge(objects, size, on='Image number', how='outer')\n",
    "objects = objects.groupby('Image number').mean()\n",
    "objects.describe()"
   ]
  },
  {
   "cell_type": "markdown",
   "metadata": {},
   "source": [
    "## Gather all image features in a dataset"
   ]
  },
  {
   "cell_type": "code",
   "execution_count": 112,
   "metadata": {},
   "outputs": [
    {
     "data": {
      "text/html": [
       "<div>\n",
       "<style scoped>\n",
       "    .dataframe tbody tr th:only-of-type {\n",
       "        vertical-align: middle;\n",
       "    }\n",
       "\n",
       "    .dataframe tbody tr th {\n",
       "        vertical-align: top;\n",
       "    }\n",
       "\n",
       "    .dataframe thead th {\n",
       "        text-align: right;\n",
       "    }\n",
       "</style>\n",
       "<table border=\"1\" class=\"dataframe\">\n",
       "  <thead>\n",
       "    <tr style=\"text-align: right;\">\n",
       "      <th></th>\n",
       "      <th>Green</th>\n",
       "      <th>White</th>\n",
       "      <th>Black</th>\n",
       "      <th>Blue</th>\n",
       "      <th>Size of box</th>\n",
       "      <th>Grey</th>\n",
       "    </tr>\n",
       "  </thead>\n",
       "  <tbody>\n",
       "    <tr>\n",
       "      <th>count</th>\n",
       "      <td>1010.000000</td>\n",
       "      <td>1010.000000</td>\n",
       "      <td>1010.000000</td>\n",
       "      <td>1010.000000</td>\n",
       "      <td>918.000000</td>\n",
       "      <td>1010.000000</td>\n",
       "    </tr>\n",
       "    <tr>\n",
       "      <th>mean</th>\n",
       "      <td>26532.427723</td>\n",
       "      <td>15914.737624</td>\n",
       "      <td>12364.089109</td>\n",
       "      <td>17638.124752</td>\n",
       "      <td>0.068041</td>\n",
       "      <td>211405.396040</td>\n",
       "    </tr>\n",
       "    <tr>\n",
       "      <th>std</th>\n",
       "      <td>16909.015872</td>\n",
       "      <td>11676.280030</td>\n",
       "      <td>9525.814068</td>\n",
       "      <td>20132.608114</td>\n",
       "      <td>0.077685</td>\n",
       "      <td>40729.201392</td>\n",
       "    </tr>\n",
       "    <tr>\n",
       "      <th>min</th>\n",
       "      <td>1981.000000</td>\n",
       "      <td>163.000000</td>\n",
       "      <td>335.000000</td>\n",
       "      <td>15.000000</td>\n",
       "      <td>0.000144</td>\n",
       "      <td>99975.000000</td>\n",
       "    </tr>\n",
       "    <tr>\n",
       "      <th>25%</th>\n",
       "      <td>13911.000000</td>\n",
       "      <td>6933.500000</td>\n",
       "      <td>6031.000000</td>\n",
       "      <td>4166.500000</td>\n",
       "      <td>0.011619</td>\n",
       "      <td>183823.750000</td>\n",
       "    </tr>\n",
       "    <tr>\n",
       "      <th>50%</th>\n",
       "      <td>22388.500000</td>\n",
       "      <td>14050.500000</td>\n",
       "      <td>10032.000000</td>\n",
       "      <td>10220.500000</td>\n",
       "      <td>0.037712</td>\n",
       "      <td>211766.500000</td>\n",
       "    </tr>\n",
       "    <tr>\n",
       "      <th>75%</th>\n",
       "      <td>35501.500000</td>\n",
       "      <td>22454.750000</td>\n",
       "      <td>15536.250000</td>\n",
       "      <td>22512.000000</td>\n",
       "      <td>0.103484</td>\n",
       "      <td>240153.500000</td>\n",
       "    </tr>\n",
       "    <tr>\n",
       "      <th>max</th>\n",
       "      <td>154601.000000</td>\n",
       "      <td>85078.000000</td>\n",
       "      <td>72845.000000</td>\n",
       "      <td>120511.000000</td>\n",
       "      <td>0.635542</td>\n",
       "      <td>331177.000000</td>\n",
       "    </tr>\n",
       "  </tbody>\n",
       "</table>\n",
       "</div>"
      ],
      "text/plain": [
       "               Green         White         Black           Blue  Size of box  \\\n",
       "count    1010.000000   1010.000000   1010.000000    1010.000000   918.000000   \n",
       "mean    26532.427723  15914.737624  12364.089109   17638.124752     0.068041   \n",
       "std     16909.015872  11676.280030   9525.814068   20132.608114     0.077685   \n",
       "min      1981.000000    163.000000    335.000000      15.000000     0.000144   \n",
       "25%     13911.000000   6933.500000   6031.000000    4166.500000     0.011619   \n",
       "50%     22388.500000  14050.500000  10032.000000   10220.500000     0.037712   \n",
       "75%     35501.500000  22454.750000  15536.250000   22512.000000     0.103484   \n",
       "max    154601.000000  85078.000000  72845.000000  120511.000000     0.635542   \n",
       "\n",
       "                Grey  \n",
       "count    1010.000000  \n",
       "mean   211405.396040  \n",
       "std     40729.201392  \n",
       "min     99975.000000  \n",
       "25%    183823.750000  \n",
       "50%    211766.500000  \n",
       "75%    240153.500000  \n",
       "max    331177.000000  "
      ]
     },
     "execution_count": 112,
     "metadata": {},
     "output_type": "execute_result"
    }
   ],
   "source": [
    "x_test['Size of box'] = objects['Size of box']\n",
    "x_test = x_test.iloc[: , 1:] #Just to remove this Unnamed 0 column\n",
    "x_test.describe()\n",
    "x_test_final=pd.DataFrame()\n",
    "cols = X_test.columns\n",
    "for c in cols:\n",
    "    x_test_final[c] = x_test[c]\n",
    "\n",
    "x_test_final.describe()    "
   ]
  },
  {
   "cell_type": "markdown",
   "metadata": {},
   "source": [
    "# Generate predictions for the images"
   ]
  },
  {
   "cell_type": "code",
   "execution_count": 113,
   "metadata": {},
   "outputs": [],
   "source": [
    "# predictions = pipeline_logit.predict(x_test_final.fillna(0))\n",
    "# encoded_predictions = to_categorical(predictions, num_classes=nclasses + 1)"
   ]
  },
  {
   "cell_type": "code",
   "execution_count": 115,
   "metadata": {},
   "outputs": [],
   "source": [
    "predictions = pipeline_svr.predict(x_test_final.fillna(0))"
   ]
  },
  {
   "cell_type": "code",
   "execution_count": 116,
   "metadata": {},
   "outputs": [
    {
     "data": {
      "text/plain": [
       "array([0.45007289, 0.44143809, 0.45656381, ..., 0.39843955, 0.36153474,\n",
       "       0.32585224])"
      ]
     },
     "execution_count": 116,
     "metadata": {},
     "output_type": "execute_result"
    }
   ],
   "source": [
    "predictions"
   ]
  },
  {
   "cell_type": "code",
   "execution_count": 117,
   "metadata": {},
   "outputs": [],
   "source": [
    "pd.DataFrame(predictions).to_csv(files+'/predictions')"
   ]
  },
  {
   "cell_type": "code",
   "execution_count": null,
   "metadata": {},
   "outputs": [],
   "source": []
  }
 ],
 "metadata": {
  "kernelspec": {
   "display_name": "Python 3 (ipykernel)",
   "language": "python",
   "name": "python3"
  },
  "language_info": {
   "codemirror_mode": {
    "name": "ipython",
    "version": 3
   },
   "file_extension": ".py",
   "mimetype": "text/x-python",
   "name": "python",
   "nbconvert_exporter": "python",
   "pygments_lexer": "ipython3",
   "version": "3.9.7"
  }
 },
 "nbformat": 4,
 "nbformat_minor": 4
}
